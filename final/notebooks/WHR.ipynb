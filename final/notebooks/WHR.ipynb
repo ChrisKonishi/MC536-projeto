{
 "cells": [
  {
   "cell_type": "code",
   "execution_count": 1,
   "metadata": {},
   "outputs": [
    {
     "name": "stdout",
     "output_type": "stream",
     "text": [
      "               whr                                           official\n",
      "0          Bolivia                   Bolivia (Plurinational State of)\n",
      "1   Czech Republic                                            Czechia\n",
      "2             Iran                         Iran (Islamic Republic of)\n",
      "3        Macedonia                                    North Macedonia\n",
      "4           Russia                                 Russian Federation\n",
      "5      South Korea                                 Korea, Republic of\n",
      "6            Syria                               Syrian Arab Republic\n",
      "7           Taiwan                          Taiwan, Province of China\n",
      "8   United Kingdom  United Kingdom of Great Britain and Northern I...\n",
      "9    United States                           United States of America\n",
      "10       Venezuela                 Venezuela (Bolivarian Republic of)\n"
     ]
    }
   ],
   "source": [
    "# mismatched countries\n",
    "import pandas as pd\n",
    "\n",
    "replace_names = pd.read_csv(\"../data/raw/WHR/wrong_names.txt\")\n",
    "print(replace_names.head(20))"
   ]
  },
  {
   "cell_type": "code",
   "execution_count": 2,
   "metadata": {},
   "outputs": [],
   "source": [
    "import os\n",
    "\n",
    "in_files = [\n",
    "    \"../data/raw/WHR/2015.csv\",\n",
    "    \"../data/raw/WHR/2016.csv\",\n",
    "    \"../data/raw/WHR/2017.csv\",\n",
    "    \"../data/raw/WHR/2018.csv\",\n",
    "    \"../data/raw/WHR/2019.csv\",\n",
    "]\n",
    "\n",
    "y = [i for i in range(2015, 2020)]\n",
    "\n",
    "out_dir = \"../data/interim/whr\"\n",
    "\n",
    "try:\n",
    "    os.makedirs(\"../data/interim/whr\")\n",
    "except FileExistsError:\n",
    "    pass\n",
    "\n",
    "for i in range(len(in_files)):\n",
    "    a = open(in_files[i], \"r\")\n",
    "    txt = a.read()\n",
    "    a.close()\n",
    "\n",
    "    for j in range(len(replace_names)):\n",
    "        iname = replace_names[\"whr\"][j]\n",
    "        #iname =  \"\\\"\" + iname + \"\\\"\"\n",
    "        oname = replace_names[\" official\"][j]\n",
    "        if \",\" in oname and y[i] !=2017:\n",
    "            oname = \"\\\"\" + oname + \"\\\"\"\n",
    "        txt = txt.replace(iname, oname)\n",
    "    \n",
    "    f = open(os.path.join(out_dir, str(y[i])+\".csv\"), \"w\")\n",
    "    f.write(txt)\n",
    "    f.close()"
   ]
  },
  {
   "cell_type": "code",
   "execution_count": null,
   "metadata": {},
   "outputs": [],
   "source": []
  }
 ],
 "metadata": {
  "kernelspec": {
   "display_name": "Python 3",
   "language": "python",
   "name": "python3"
  },
  "language_info": {
   "codemirror_mode": {
    "name": "ipython",
    "version": 3
   },
   "file_extension": ".py",
   "mimetype": "text/x-python",
   "name": "python",
   "nbconvert_exporter": "python",
   "pygments_lexer": "ipython3",
   "version": "3.7.8"
  },
  "toc": {
   "base_numbering": 1,
   "nav_menu": {},
   "number_sections": false,
   "sideBar": false,
   "skip_h1_title": false,
   "title_cell": "Table of Contents",
   "title_sidebar": "Contents",
   "toc_cell": false,
   "toc_position": {},
   "toc_section_display": false,
   "toc_window_display": false
  }
 },
 "nbformat": 4,
 "nbformat_minor": 2
}
