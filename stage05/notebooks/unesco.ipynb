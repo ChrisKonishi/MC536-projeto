{
 "cells": [
  {
   "cell_type": "code",
   "execution_count": 2,
   "metadata": {
    "tags": []
   },
   "outputs": [
    {
     "name": "stdout",
     "output_type": "stream",
     "text": [
      "{'ind': '200101', 'local': 'ABW', 'valores': {'2014': '104', '2015': '104', '2016': '105', '2017': '105', '2018': '106', '2019': '106', '2020': '107'}}\n"
     ]
    }
   ],
   "source": [
    "import xml.etree.ElementTree as et\n",
    "import sqlite3\n",
    "\n",
    "data_path = \"../data/raw/unesco/unesco_socio_economics.xml\"\n",
    "root = et.parse(data_path).getroot()\n",
    "\n",
    "ns = {\n",
    "    \"generic\": \"http://www.SDMX.org/resources/SDMXML/schemas/v2_0/generic\",\n",
    "    \"common\": \"http://www.SDMX.org/resources/SDMXML/schemas/v2_0/common\",\n",
    "    \"xsi\": \"http://www.w3.org/2001/XMLSchema-instance\",\n",
    "    \"message\": \"http://www.SDMX.org/resources/SDMXML/schemas/v2_0/message\"\n",
    "}\n",
    "\n",
    "dataset = root.find(\"generic:DataSet\", ns)\n",
    "\n",
    "dados = []\n",
    "\n",
    "for series in dataset.findall(\"generic:Series\", ns):\n",
    "\n",
    "    # indicador e local\n",
    "    key = series.find(\"generic:SeriesKey\", ns).findall(\"generic:Value\", ns)\n",
    "    indicador = key[0].attrib[\"value\"]\n",
    "    loc = key[1].attrib[\"value\"]\n",
    "    \n",
    "    valores = {} # <ano>: <valor> tudo como string\n",
    "    # ano e valor\n",
    "    for obs in series.findall(\"generic:Obs\", ns):\n",
    "        ano = obs[0].text\n",
    "        valor = obs[1].attrib[\"value\"]\n",
    "        valores[ano] = valor\n",
    "\n",
    "    dadosEntry = {}\n",
    "    dadosEntry[\"ind\"] = indicador\n",
    "    dadosEntry[\"local\"] = loc\n",
    "    dadosEntry[\"valores\"] = valores\n",
    "\n",
    "    dados.append(dadosEntry)\n",
    "\n",
    "print(dados[0])\n",
    "    "
   ]
  },
  {
   "cell_type": "code",
   "execution_count": 3,
   "metadata": {},
   "outputs": [
    {
     "name": "stdout",
     "output_type": "stream",
     "text": [
      "{'SP_DYN_TFRT_IN': 'Fertility rate, total (births per woman)', 'DEMO_H1_H1': 'Demographic indicators', 'DEMO_H1': 'Demographic', 'SP_DYN_LE00_IN': 'Life expectancy at birth, total (years)', 'SP_DYN_IMRT_IN': 'Mortality rate, infant (per 1,000 live births)', '200343': 'Population aged 14 years or younger (thousands)', '200144': 'Population aged 15-24 years (thousands)', '200345': 'Population aged 25-64 years (thousands) ', '200151': 'Population aged 65 years or older (thousands)', 'SP_POP_GROW': 'Population growth (annual %)', 'SH_DYN_AIDS_ZS': 'Prevalence of HIV, total (% of population ages 15-49)', 'SP_RUR_TOTL_ZS': 'Rural population (% of total population)', '200101': 'Total population (thousands)', 'NY_GDP_MKTP_CN': 'GDP (current LCU)', 'DEMO_H2_H1': 'Socio-economic indicators', 'DEMO_H2': 'Socio-economic', 'NY_GDP_MKTP_CD': 'GDP (current US$)', 'NY_GDP_DEFL_ZS': 'GDP deflator (base year varies by country)', 'NY_GDP_MKTP_KD_ZG': 'GDP growth (annual %)', 'NY_GDP_PCAP_CD': 'GDP per capita (current US$)', 'NY_GDP_PCAP_PP_CD': 'GDP per capita, PPP (current international $)', 'NY_GDP_MKTP_PP_CD': 'GDP, PPP (current international $)', 'XTGOV_IMF': 'General government total expenditure (current LCU)', 'NY_GNP_PCAP_CD': 'GNI per capita, Atlas method (current US$)', 'NY_GNP_PCAP_PP_CD': 'GNI per capita, PPP (current international $)', 'PA_NUS_PPP': 'PPP conversion factor, GDP (LCU per international $)', 'DT_TDS_DECT_GN_ZS': 'Total debt service (% of GNI)', 'NY_GDP_MKTP_KD': 'GDP at market prices (constant 2010 US$)', 'NY_GDP_MKTP_KN': 'GDP (constant LCU)', 'NY_GDP_MKTP_PP_KD': 'GDP, PPP (constant 2011 international $)', 'NY_GDP_PCAP_CN': 'GDP per capita (current LCU)', 'NY_GDP_PCAP_PP_KD': 'GDP per capita, PPP (constant 2011 international $)', 'NY_GNP_MKTP_CN': 'GNI (current LCU)', 'NY_GNP_PCAP_CN': 'GNI per capita (current LCU)', 'PA_NUS_ATLS': 'DEC alternative conversion factor (LCU per US$)', 'PA_NUS_FCRF': 'Official exchange rate (LCU per US$, period average)', 'PA_NUS_PPPC_RF': 'Price level ratio of PPP conversion factor (GDP) to market exchange rate', 'PA_NUS_PRVT_PP': 'PPP conversion factor, private consumption (LCU per international $)', 'SI_POV_LMIC': 'Poverty headcount ratio at $3.20 a day (PPP) (% of population)'}\n"
     ]
    }
   ],
   "source": [
    "# get description\n",
    "\n",
    "import io\n",
    "import requests\n",
    "import xml.etree.ElementTree as et\n",
    "\n",
    "url = \"http://data.uis.unesco.org/RestSDMX/sdmx.ashx/GetDataStructure/DEMO_DS\"\n",
    "data = requests.get(url).content\n",
    "root = et.parse(io.StringIO(data.decode(\"utf-8\")))\n",
    "\n",
    "code_dict = {}\n",
    "\n",
    "ns = {\n",
    "    \"gen\": \"http://www.SDMX.org/resources/SDMXML/schemas/v2_0/structure\",\n",
    "    \"message\": \"http://www.SDMX.org/resources/SDMXML/schemas/v2_0/message\" \n",
    "}\n",
    "\n",
    "ind_list = root.find(\"message:CodeLists\", ns).find(\"gen:CodeList\", ns)\n",
    "\n",
    "for ind in ind_list.findall(\"gen:Code\", ns):\n",
    "    code = ind.attrib[\"value\"]\n",
    "    desc = ind.find(\"gen:Description\", ns).text\n",
    "\n",
    "    code_dict[code] = desc\n",
    "\n",
    "print(code_dict)\n"
   ]
  },
  {
   "cell_type": "code",
   "execution_count": 4,
   "metadata": {},
   "outputs": [],
   "source": [
    "#indicators of interest\n",
    "indicators = [\n",
    "    \"SP_DYN_LE00_IN\", #expectativa de vida\n",
    "    \"SP_DYN_IMRT_IN\", #mortalidade infantil por 1000 nascimentos\n",
    "    \"NY_GDP_MKTP_CD\", #GDP (current US$)\n",
    "    \"NY_GDP_PCAP_CD\", #pib per capita\n",
    "    \"NY_GDP_MKTP_KD_ZG\", # GDP growth (annual %)\n",
    "    \"200343\", #Population aged 14 years or younger (thousands)\n",
    "    \"200144\", #Population aged 15-24 years (thousands)\n",
    "    \"200345\", #Population aged 25-64 years (thousands) \n",
    "    \"200151\", #Population aged 65 years or older (thousands)\n",
    "    \"SP_RUR_TOTL_ZS\", #Rural population (% of total population)\n",
    "    \"200101\"  #Total population (thousands)\n",
    "]"
   ]
  },
  {
   "cell_type": "code",
   "execution_count": 5,
   "metadata": {
    "tags": []
   },
   "outputs": [],
   "source": [
    "ind_columns = {}\n",
    "for i in indicators:\n",
    "    ind_columns[i] = []\n",
    "\n",
    "year = []\n",
    "ind_code = []\n",
    "indicator = []\n",
    "local = []\n",
    "value = []\n",
    "\n",
    "#gerar arvore de busca\n",
    "tree_data = {}\n",
    "\n",
    "for i in dados:\n",
    "    if not(i[\"ind\"] in indicators):\n",
    "        continue\n",
    "\n",
    "    if not(i[\"local\"] in tree_data):\n",
    "        tree_data[i[\"local\"]] = {}\n",
    "\n",
    "    if not(i[\"ind\"] in tree_data[i[\"local\"]]):\n",
    "        tree_data[i[\"local\"]][i[\"ind\"]] = {}\n",
    "\n",
    "    for year in i[\"valores\"].keys():\n",
    "        year = int(year)\n",
    "        if not(year in tree_data[i[\"local\"]][i[\"ind\"]]):\n",
    "            tree_data[i[\"local\"]][i[\"ind\"]][year] = float(i[\"valores\"][str(year)])\n",
    "\n",
    "        \n",
    "#print(tree_data)\n",
    "    \n"
   ]
  },
  {
   "cell_type": "code",
   "execution_count": 6,
   "metadata": {
    "tags": []
   },
   "outputs": [],
   "source": [
    "#make tables\n",
    "import pandas as pd\n",
    "import os\n",
    "\n",
    "tgt_path = \"../data/processed/unesco/unesco_processed_data\"\n",
    "\n",
    "try:\n",
    "    os.makedirs(tgt_path)\n",
    "except FileExistsError:\n",
    "    pass\n",
    "\n",
    "\n",
    "years = [i for i in range(2015, 2020)]\n",
    "\n",
    "tables = [{} for i in years]\n",
    "for i in tables:\n",
    "    i[\"Local\"] = []\n",
    "    for j in indicators:\n",
    "        i[j] = []\n",
    "\n",
    "\n",
    "for c, y in enumerate(years):\n",
    "    for loc in tree_data.keys():\n",
    "        tables[c][\"Local\"].append(loc)\n",
    "        for ind in indicators:\n",
    "            try:\n",
    "                tables[c][ind].append(tree_data[loc][ind][y])\n",
    "            except:\n",
    "                tables[c][ind].append(\"\")\n",
    "\n",
    "\n",
    "#print(tables[0])\n",
    "for idx, val in enumerate(tables):\n",
    "    df = pd.DataFrame(val)\n",
    "    name = \"unesco_socio_eco_{}.csv\".format(years[idx])\n",
    "    df.to_csv(os.path.join(tgt_path, name), index=False)\n",
    "\n",
    "desc = {}\n",
    "desc[\"codigo\"] = []\n",
    "desc[\"descricao\"] = []\n",
    "for i in code_dict.keys():\n",
    "    desc[\"codigo\"].append(i)\n",
    "    desc[\"descricao\"].append(code_dict[i])\n",
    "\n",
    "df = pd.DataFrame(desc)\n",
    "df.to_csv(os.path.join(tgt_path, \"unesco_descricao.csv\"), index=False)"
   ]
  },
  {
   "cell_type": "code",
   "execution_count": null,
   "metadata": {},
   "outputs": [],
   "source": []
  },
  {
   "cell_type": "code",
   "execution_count": null,
   "metadata": {},
   "outputs": [],
   "source": []
  }
 ],
 "metadata": {
  "kernelspec": {
   "display_name": "Python 3",
   "language": "python",
   "name": "python3"
  },
  "language_info": {
   "codemirror_mode": {
    "name": "ipython",
    "version": 3
   },
   "file_extension": ".py",
   "mimetype": "text/x-python",
   "name": "python",
   "nbconvert_exporter": "python",
   "pygments_lexer": "ipython3",
   "version": "3.8.3"
  },
  "toc": {
   "base_numbering": 1,
   "nav_menu": {},
   "number_sections": false,
   "sideBar": false,
   "skip_h1_title": false,
   "title_cell": "Table of Contents",
   "title_sidebar": "Contents",
   "toc_cell": false,
   "toc_position": {},
   "toc_section_display": false,
   "toc_window_display": false
  }
 },
 "nbformat": 4,
 "nbformat_minor": 4
}
