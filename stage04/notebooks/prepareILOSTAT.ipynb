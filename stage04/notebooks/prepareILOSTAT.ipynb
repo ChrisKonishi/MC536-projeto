{
 "cells": [
  {
   "cell_type": "code",
   "execution_count": 1,
   "metadata": {},
   "outputs": [],
   "source": [
    "%defaultDatasource jdbc:h2:file:./database/ILOSTATdata.db"
   ]
  },
  {
   "cell_type": "markdown",
   "metadata": {},
   "source": [
    "# Destruir tabelas"
   ]
  },
  {
   "cell_type": "code",
   "execution_count": 2,
   "metadata": {},
   "outputs": [],
   "source": [
    "\n",
    "DROP TABLE IF EXISTS POPULATION_PROP;\n",
    "DROP TABLE IF EXISTS POPULATION_TOTAL;\n",
    "DROP TABLE IF EXISTS UNEMPLOYMENT;\n",
    "DROP TABLE IF EXISTS POVERTY;"
   ]
  },
  {
   "cell_type": "markdown",
   "metadata": {},
   "source": [
    "# Carregar dados pré filtrados da ILOSTAT"
   ]
  },
  {
   "cell_type": "code",
   "execution_count": 3,
   "metadata": {},
   "outputs": [],
   "source": [
    "DROP TABLE IF EXISTS UNEMPLOYMENT;\n",
    "DROP TABLE IF EXISTS POVERTY;\n",
    "\n",
    "\n",
    "-- porcentagem da populacao acima de 15 anos abaixo da linha de poobreza\n",
    "CREATE TABLE POVERTY(\n",
    "    LOCAL VARCHAR(50),\n",
    "    ANO INTEGER,\n",
    "    POBREZA DOUBLE,\n",
    "    PRIMARY KEY(LOCAL,ANO)\n",
    ") AS SELECT \n",
    "    ref_area,\n",
    "    time,\n",
    "    obs_value\n",
    "FROM CSVREAD('./datasets/ILOSTAT_CHRIS/poverty_age15plus.csv');\n",
    "\n",
    "\n",
    "-- populacao desempregada (%) de 15 a 64 anos\n",
    "CREATE TABLE UNEMPLOYMENT(\n",
    "    LOCAL VARCHAR(50),\n",
    "    ANO INTEGER,\n",
    "    DESEMPREGO DOUBLE,\n",
    "    PRIMARY KEY(LOCAL,ANO)\n",
    ") AS SELECT \n",
    "    ref_area,\n",
    "    time,\n",
    "    obs_value\n",
    "FROM CSVREAD('./datasets/ILOSTAT_CHRIS/unemployment_age15to64.csv');\n"
   ]
  },
  {
   "cell_type": "code",
   "execution_count": 4,
   "metadata": {},
   "outputs": [
    {
     "data": {
      "application/vnd.jupyter.widget-view+json": {
       "model_id": "4c04ed03-cbd0-4928-886d-603314c41425",
       "version_major": 2,
       "version_minor": 0
      },
      "method": "display_data"
     },
     "metadata": {},
     "output_type": "display_data"
    },
    {
     "data": {
      "application/vnd.jupyter.widget-view+json": {
       "model_id": "c0ee596c-f9b1-4b20-8188-39d99e914acc",
       "version_major": 2,
       "version_minor": 0
      },
      "method": "display_data"
     },
     "metadata": {},
     "output_type": "display_data"
    }
   ],
   "source": [
    "SELECT * FROM POVERTY;\n",
    "SELECT * FROM UNEMPLOYMENT;"
   ]
  },
  {
   "cell_type": "markdown",
   "metadata": {},
   "source": [
    "### Juntar tabelas"
   ]
  },
  {
   "cell_type": "code",
   "execution_count": 16,
   "metadata": {},
   "outputs": [
    {
     "data": {
      "text/plain": [
       "271"
      ]
     },
     "execution_count": 16,
     "metadata": {},
     "output_type": "execute_result"
    }
   ],
   "source": [
    "DROP TABLE IF EXISTS ILOSTAT;\n",
    "\n",
    "UPDATE UNEMPLOYMENT\n",
    "SET DESEMPREGO = NULL\n",
    "WHERE DESEMPREGO = 0;\n",
    "\n",
    "UPDATE POVERTY\n",
    "SET POBREZA = NULL\n",
    "WHERE POBREZA = 0;\n",
    "\n",
    "CREATE VIEW ILOSTAT AS\n",
    "SELECT P.LOCAL, P.ANO, U.DESEMPREGO, P.POBREZA\n",
    "FROM POVERTY P, UNEMPLOYMENT U\n",
    "WHERE P.LOCAL = U.LOCAL AND P.ANO = U.ANO;\n",
    "\n",
    "CALL CSVWRITE('./ilostat_processed/ilostat_processed.csv', 'SELECT * FROM ILOSTAT');"
   ]
  },
  {
   "cell_type": "code",
   "execution_count": 14,
   "metadata": {},
   "outputs": [
    {
     "data": {
      "application/vnd.jupyter.widget-view+json": {
       "model_id": "fe69001c-8bc2-473f-9a1d-bcc06059ba33",
       "version_major": 2,
       "version_minor": 0
      },
      "method": "display_data"
     },
     "metadata": {},
     "output_type": "display_data"
    }
   ],
   "source": [
    "SELECT * FROM ILOSTAT;"
   ]
  }
 ],
 "metadata": {
  "kernelspec": {
   "display_name": "SQL",
   "language": "SQL",
   "name": "sql"
  },
  "language_info": {
   "codemirror_mode": "sql",
   "file_extension": ".sql",
   "mimetype": "",
   "name": "SQL",
   "nbconverter_exporter": "",
   "version": ""
  },
  "toc": {
   "base_numbering": 1,
   "nav_menu": {},
   "number_sections": false,
   "sideBar": false,
   "skip_h1_title": false,
   "title_cell": "Table of Contents",
   "title_sidebar": "Contents",
   "toc_cell": false,
   "toc_position": {},
   "toc_section_display": false,
   "toc_window_display": false
  }
 },
 "nbformat": 4,
 "nbformat_minor": 4
}
