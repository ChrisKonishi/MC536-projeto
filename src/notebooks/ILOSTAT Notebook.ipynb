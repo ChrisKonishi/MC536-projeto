{
 "cells": [
  {
   "cell_type": "markdown",
   "metadata": {},
   "source": [
    "# Dados extraídos do ILOSTAT"
   ]
  },
  {
   "cell_type": "code",
   "execution_count": 1,
   "metadata": {},
   "outputs": [],
   "source": [
    "import pandas as pd\n",
    "import sqlite3\n",
    "\n",
    "#Indice de desemprego\n",
    "unploymentRatePath = \"./datasets/ILOSTAT/unemployment_rate.csv\"\n",
    "\n",
    "#População por localização/sexo/idade\n",
    "populationPath = \"./datasets/ILOSTAT/population.csv\"\n",
    "\n",
    "#Indice de falta de condições dignas de trabalho\n",
    "workingPovertyPath = \"./datasets/ILOSTAT/working_poverty_rate.csv\"\n",
    "\n",
    "#Indice de interferência infantil na economia\n",
    "childrenEconomicActPath = \"./datasets/ILOSTAT/children_economic_act.csv\"\n",
    "\n",
    "#Country Codes ISO-3166\n",
    "path = \"./datasets/CountryRegionalCode.csv\"\n",
    "\n",
    "#Selecionando colunas importantes para nós\n",
    "colRegionList = [\"alpha-3\", \"region\"]\n",
    "\n",
    "#Arquivo ecom as nossas pré-definições\n",
    "countryRegionalCode = pd.read_csv(path, usecols=colRegionList)\n"
   ]
  },
  {
   "cell_type": "markdown",
   "metadata": {},
   "source": [
    "## Indice de desemprego --"
   ]
  },
  {
   "cell_type": "code",
   "execution_count": 2,
   "metadata": {},
   "outputs": [
    {
     "name": "stdout",
     "output_type": "stream",
     "text": [
      "       region    sex             classif1  obs_value\n",
      "ABW  Americas    NaN                  NaN        NaN\n",
      "AFG      Asia  SEX_T   AGE_YTHADULT_YGE15     7.9145\n",
      "AFG      Asia  SEX_T  AGE_YTHADULT_Y15-64     7.9640\n",
      "AFG      Asia  SEX_T  AGE_YTHADULT_Y15-24     9.9628\n",
      "AFG      Asia  SEX_T   AGE_YTHADULT_YGE25     6.7730\n",
      "..        ...    ...                  ...        ...\n",
      "ZWE    Africa  SEX_M   AGE_YTHADULT_YGE25    13.1963\n",
      "ZWE    Africa  SEX_F   AGE_YTHADULT_YGE15    17.8984\n",
      "ZWE    Africa  SEX_F  AGE_YTHADULT_Y15-64    18.1246\n",
      "ZWE    Africa  SEX_F  AGE_YTHADULT_Y15-24    31.4087\n",
      "ZWE    Africa  SEX_F   AGE_YTHADULT_YGE25    14.5437\n",
      "\n",
      "[20968 rows x 4 columns]\n"
     ]
    }
   ],
   "source": [
    "#Selecionando colunas importantes para nós\n",
    "cols = [\"ref_area\", \"sex\", \"classif1\", \"obs_value\"]\n",
    "\n",
    "#Indice de desemprego\n",
    "data = pd.read_csv(unploymentRatePath, usecols=cols)\n",
    "\n",
    "joinData = countryRegionalCode.set_index('alpha-3').join(data.set_index('ref_area'))\n",
    "\n",
    "print(joinData)"
   ]
  },
  {
   "cell_type": "markdown",
   "metadata": {},
   "source": [
    "## População por localização/sexo/idade --"
   ]
  },
  {
   "cell_type": "code",
   "execution_count": 3,
   "metadata": {},
   "outputs": [
    {
     "name": "stdout",
     "output_type": "stream",
     "text": [
      "       region    sex             classif1  obs_value\n",
      "ABW  Americas    NaN                  NaN        NaN\n",
      "AFG      Asia  SEX_T   AGE_5YRBANDS_TOTAL  12412.311\n",
      "AFG      Asia  SEX_T  AGE_5YRBANDS_Y00-04   2412.476\n",
      "AFG      Asia  SEX_T  AGE_5YRBANDS_Y05-09   1958.690\n",
      "AFG      Asia  SEX_T  AGE_5YRBANDS_Y10-14   1625.001\n",
      "..        ...    ...                  ...        ...\n",
      "ZWE    Africa  SEX_M   AGE_YTHADULT_YGE25   3339.235\n",
      "ZWE    Africa  SEX_F   AGE_YTHADULT_YGE15   6045.439\n",
      "ZWE    Africa  SEX_F  AGE_YTHADULT_Y15-64   5678.619\n",
      "ZWE    Africa  SEX_F  AGE_YTHADULT_Y15-24   2012.963\n",
      "ZWE    Africa  SEX_F   AGE_YTHADULT_YGE25   4032.476\n",
      "\n",
      "[763153 rows x 4 columns]\n"
     ]
    }
   ],
   "source": [
    "#Selecionando colunas importantes para nós\n",
    "cols = [\"ref_area\", \"sex\", \"classif1\", \"obs_value\"]\n",
    "\n",
    "#População por localização/sexo/idade\n",
    "data = pd.read_csv(populationPath, usecols=cols)\n",
    "\n",
    "joinData = countryRegionalCode.set_index('alpha-3').join(data.set_index('ref_area'))\n",
    "\n",
    "print(joinData)"
   ]
  },
  {
   "cell_type": "markdown",
   "metadata": {},
   "source": [
    "## Indice de falta de condições dignas de trabalho --"
   ]
  },
  {
   "cell_type": "code",
   "execution_count": 25,
   "metadata": {},
   "outputs": [
    {
     "name": "stdout",
     "output_type": "stream",
     "text": [
      "       region    sex             classif1  obs_value\n",
      "ABW  Americas    NaN                  NaN        NaN\n",
      "AFG      Asia  SEX_T   AGE_YTHADULT_YGE15  64.808106\n",
      "AFG      Asia  SEX_T  AGE_YTHADULT_Y15-24  67.710030\n",
      "AFG      Asia  SEX_T   AGE_YTHADULT_YGE25  63.634044\n",
      "AFG      Asia  SEX_M   AGE_YTHADULT_YGE15  63.424633\n",
      "..        ...    ...                  ...        ...\n",
      "ZWE    Africa  SEX_M  AGE_YTHADULT_Y15-24  17.752020\n",
      "ZWE    Africa  SEX_M   AGE_YTHADULT_YGE25  11.354967\n",
      "ZWE    Africa  SEX_F   AGE_YTHADULT_YGE15  14.089030\n",
      "ZWE    Africa  SEX_F  AGE_YTHADULT_Y15-24  15.990557\n",
      "ZWE    Africa  SEX_F   AGE_YTHADULT_YGE25  13.373393\n",
      "\n",
      "[30937 rows x 4 columns]\n"
     ]
    }
   ],
   "source": [
    "#Selecionando colunas importantes para nós\n",
    "cols = [\"ref_area\", \"sex\", \"classif1\", \"obs_value\"]\n",
    "\n",
    "#Indice de falta de condições dignas de trabalho\n",
    "data = pd.read_csv(workingPovertyPath, usecols=cols)\n",
    "\n",
    "joinData = countryRegionalCode.set_index('alpha-3').join(data.set_index('ref_area'))\n",
    "\n",
    "print(joinData)"
   ]
  },
  {
   "cell_type": "markdown",
   "metadata": {},
   "source": [
    "## Indice de interferência infantil na economia --"
   ]
  },
  {
   "cell_type": "code",
   "execution_count": 26,
   "metadata": {},
   "outputs": [
    {
     "name": "stdout",
     "output_type": "stream",
     "text": [
      "       region    sex              classif1  obs_value\n",
      "ABW  Americas    NaN                   NaN        NaN\n",
      "AFG      Asia  SEX_T  AGE_CLDVERSION_Y5-17  16.600000\n",
      "AFG      Asia  SEX_M  AGE_CLDVERSION_Y5-17  20.300000\n",
      "AFG      Asia  SEX_F  AGE_CLDVERSION_Y5-17  12.610000\n",
      "AGO    Africa  SEX_T  AGE_CLDVERSION_Y5-17   9.666467\n",
      "..        ...    ...                   ...        ...\n",
      "WSM   Oceania    NaN                   NaN        NaN\n",
      "YEM      Asia    NaN                   NaN        NaN\n",
      "ZAF    Africa    NaN                   NaN        NaN\n",
      "ZMB    Africa    NaN                   NaN        NaN\n",
      "ZWE    Africa    NaN                   NaN        NaN\n",
      "\n",
      "[411 rows x 4 columns]\n"
     ]
    }
   ],
   "source": [
    "#Selecionando colunas importantes para nós\n",
    "cols = [\"ref_area\", \"sex\", \"classif1\", \"obs_value\"]\n",
    "\n",
    "#Indice de interferência infantil na economia\n",
    "data = pd.read_csv(childrenEconomicActPath, usecols=cols)\n",
    "\n",
    "joinData = countryRegionalCode.set_index('alpha-3').join(data.set_index('ref_area'))\n",
    "\n",
    "print(joinData)"
   ]
  },
  {
   "cell_type": "code",
   "execution_count": 8,
   "metadata": {},
   "outputs": [
    {
     "ename": "TypeError",
     "evalue": "'>=' not supported between instances of 'str' and 'int'",
     "output_type": "error",
     "traceback": [
      "\u001b[1;31m---------------------------------------------------------------------------\u001b[0m",
      "\u001b[1;31mTypeError\u001b[0m                                 Traceback (most recent call last)",
      "\u001b[1;32m<ipython-input-8-c47efd6486f8>\u001b[0m in \u001b[0;36m<module>\u001b[1;34m\u001b[0m\n\u001b[0;32m      4\u001b[0m \u001b[1;33m\u001b[0m\u001b[0m\n\u001b[0;32m      5\u001b[0m \u001b[0mdata\u001b[0m \u001b[1;33m=\u001b[0m \u001b[0mpd\u001b[0m\u001b[1;33m.\u001b[0m\u001b[0mread_csv\u001b[0m\u001b[1;33m(\u001b[0m\u001b[0mpath\u001b[0m\u001b[1;33m)\u001b[0m\u001b[1;33m\u001b[0m\u001b[1;33m\u001b[0m\u001b[0m\n\u001b[1;32m----> 6\u001b[1;33m \u001b[0mdata\u001b[0m\u001b[1;33m.\u001b[0m\u001b[0mloc\u001b[0m\u001b[1;33m[\u001b[0m\u001b[1;34m\"time\"\u001b[0m\u001b[1;33m>=\u001b[0m\u001b[1;36m2015\u001b[0m\u001b[1;33m]\u001b[0m\u001b[1;33m\u001b[0m\u001b[1;33m\u001b[0m\u001b[0m\n\u001b[0m",
      "\u001b[1;31mTypeError\u001b[0m: '>=' not supported between instances of 'str' and 'int'"
     ]
    }
   ],
   "source": []
  }
 ],
 "metadata": {
  "kernelspec": {
   "display_name": "Python 3",
   "language": "python",
   "name": "python3"
  },
  "language_info": {
   "codemirror_mode": {
    "name": "ipython",
    "version": 3
   },
   "file_extension": ".py",
   "mimetype": "text/x-python",
   "name": "python",
   "nbconvert_exporter": "python",
   "pygments_lexer": "ipython3",
   "version": "3.7.8"
  },
  "toc": {
   "base_numbering": 1,
   "nav_menu": {},
   "number_sections": false,
   "sideBar": false,
   "skip_h1_title": false,
   "title_cell": "Table of Contents",
   "title_sidebar": "Contents",
   "toc_cell": false,
   "toc_position": {},
   "toc_section_display": false,
   "toc_window_display": false
  }
 },
 "nbformat": 4,
 "nbformat_minor": 4
}
