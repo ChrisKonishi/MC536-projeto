{
 "cells": [
  {
   "cell_type": "code",
   "execution_count": 2,
   "metadata": {},
   "outputs": [],
   "source": [
    "%defaultDatasource jdbc:h2:file:./database/ILOSTATdata.db"
   ]
  },
  {
   "cell_type": "markdown",
   "metadata": {},
   "source": [
    "# Destruir tabelas"
   ]
  },
  {
   "cell_type": "code",
   "execution_count": null,
   "metadata": {},
   "outputs": [],
   "source": [
    "\n",
    "DROP TABLE IF EXISTS POPULATION_PROP;\n",
    "DROP TABLE IF EXISTS POPULATION_TOTAL;\n",
    "DROP TABLE IF EXISTS UNEMPLOYMENT;\n",
    "DROP TABLE IF EXISTS POVERTY;\n",
    "DROP TABLE IF EXISTS POPULATION;"
   ]
  },
  {
   "cell_type": "markdown",
   "metadata": {},
   "source": [
    "# Carregar dados brutos"
   ]
  },
  {
   "cell_type": "code",
   "execution_count": 27,
   "metadata": {},
   "outputs": [],
   "source": [
    "DROP TABLE IF EXISTS UNEMPLOYMENT;\n",
    "DROP TABLE IF EXISTS POVERTY;\n",
    "DROP TABLE IF EXISTS POPULATION;\n",
    "\n",
    "CREATE TABLE POPULATION(\n",
    "    LOCAL VARCHAR(50),\n",
    "    IDADE_CODE VARCHAR(50),\n",
    "    ANO INTEGER,\n",
    "    VALOR DOUBLE,\n",
    "    PRIMARY KEY(LOCAL,IDADE_CODE,ANO)\n",
    ") AS SELECT \n",
    "    ref_area,\n",
    "    classif1,\n",
    "    time,\n",
    "    obs_value\n",
    "FROM CSVREAD('./datasets/ILOSTAT_CHRIS/population.csv');\n",
    "\n",
    "\n",
    "CREATE TABLE POVERTY(\n",
    "    LOCAL VARCHAR(50),\n",
    "    IDADE_CODE VARCHAR(50),\n",
    "    ANO INTEGER,\n",
    "    VALOR DOUBLE,\n",
    "    PRIMARY KEY(LOCAL,IDADE_CODE,ANO)\n",
    ") AS SELECT \n",
    "    ref_area,\n",
    "    classif1,\n",
    "    time,\n",
    "    obs_value\n",
    "FROM CSVREAD('./datasets/ILOSTAT_CHRIS/poverty.csv');\n",
    "\n",
    "\n",
    "\n",
    "CREATE TABLE UNEMPLOYMENT(\n",
    "    LOCAL VARCHAR(50),\n",
    "    IDADE_CODE VARCHAR(50),\n",
    "    ANO INTEGER,\n",
    "    VALOR DOUBLE,\n",
    "    PRIMARY KEY(LOCAL,IDADE_CODE,ANO)\n",
    ") AS SELECT \n",
    "    ref_area,\n",
    "    classif1,\n",
    "    time,\n",
    "    obs_value\n",
    "FROM CSVREAD('./datasets/ILOSTAT_CHRIS/unemployment.csv');\n"
   ]
  },
  {
   "cell_type": "code",
   "execution_count": 28,
   "metadata": {},
   "outputs": [
    {
     "data": {
      "application/vnd.jupyter.widget-view+json": {
       "model_id": "c7f6109a-9e94-46f0-b22f-1fb09fe654b1",
       "version_major": 2,
       "version_minor": 0
      },
      "method": "display_data"
     },
     "metadata": {},
     "output_type": "display_data"
    },
    {
     "data": {
      "application/vnd.jupyter.widget-view+json": {
       "model_id": "87a8ae65-5731-40cf-9eeb-8a463d5a4f24",
       "version_major": 2,
       "version_minor": 0
      },
      "method": "display_data"
     },
     "metadata": {},
     "output_type": "display_data"
    },
    {
     "data": {
      "application/vnd.jupyter.widget-view+json": {
       "model_id": "5c87772a-f93d-4fa4-a8f1-916848396bbf",
       "version_major": 2,
       "version_minor": 0
      },
      "method": "display_data"
     },
     "metadata": {},
     "output_type": "display_data"
    }
   ],
   "source": [
    "SELECT * FROM POPULATION;\n",
    "SELECT * FROM POVERTY;\n",
    "SELECT * FROM UNEMPLOYMENT;"
   ]
  },
  {
   "cell_type": "markdown",
   "metadata": {},
   "source": [
    "### Calcular população relativa ao total"
   ]
  },
  {
   "cell_type": "code",
   "execution_count": 48,
   "metadata": {},
   "outputs": [],
   "source": [
    "DROP TABLE IF EXISTS POPULATION_PROP;\n",
    "DROP TABLE IF EXISTS POPULATION_TOTAL;\n",
    "\n",
    "CREATE VIEW POPULATION_TOTAL AS\n",
    "SELECT LOCAL, ANO, VALOR\n",
    "    FROM POPULATION\n",
    "    WHERE IDADE_CODE='AGE_AGGREGATE_TOTAL';\n",
    "\n",
    "CREATE VIEW POPULATION_PROP AS\n",
    "SELECT P1.LOCAL, P1.ANO, P1.IDADE_CODE, P1.VALOR, (P1.VALOR / P2.VALOR) AS PROPORCAO\n",
    "    FROM POPULATION P1, POPULATION_TOTAL P2\n",
    "    WHERE P1.LOCAL = P2.LOCAL AND P1.ANO = P2.ANO;"
   ]
  },
  {
   "cell_type": "code",
   "execution_count": 49,
   "metadata": {},
   "outputs": [
    {
     "data": {
      "application/vnd.jupyter.widget-view+json": {
       "model_id": "58b34746-ceed-4828-a36d-bf2d9288d2de",
       "version_major": 2,
       "version_minor": 0
      },
      "method": "display_data"
     },
     "metadata": {},
     "output_type": "display_data"
    }
   ],
   "source": [
    "SELECT * FROM POPULATION_PROP;"
   ]
  },
  {
   "cell_type": "markdown",
   "metadata": {},
   "source": [
    "### Processar indicadores"
   ]
  },
  {
   "cell_type": "code",
   "execution_count": 65,
   "metadata": {},
   "outputs": [
    {
     "data": {
      "application/vnd.jupyter.widget-view+json": {
       "model_id": "fc06c600-186e-4e56-9001-503f75e7b2a9",
       "version_major": 2,
       "version_minor": 0
      },
      "method": "display_data"
     },
     "metadata": {},
     "output_type": "display_data"
    }
   ],
   "source": [
    "DROP TABLE IF EXISTS ILOSTAT;\n",
    "\n",
    "CREATE VIEW ILOSTAT AS\n",
    "SELECT PV.LOCAL, PV.ANO, PV.VALOR AS POBREZA_15_MAIS, UN.VALOR AS DESEMPREGO_15_64\n",
    "    FROM\n",
    "        POVERTY PV, UNEMPLOYMENT UN\n",
    "    WHERE PV.LOCAL = UN.LOCAL AND PV.ANO = UN.ANO AND PV.IDADE_CODE = 'AGE_YTHADULT_YGE15' AND UN.IDADE_CODE = 'AGE_YTHADULT_Y15-64'\n",
    "    ORDER BY ANO, LOCAL;\n",
    "    \n",
    "SELECT * FROM ILOSTAT"
   ]
  }
 ],
 "metadata": {
  "kernelspec": {
   "display_name": "SQL",
   "language": "SQL",
   "name": "sql"
  },
  "language_info": {
   "codemirror_mode": "sql",
   "file_extension": ".sql",
   "mimetype": "",
   "name": "SQL",
   "nbconverter_exporter": "",
   "version": ""
  },
  "toc": {
   "base_numbering": 1,
   "nav_menu": {},
   "number_sections": false,
   "sideBar": false,
   "skip_h1_title": false,
   "title_cell": "Table of Contents",
   "title_sidebar": "Contents",
   "toc_cell": false,
   "toc_position": {},
   "toc_section_display": false,
   "toc_window_display": false
  }
 },
 "nbformat": 4,
 "nbformat_minor": 4
}
