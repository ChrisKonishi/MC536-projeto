{
 "metadata": {
  "language_info": {
   "codemirror_mode": {
    "name": "ipython",
    "version": 3
   },
   "file_extension": ".py",
   "mimetype": "text/x-python",
   "name": "python",
   "nbconvert_exporter": "python",
   "pygments_lexer": "ipython3",
   "version": "3.8.3-final"
  },
  "orig_nbformat": 2,
  "kernelspec": {
   "name": "python3",
   "display_name": "Python 3"
  }
 },
 "nbformat": 4,
 "nbformat_minor": 2,
 "cells": [
  {
   "cell_type": "code",
   "execution_count": 1,
   "metadata": {},
   "outputs": [
    {
     "output_type": "stream",
     "name": "stdout",
     "text": [
      "               whr                                           official\n0          Bolivia                   Bolivia (Plurinational State of)\n1   Czech Republic                                            Czechia\n2             Iran                         Iran (Islamic Republic of)\n3        Macedonia                                    North Macedonia\n4           Russia                                 Russian Federation\n5      South Korea                                 Korea, Republic of\n6            Syria                               Syrian Arab Republic\n7           Taiwan                          Taiwan, Province of China\n8   United Kingdom  United Kingdom of Great Britain and Northern I...\n9    United States                           United States of America\n10       Venezuela                 Venezuela (Bolivarian Republic of)\n"
     ]
    }
   ],
   "source": [
    "# mismatched countries\n",
    "import pandas as pd\n",
    "\n",
    "replace_names = pd.read_csv(\"./datasets/WHR/wrong_names.txt\")\n",
    "print(replace_names.head(20))"
   ]
  },
  {
   "cell_type": "code",
   "execution_count": 2,
   "metadata": {},
   "outputs": [],
   "source": [
    "import os\n",
    "\n",
    "in_files = [\n",
    "    \"./datasets/WHR/2015.csv\",\n",
    "    \"./datasets/WHR/2016.csv\",\n",
    "    \"./datasets/WHR/2017.csv\",\n",
    "    \"./datasets/WHR/2018.csv\",\n",
    "    \"./datasets/WHR/2019.csv\",\n",
    "]\n",
    "\n",
    "y = [i for i in range(2015, 2020)]\n",
    "\n",
    "out_dir = \"./WHR_processed\"\n",
    "\n",
    "try:\n",
    "    os.makedirs(\"./WHR_processed\")\n",
    "except FileExistsError:\n",
    "    pass\n",
    "\n",
    "for i in range(len(in_files)):\n",
    "    a = open(in_files[i], \"r\")\n",
    "    txt = a.read()\n",
    "    a.close()\n",
    "\n",
    "    for j in range(len(replace_names)):\n",
    "        iname = replace_names[\"whr\"][j]\n",
    "        #iname =  \"\\\"\" + iname + \"\\\"\"\n",
    "        oname = replace_names[\" official\"][j]\n",
    "        if \",\" in oname and y[i] !=2017:\n",
    "            oname = \"\\\"\" + oname + \"\\\"\"\n",
    "        txt = txt.replace(iname, oname)\n",
    "    \n",
    "    f = open(os.path.join(out_dir, str(y[i])+\".csv\"), \"w\")\n",
    "    f.write(txt)\n",
    "    f.close()"
   ]
  },
  {
   "cell_type": "code",
   "execution_count": null,
   "metadata": {},
   "outputs": [],
   "source": []
  }
 ]
}