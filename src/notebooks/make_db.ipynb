{
 "cells": [
  {
   "cell_type": "code",
   "execution_count": 1,
   "metadata": {},
   "outputs": [],
   "source": [
    "%defaultDatasource jdbc:h2:file:./database/data.db"
   ]
  },
  {
   "cell_type": "markdown",
   "metadata": {},
   "source": [
    "# Destruir tabelas"
   ]
  },
  {
   "cell_type": "code",
   "execution_count": 2,
   "metadata": {},
   "outputs": [],
   "source": [
    "DROP TABLE IF EXISTS NORMHAPPY;\n",
    "DROP TABLE IF EXISTS HAPPYFROMZERO;\n",
    "DROP TABLE IF EXISTS ABOVEHAPPY;\n",
    "DROP TABLE IF EXISTS ABOVERURAL;\n",
    "DROP TABLE IF EXISTS HAPPYRURAL;\n",
    "DROP TABLE IF EXISTS ABOVEHAPPY;\n",
    "DROP TABLE IF EXISTS ABOVEEXPEC;\n",
    "DROP TABLE IF EXISTS HAPPYVIDA;\n",
    "DROP TABLE IF EXISTS HAPPYVIDA;\n",
    "DROP TABLE IF EXISTS ABOVEGDP;\n",
    "DROP TABLE IF EXISTS ABOVEHAPPY;\n",
    "DROP TABLE IF EXISTS AVGHAPPY;\n",
    "DROP TABLE IF EXISTS COUNTRIES;\n",
    "DROP TABLE IF EXISTS SUBREGIONS;\n",
    "DROP TABLE IF EXISTS REGIONS;\n",
    "DROP TABLE IF EXISTS UNESCO;\n",
    "DROP TABLE IF EXISTS UNESCODESC;\n",
    "DROP TABLE IF EXISTS WHR;\n",
    "DROP TABLE IF EXISTS ILOSTAT;"
   ]
  },
  {
   "cell_type": "code",
   "execution_count": 3,
   "metadata": {},
   "outputs": [],
   "source": [
    "DROP TABLE IF EXISTS TABELAUNICA;\n",
    "DROP TABLE IF EXISTS CORRELATION;\n",
    "DROP TABLE IF EXISTS H_LIFEEXPECTANCY2016;\n",
    "DROP TABLE IF EXISTS H_RURALPOP2016;\n",
    "DROP TABLE IF EXISTS H_INFANCYMORTALITY2016;\n",
    "DROP TABLE IF EXISTS H_BORNLIFE2016;\n",
    "DROP TABLE IF EXISTS H_ACTUALCURRENCY2016;\n",
    "DROP TABLE IF EXISTS  H_DOLARGROWTH;\n",
    "DROP TABLE IF EXISTS H_CHILDREN2016;\n",
    "DROP TABLE IF EXISTS H_YOUTH2016;\n",
    "DROP TABLE IF EXISTS H_ADULT2016;\n",
    "DROP TABLE IF EXISTS H_OLD2016;\n",
    "DROP TABLE IF EXISTS H_UNPLOYMENT2016;\n",
    "DROP TABLE IF EXISTS H_POVERTY2016;\n",
    "DROP TABLE IF EXISTS H_GDPPERCAPITA2016;\n",
    "DROP TABLE IF EXISTS H_CORRUPTION2016;\n",
    "DROP TABLE IF EXISTS H_FREEDOM2016;\n",
    "DROP TABLE IF EXISTS H_GENEROSITY2016;"
   ]
  },
  {
   "cell_type": "markdown",
   "metadata": {},
   "source": [
    "# Carregar tabelas"
   ]
  },
  {
   "cell_type": "code",
   "execution_count": 4,
   "metadata": {},
   "outputs": [],
   "source": [
    "DROP TABLE IF EXISTS COUNTRIES;\n",
    "DROP TABLE IF EXISTS SUBREGIONS;\n",
    "DROP TABLE IF EXISTS REGIONS;\n",
    "DROP TABLE IF EXISTS UNESCO;\n",
    "DROP TABLE IF EXISTS UNESCODESC;\n",
    "DROP TABLE IF EXISTS WHR;\n",
    "DROP TABLE IF EXISTS ILOSTAT;\n",
    "\n",
    "\n",
    "CREATE TABLE REGIONS(\n",
    "    REGION VARCHAR(30),\n",
    "    PRIMARY KEY(REGION)\n",
    ") AS SELECT * FROM  CSVREAD('../data/processed/countries_processed/regions.csv');\n",
    "\n",
    "CREATE TABLE SUBREGIONS(\n",
    "    SUBREGION VARCHAR(50),\n",
    "    REGION VARCHAR(30),\n",
    "    PRIMARY KEY(SUBREGION),\n",
    "    FOREIGN KEY(REGION)\n",
    "        REFERENCES REGIONS(REGION)\n",
    "            ON DELETE CASCADE\n",
    "            ON UPDATE CASCADE\n",
    ") AS SELECT * FROM  CSVREAD('../data/processed/countries_processed/subregions.csv');\n",
    "\n",
    "CREATE TABLE COUNTRIES(\n",
    "    ALPHA3 VARCHAR(5),\n",
    "    ALPHA2 VARCHAR(5),\n",
    "    COUNTRY VARCHAR(100),\n",
    "    SUBREGION VARCHAR(50),\n",
    "    PRIMARY KEY(ALPHA3),\n",
    "    FOREIGN KEY(SUBREGION)\n",
    "        REFERENCES SUBREGIONS(SUBREGION)\n",
    "            ON DELETE CASCADE\n",
    "            ON UPDATE CASCADE\n",
    ") AS SELECT \n",
    "    ALPHA3,\n",
    "    ALPHA2,\n",
    "    NAME,\n",
    "    SUBREGION\n",
    "FROM  CSVREAD('../data/processed/countries_processed/countries.csv');\n",
    "\n",
    "\n",
    "CREATE TABLE UNESCODESC(\n",
    "    CODIGO VARCHAR(50),\n",
    "    DESCRICAO VARCHAR(100),\n",
    "    PRIMARY KEY(CODIGO)\n",
    ") AS SELECT * FROM CSVREAD('../data/processed/unesco/unesco_descricao.csv');\n",
    "\n",
    "\n",
    "CREATE TABLE UNESCO (\n",
    "    Local VARCHAR(4) NOT NULL,\n",
    "    ANO INTEGER,\n",
    "    SP_DYN_LE00_IN DOUBLE ,\n",
    "    SP_DYN_IMRT_IN DOUBLE,\n",
    "    NY_GDP_MKTP_CD DOUBLE,\n",
    "    NY_GDP_PCAP_CD DOUBLE,\n",
    "    NY_GDP_MKTP_KD_ZG DOUBLE,\n",
    "    \"200343\" DOUBLE,\n",
    "    \"200144\" DOUBLE,\n",
    "    \"200345\" DOUBLE,\n",
    "    \"200151\" DOUBLE,\n",
    "    SP_RUR_TOTL_ZS  DOUBLE,\n",
    "    \"200101\" DOUBLE,\n",
    "    \n",
    "    PRIMARY KEY(Local, ANO) \n",
    "\n",
    ") AS SELECT\n",
    "    Local,\n",
    "    ANO,\n",
    "    SP_DYN_LE00_IN,\n",
    "    SP_DYN_IMRT_IN,\n",
    "    NY_GDP_MKTP_CD,\n",
    "    NY_GDP_PCAP_CD,\n",
    "    NY_GDP_MKTP_KD_ZG,\n",
    "    \"200343\",\n",
    "    \"200144\",\n",
    "    \"200345\",\n",
    "    \"200151\",\n",
    "    SP_RUR_TOTL_ZS,\n",
    "    \"200101\"\n",
    "FROM CSVREAD('../data/processed/unesco/unesco_interest_data.csv');\n",
    "\n",
    "\n",
    "CREATE TABLE WHR(\n",
    "    COUNTRYCODE VARCHAR(4),\n",
    "    ANO INTEGER,\n",
    "    HAPPINESSRANK INTEGER,\n",
    "    HAPPINESSSCORE DOUBLE,\n",
    "    GDPCAPITA DOUBLE,\n",
    "    FAMILY DOUBLE,\n",
    "    LIFEEXPECTANCY DOUBLE,\n",
    "    FREEDOM DOUBLE,\n",
    "    GOVCORRUPTION DOUBLE,\n",
    "    GENEROSITY DOUBLE,\n",
    "    \n",
    "    PRIMARY KEY(COUNTRYCODE, ANO)    \n",
    "\n",
    ") AS SELECT \n",
    "    ALPHA3,\n",
    "    ANO,\n",
    "    HAPPINESSRANK,\n",
    "    HAPPINESSSCORE,\n",
    "    GDPCAPITA,\n",
    "    FAMILY,\n",
    "    LIFEEXPECTANCY,\n",
    "    FREEDOM,\n",
    "    GOVCORRUPTION,\n",
    "    GENEROSITY\n",
    "FROM CSVREAD('../data/processed/whr/whr_processado.csv');\n",
    "\n",
    "\n",
    "CREATE TABLE ILOSTAT(\n",
    "    LOCAL VARCHAR(4),\n",
    "    ANO INTEGER,\n",
    "    DESEMPREGO DOUBLE,\n",
    "    POBREZA DOUBLE,\n",
    "    \n",
    "    PRIMARY KEY(LOCAL, ANO)    \n",
    "\n",
    ") AS SELECT \n",
    "    LOCAL,\n",
    "    ANO,\n",
    "    DESEMPREGO,\n",
    "    POBREZA\n",
    "FROM CSVREAD('../data/processed/ilostat/ilostat_processed.csv');\n",
    "\n"
   ]
  },
  {
   "cell_type": "code",
   "execution_count": 5,
   "metadata": {},
   "outputs": [
    {
     "data": {
      "application/vnd.jupyter.widget-view+json": {
       "model_id": "a7cdc3d6-de15-4f59-8ec8-86e1c9b6046c",
       "version_major": 2,
       "version_minor": 0
      },
      "method": "display_data"
     },
     "metadata": {},
     "output_type": "display_data"
    },
    {
     "data": {
      "application/vnd.jupyter.widget-view+json": {
       "model_id": "0bedd9e4-508e-4ae7-bf42-dd8337519594",
       "version_major": 2,
       "version_minor": 0
      },
      "method": "display_data"
     },
     "metadata": {},
     "output_type": "display_data"
    },
    {
     "data": {
      "application/vnd.jupyter.widget-view+json": {
       "model_id": "b53d065e-cc15-43ca-b63f-5c384f36d008",
       "version_major": 2,
       "version_minor": 0
      },
      "method": "display_data"
     },
     "metadata": {},
     "output_type": "display_data"
    }
   ],
   "source": [
    "SELECT * FROM REGIONS;\n",
    "SELECT * FROM SUBREGIONS;\n",
    "SELECT * FROM COUNTRIES;"
   ]
  },
  {
   "cell_type": "code",
   "execution_count": 6,
   "metadata": {
    "scrolled": true
   },
   "outputs": [
    {
     "data": {
      "application/vnd.jupyter.widget-view+json": {
       "model_id": "85df4ea1-c2d2-41bb-9581-61380609c58a",
       "version_major": 2,
       "version_minor": 0
      },
      "method": "display_data"
     },
     "metadata": {},
     "output_type": "display_data"
    },
    {
     "data": {
      "application/vnd.jupyter.widget-view+json": {
       "model_id": "2c42bbc2-9c9a-4b8d-b2eb-3f238a036c69",
       "version_major": 2,
       "version_minor": 0
      },
      "method": "display_data"
     },
     "metadata": {},
     "output_type": "display_data"
    },
    {
     "data": {
      "application/vnd.jupyter.widget-view+json": {
       "model_id": "29f42c66-0a77-4230-b878-a6d1a7e7d737",
       "version_major": 2,
       "version_minor": 0
      },
      "method": "display_data"
     },
     "metadata": {},
     "output_type": "display_data"
    },
    {
     "data": {
      "application/vnd.jupyter.widget-view+json": {
       "model_id": "df8720a5-1afc-419b-a44f-03d628ffa5f3",
       "version_major": 2,
       "version_minor": 0
      },
      "method": "display_data"
     },
     "metadata": {},
     "output_type": "display_data"
    }
   ],
   "source": [
    "SELECT * FROM UNESCO;\n",
    "SELECT * FROM UNESCODESC;\n",
    "SELECT * FROM WHR;\n",
    "SELECT * FROM ILOSTAT;\n",
    "-- ILOSTAT\n",
    "-- populacao acima de 15 anos (%) abaixo da linha de probreza\n",
    "-- população de 15 a 64 anos (%) desempregada"
   ]
  },
  {
   "cell_type": "markdown",
   "metadata": {},
   "source": [
    "#### Dados da Unesco\n",
    "\n",
    "-    \"SP_DYN_LE00_IN\", expectativa de vida\n",
    "-    \"SP_DYN_IMRT_IN\", mortalidade infantil por 1000 nascimentos\n",
    "-    \"NY_GDP_MKTP_CD\", GDP (current US$)\n",
    "-    \"NY_GDP_PCAP_CD\", pib per capita\n",
    "-    \"NY_GDP_MKTP_KD_ZG\",  GDP growth (annual %)\n",
    "-    \"200343\", Population aged 14 years or younger (thousands)\n",
    "-    \"200144\", Population aged 15-24 years (thousands)\n",
    "-    \"200345\", Population aged 25-64 years (thousands) \n",
    "-    \"200151\", Population aged 65 years or older (thousands)\n",
    "-    \"SP_RUR_TOTL_ZS\", Rural population (% of total population)\n",
    "-    \"200101\"  Total population (thousands)"
   ]
  },
  {
   "cell_type": "markdown",
   "metadata": {},
   "source": [
    "# Felicidade em 2016 vs GDP per capita\n",
    "\n",
    "Analisando os dados de felicidade temos que:\n",
    "\n",
    "- 50,34% dos países têm felicidade acima da média\n",
    "- 76,19% dos países com GDP per capita acima da média são mais felizes\n",
    "- Parece haver uma relação entre esses indicadores"
   ]
  },
  {
   "cell_type": "code",
   "execution_count": 7,
   "metadata": {},
   "outputs": [
    {
     "data": {
      "application/vnd.jupyter.widget-view+json": {
       "model_id": "2a10bc74-a536-4c1e-8249-0a3cd4ded8c9",
       "version_major": 2,
       "version_minor": 0
      },
      "method": "display_data"
     },
     "metadata": {},
     "output_type": "display_data"
    },
    {
     "data": {
      "application/vnd.jupyter.widget-view+json": {
       "model_id": "56c739a4-b36c-4ad8-9c8b-a9c299b70127",
       "version_major": 2,
       "version_minor": 0
      },
      "method": "display_data"
     },
     "metadata": {},
     "output_type": "display_data"
    },
    {
     "data": {
      "application/vnd.jupyter.widget-view+json": {
       "model_id": "0fe9b615-e572-498a-9427-bc123813d183",
       "version_major": 2,
       "version_minor": 0
      },
      "method": "display_data"
     },
     "metadata": {},
     "output_type": "display_data"
    },
    {
     "data": {
      "application/vnd.jupyter.widget-view+json": {
       "model_id": "91d49b65-fc4c-4e93-b8d7-6d20d4fe8342",
       "version_major": 2,
       "version_minor": 0
      },
      "method": "display_data"
     },
     "metadata": {},
     "output_type": "display_data"
    }
   ],
   "source": [
    "-- FELICIDADE VS GDP PER CAPITA\n",
    "DROP TABLE IF EXISTS ABOVEGDP;\n",
    "DROP TABLE IF EXISTS ABOVEHAPPY;\n",
    "DROP TABLE IF EXISTS AVGHAPPY;\n",
    "\n",
    "-- MEDIA DE FELICIDADE 2016\n",
    "CREATE VIEW AVGHAPPY AS\n",
    "SELECT AVG(HAPPINESSSCORE) FROM WHR WHERE ANO = 2016;\n",
    "\n",
    "-- PAISES COM FELICIDADE ACIMA DA MEDIA EM 2016\n",
    "CREATE VIEW ABOVEHAPPY AS\n",
    "SELECT COUNTRYCODE, HAPPINESSSCORE\n",
    "    FROM WHR, AVGHAPPY A\n",
    "    WHERE\n",
    "        HAPPINESSSCORE > (SELECT * FROM AVGHAPPY) AND ANO = 2016;\n",
    "        \n",
    "-- PAISES COM GDP PER CAPITA ACIMA DA MEDIA\n",
    "CREATE VIEW ABOVEGDP AS\n",
    "SELECT COUNTRYCODE, GDPCAPITA\n",
    "    FROM WHR\n",
    "    WHERE\n",
    "        GDPCAPITA > (SELECT AVG(GDPCAPITA) FROM WHR WHERE ANO = 2016) AND ANO = 2016;\n",
    "        \n",
    "        \n",
    "-- TOTAL DE PAISES EM 2016\n",
    "SELECT COUNT(COUNTRYCODE)\n",
    "    FROM WHR\n",
    "    WHERE ANO=2016;\n",
    "    \n",
    "-- TOTAL DE PAISES COM FELICIDADE ACIMA DA MEDIA EM 2016\n",
    "SELECT COUNT(COUNTRYCODE)\n",
    "    FROM ABOVEHAPPY;\n",
    "    \n",
    "-- TOTAL DE PAISES COM GDP PER CAPITA ACIMA DA MEDIA EM 2016\n",
    "SELECT COUNT(COUNTRYCODE)\n",
    "    FROM ABOVEGDP;\n",
    "  \n",
    "  \n",
    "-- TOTAL DE PAISES COM FELICIDADE E GDP PER CAPITA ACIMA DE MEDIA EM 2016\n",
    "SELECT COUNT(H.COUNTRYCODE)\n",
    "    FROM ABOVEHAPPY H, ABOVEGDP G\n",
    "    WHERE H.COUNTRYCODE = G.COUNTRYCODE;"
   ]
  },
  {
   "cell_type": "markdown",
   "metadata": {},
   "source": [
    "# Felicidade vs expectativa de vida em 2016\n",
    "\n",
    "Analisando os dados de felicidade temos que:\n",
    "\n",
    "- Descartando países sem dados\n",
    "\n",
    "- 50,00% dos países têm felicidade acima da média\n",
    "- 74,41% dos países com expectativa de vida acima da média são mais felizes\n",
    "- Parece haver uma relação entre esses indicadores"
   ]
  },
  {
   "cell_type": "code",
   "execution_count": 8,
   "metadata": {},
   "outputs": [
    {
     "data": {
      "application/vnd.jupyter.widget-view+json": {
       "model_id": "a1104454-64d1-4043-845f-6163ba5bd452",
       "version_major": 2,
       "version_minor": 0
      },
      "method": "display_data"
     },
     "metadata": {},
     "output_type": "display_data"
    },
    {
     "data": {
      "application/vnd.jupyter.widget-view+json": {
       "model_id": "7d1aa600-62fe-4b6e-9be2-1dac53856e94",
       "version_major": 2,
       "version_minor": 0
      },
      "method": "display_data"
     },
     "metadata": {},
     "output_type": "display_data"
    },
    {
     "data": {
      "application/vnd.jupyter.widget-view+json": {
       "model_id": "067e7fe6-1755-4cf9-8426-79effcf93ba9",
       "version_major": 2,
       "version_minor": 0
      },
      "method": "display_data"
     },
     "metadata": {},
     "output_type": "display_data"
    },
    {
     "data": {
      "application/vnd.jupyter.widget-view+json": {
       "model_id": "485a769c-c594-49ca-b12c-6abd996316ac",
       "version_major": 2,
       "version_minor": 0
      },
      "method": "display_data"
     },
     "metadata": {},
     "output_type": "display_data"
    }
   ],
   "source": [
    "-- ANALISE FELICIDADE X Expectativa de vida\"SP_DYN_LE00_IN\" \n",
    "DROP TABLE IF EXISTS ABOVEHAPPY;\n",
    "DROP TABLE IF EXISTS ABOVEEXPEC;\n",
    "DROP TABLE IF EXISTS HAPPYVIDA;\n",
    "\n",
    "CREATE VIEW HAPPYVIDA AS\n",
    "SELECT W.COUNTRYCODE, W.ANO, W.HAPPINESSSCORE, U.SP_DYN_LE00_IN AS EXPECVIDA\n",
    "    FROM WHR W, UNESCO U\n",
    "    WHERE\n",
    "        W.COUNTRYCODE = U.LOCAL AND W.ANO = U.ANO AND W.ANO = 2016;\n",
    "\n",
    "CREATE VIEW ABOVEEXPEC AS\n",
    "SELECT COUNTRYCODE, EXPECVIDA\n",
    "    FROM HAPPYVIDA\n",
    "    WHERE EXPECVIDA>(SELECT AVG(EXPECVIDA) FROM HAPPYVIDA)\n",
    "    ORDER BY EXPECVIDA;\n",
    "    \n",
    "CREATE VIEW ABOVEHAPPY AS\n",
    "SELECT COUNTRYCODE, HAPPINESSSCORE\n",
    "    FROM HAPPYVIDA\n",
    "    WHERE HAPPINESSSCORE>(SELECT AVG(HAPPINESSSCORE) FROM HAPPYVIDA)\n",
    "    ORDER BY HAPPINESSSCORE;\n",
    "    \n",
    "-- TOTAL DE PAISES EM 2016\n",
    "SELECT COUNT(COUNTRYCODE)\n",
    "    FROM HAPPYVIDA;\n",
    "    \n",
    "-- TOTAL DE PAISES COM FELICIDADE ACIMA DA MEDIA EM 2016\n",
    "SELECT COUNT(COUNTRYCODE)\n",
    "    FROM ABOVEHAPPY;\n",
    "    \n",
    "-- TOTAL DE PAISES COM EXPECTATIVA DE VIDA ACIMA DA MEDIA EM 2016\n",
    "SELECT COUNT(COUNTRYCODE)\n",
    "    FROM ABOVEEXPEC;\n",
    "  \n",
    "  \n",
    "-- TOTAL DE PAISES COM FELICIDADE E EXPECTATIVA DE VIDA ACIMA DE MEDIA EM 2016\n",
    "SELECT COUNT(H.COUNTRYCODE)\n",
    "    FROM ABOVEHAPPY H, ABOVEEXPEC E\n",
    "    WHERE H.COUNTRYCODE = E.COUNTRYCODE;\n",
    "    \n"
   ]
  },
  {
   "cell_type": "markdown",
   "metadata": {},
   "source": [
    "# Felicidade vs população rural em 2016\n",
    "\n",
    "Analisando os dados de felicidade temos que:\n",
    "\n",
    "- Descartando países sem dados\n",
    "\n",
    "- 48,95% dos países têm felicidade acima da média\n",
    "- 24,29% dos países com população rural (%) acima da média são mais felizes\n",
    "- Parece haver uma relação inversa entre esses indicadores"
   ]
  },
  {
   "cell_type": "code",
   "execution_count": 9,
   "metadata": {},
   "outputs": [
    {
     "data": {
      "application/vnd.jupyter.widget-view+json": {
       "model_id": "81fa6bec-4a61-4860-913b-f7a3da3a2e64",
       "version_major": 2,
       "version_minor": 0
      },
      "method": "display_data"
     },
     "metadata": {},
     "output_type": "display_data"
    },
    {
     "data": {
      "application/vnd.jupyter.widget-view+json": {
       "model_id": "496868b0-d2e7-4927-a458-fed6a59d1d9a",
       "version_major": 2,
       "version_minor": 0
      },
      "method": "display_data"
     },
     "metadata": {},
     "output_type": "display_data"
    },
    {
     "data": {
      "application/vnd.jupyter.widget-view+json": {
       "model_id": "740b863c-9880-4b2a-ab19-78eaef562cdb",
       "version_major": 2,
       "version_minor": 0
      },
      "method": "display_data"
     },
     "metadata": {},
     "output_type": "display_data"
    },
    {
     "data": {
      "application/vnd.jupyter.widget-view+json": {
       "model_id": "0ac9bdcf-c23b-4bb0-8be9-0d42dc01897a",
       "version_major": 2,
       "version_minor": 0
      },
      "method": "display_data"
     },
     "metadata": {},
     "output_type": "display_data"
    }
   ],
   "source": [
    "-- ANALISE FELICIDADE X PORCENTAGEM DE POPULAÇÃO RURAL (SP_RUR_TOTL_ZS)\n",
    "DROP TABLE IF EXISTS ABOVEHAPPY;\n",
    "DROP TABLE IF EXISTS ABOVERURAL;\n",
    "DROP TABLE IF EXISTS HAPPYRURAL;\n",
    "\n",
    "CREATE VIEW HAPPYRURAL AS\n",
    "SELECT W.COUNTRYCODE, W.ANO, W.HAPPINESSSCORE, U.SP_RUR_TOTL_ZS AS PROPRURAL\n",
    "    FROM WHR W, UNESCO U\n",
    "    WHERE\n",
    "        W.COUNTRYCODE = U.LOCAL AND W.ANO = U.ANO AND W.ANO = 2016\n",
    "        AND U.SP_RUR_TOTL_ZS IS NOT NULL;\n",
    "        \n",
    "\n",
    "CREATE VIEW ABOVERURAL AS\n",
    "SELECT COUNTRYCODE, PROPRURAL\n",
    "    FROM HAPPYRURAL\n",
    "    WHERE PROPRURAL>(SELECT AVG(PROPRURAL) FROM HAPPYRURAL)\n",
    "    ORDER BY PROPRURAL;\n",
    "    \n",
    "CREATE VIEW ABOVEHAPPY AS\n",
    "SELECT COUNTRYCODE, HAPPINESSSCORE\n",
    "    FROM HAPPYRURAL\n",
    "    WHERE HAPPINESSSCORE>(SELECT AVG(HAPPINESSSCORE) FROM HAPPYRURAL)\n",
    "    ORDER BY HAPPINESSSCORE;\n",
    "    \n",
    "    \n",
    "-- TOTAL DE PAISES EM 2016\n",
    "SELECT COUNT(COUNTRYCODE)\n",
    "    FROM HAPPYRURAL;\n",
    "    \n",
    "-- TOTAL DE PAISES COM FELICIDADE ACIMA DA MEDIA EM 2016\n",
    "SELECT COUNT(COUNTRYCODE)\n",
    "    FROM ABOVEHAPPY;\n",
    "    \n",
    "-- TOTAL DE PAISES COM POPULACAO RURAL (%) ACIMA DA MEDIA EM 2016\n",
    "SELECT COUNT(COUNTRYCODE)\n",
    "    FROM ABOVERURAL;\n",
    "  \n",
    "  \n",
    "-- TOTAL DE PAISES COM FELICIDADE E EXPECTATIVA DE VIDA ACIMA DE MEDIA EM 2016\n",
    "SELECT COUNT(H.COUNTRYCODE)\n",
    "    FROM ABOVEHAPPY H, ABOVERURAL R\n",
    "    WHERE H.COUNTRYCODE = R.COUNTRYCODE;\n",
    "    \n",
    "\n"
   ]
  },
  {
   "cell_type": "markdown",
   "metadata": {},
   "source": [
    "# Correlações"
   ]
  },
  {
   "cell_type": "markdown",
   "metadata": {},
   "source": [
    "## 2016 ------------------------------------------"
   ]
  },
  {
   "cell_type": "code",
   "execution_count": 10,
   "metadata": {},
   "outputs": [],
   "source": [
    "-- Droping tables if exists --\n",
    "DROP TABLE IF EXISTS H_GDPPERCAPITA2016;\n",
    "DROP TABLE IF EXISTS H_CORRUPTION2016;\n",
    "DROP TABLE IF EXISTS H_FREEDOM2016;\n",
    "DROP TABLE IF EXISTS H_GENEROSITY2016;\n",
    "DROP TABLE IF EXISTS H_LIFEEXPECTANCY2016;\n",
    "DROP TABLE IF EXISTS H_RURALPOP2016;\n",
    "DROP TABLE IF EXISTS H_INFANCYMORTALITY2016;\n",
    "DROP TABLE IF EXISTS H_BORNLIFE2016;\n",
    "DROP TABLE IF EXISTS H_ACTUALCURRENCY2016;\n",
    "DROP TABLE IF EXISTS H_DOLARGROWTH;\n",
    "DROP TABLE IF EXISTS H_CHILDREN2016;\n",
    "DROP TABLE IF EXISTS H_YOUTH2016;\n",
    "DROP TABLE IF EXISTS H_ADULT2016;\n",
    "DROP TABLE IF EXISTS H_OLD2016;\n",
    "DROP TABLE IF EXISTS H_UNPLOYMENT2016;\n",
    "DROP TABLE IF EXISTS H_POVERTY2016;"
   ]
  },
  {
   "cell_type": "code",
   "execution_count": 11,
   "metadata": {},
   "outputs": [],
   "source": [
    "-- felicidade e gdppercapita\n",
    "CREATE VIEW H_GDPPERCAPITA2016 AS\n",
    "SELECT\n",
    "    (AVG(W.HAPPINESSSCORE*W.GDPCAPITA) - (AVG(W.HAPPINESSSCORE)*AVG(W.GDPCAPITA)))/\n",
    "    (STDDEV_POP(W.HAPPINESSSCORE) * STDDEV_POP(W.GDPCAPITA)) correlationGDPCapita\n",
    "FROM WHR W\n",
    "WHERE W.ANO=2016\n",
    ";"
   ]
  },
  {
   "cell_type": "code",
   "execution_count": 12,
   "metadata": {},
   "outputs": [],
   "source": [
    "-- felicidade e corrupcao\n",
    "CREATE VIEW H_CORRUPTION2016 AS\n",
    "SELECT\n",
    "    (AVG(W.HAPPINESSSCORE*W.GOVCORRUPTION) - (AVG(W.HAPPINESSSCORE)*AVG(W.GOVCORRUPTION)))/\n",
    "    (STDDEV_POP(W.HAPPINESSSCORE) * STDDEV_POP(W.GOVCORRUPTION)) correlationCorruption\n",
    "FROM WHR W\n",
    "WHERE W.ANO=2016\n",
    ";"
   ]
  },
  {
   "cell_type": "code",
   "execution_count": 13,
   "metadata": {},
   "outputs": [],
   "source": [
    "-- felicidade e liberdade\n",
    "CREATE VIEW H_FREEDOM2016 AS\n",
    "SELECT\n",
    "    (AVG(W.HAPPINESSSCORE*W.FREEDOM) - (AVG(W.HAPPINESSSCORE)*AVG(W.FREEDOM)))/\n",
    "    (STDDEV_POP(W.HAPPINESSSCORE) * STDDEV_POP(W.FREEDOM)) correlationFreedom\n",
    "FROM WHR W\n",
    "WHERE W.ANO=2016\n",
    ";"
   ]
  },
  {
   "cell_type": "code",
   "execution_count": 14,
   "metadata": {},
   "outputs": [],
   "source": [
    "-- felicidade e generosidade\n",
    "CREATE VIEW H_GENEROSITY2016 AS\n",
    "SELECT\n",
    "    (AVG(W.HAPPINESSSCORE*W.GENEROSITY) - (AVG(W.HAPPINESSSCORE)*AVG(W.GENEROSITY)))/\n",
    "    (STDDEV_POP(W.HAPPINESSSCORE) * STDDEV_POP(W.GENEROSITY)) correlationGenerosity\n",
    "FROM WHR W\n",
    "WHERE W.ANO=2016\n",
    ";"
   ]
  },
  {
   "cell_type": "code",
   "execution_count": 15,
   "metadata": {},
   "outputs": [],
   "source": [
    "-- felicidade e expectativa de vida\n",
    "CREATE VIEW H_LIFEEXPECTANCY2016 AS\n",
    "SELECT\n",
    "    (AVG(W.HAPPINESSSCORE*U.SP_DYN_LE00_IN) - (AVG(W.HAPPINESSSCORE)*AVG(U.SP_DYN_LE00_IN)))/\n",
    "    (STDDEV_POP(W.HAPPINESSSCORE) * STDDEV_POP(U.SP_DYN_LE00_IN)) correlationLifeExpectancy\n",
    "FROM WHR W, UNESCO U\n",
    "WHERE W.ANO=2016 AND U.ANO=2016 AND W.COUNTRYCODE = U.LOCAL AND U.SP_DYN_LE00_IN IS NOT NULL\n",
    ";"
   ]
  },
  {
   "cell_type": "code",
   "execution_count": 16,
   "metadata": {
    "scrolled": true
   },
   "outputs": [],
   "source": [
    "-- felicidade e populacao rural\n",
    "CREATE VIEW H_RURALPOP2016 AS\n",
    "SELECT\n",
    "    (AVG(W.HAPPINESSSCORE*U.SP_RUR_TOTL_ZS) - (AVG(W.HAPPINESSSCORE)*AVG(U.SP_RUR_TOTL_ZS)))/\n",
    "    (STDDEV_POP(W.HAPPINESSSCORE) * STDDEV_POP(U.SP_RUR_TOTL_ZS)) correlationRuralPop\n",
    "FROM WHR W, UNESCO U\n",
    "WHERE W.ANO=2016 AND U.ANO=2016 AND W.COUNTRYCODE = U.LOCAL AND U.SP_RUR_TOTL_ZS IS NOT NULL\n",
    ";"
   ]
  },
  {
   "cell_type": "code",
   "execution_count": 17,
   "metadata": {
    "scrolled": true
   },
   "outputs": [],
   "source": [
    "-- felicidade e indice de mortalidade infantil\n",
    "CREATE VIEW H_INFANCYMORTALITY2016 AS\n",
    "SELECT\n",
    "    (AVG(W.HAPPINESSSCORE*U.SP_DYN_IMRT_IN) - (AVG(W.HAPPINESSSCORE)*AVG(U.SP_DYN_IMRT_IN)))/\n",
    "    (STDDEV_POP(W.HAPPINESSSCORE) * STDDEV_POP(U.SP_DYN_IMRT_IN)) correlationInfancyMort\n",
    "FROM WHR W, UNESCO U\n",
    "WHERE W.ANO=2016 AND U.ANO=2016 AND W.COUNTRYCODE = U.LOCAL AND U.SP_DYN_IMRT_IN IS NOT NULL\n",
    ";"
   ]
  },
  {
   "cell_type": "code",
   "execution_count": 18,
   "metadata": {
    "scrolled": true
   },
   "outputs": [],
   "source": [
    "-- felicidade e expectativa de vida ao nascimento\n",
    "CREATE VIEW H_BORNLIFE2016 AS\n",
    "SELECT\n",
    "    (AVG(W.HAPPINESSSCORE*U.SP_DYN_LE00_IN) - (AVG(W.HAPPINESSSCORE)*AVG(U.SP_DYN_LE00_IN)))/\n",
    "    (STDDEV_POP(W.HAPPINESSSCORE) * STDDEV_POP(U.SP_DYN_LE00_IN)) correlationBornLifeExpec\n",
    "FROM WHR W, UNESCO U\n",
    "WHERE W.ANO=2016 AND U.ANO=2016 AND W.COUNTRYCODE = U.LOCAL AND U.SP_DYN_LE00_IN IS NOT NULL\n",
    ";"
   ]
  },
  {
   "cell_type": "code",
   "execution_count": 19,
   "metadata": {
    "scrolled": true
   },
   "outputs": [],
   "source": [
    "-- felicidade e dolar atual\n",
    "CREATE VIEW H_ACTUALCURRENCY2016 AS\n",
    "SELECT\n",
    "    (AVG(W.HAPPINESSSCORE*U.NY_GDP_MKTP_CD) - (AVG(W.HAPPINESSSCORE)*AVG(U.NY_GDP_MKTP_CD)))/\n",
    "    (STDDEV_POP(W.HAPPINESSSCORE) * STDDEV_POP(U.NY_GDP_MKTP_CD)) correlationCurrentCurrency\n",
    "FROM WHR W, UNESCO U\n",
    "WHERE W.ANO=2016 AND U.ANO=2016 AND W.COUNTRYCODE = U.LOCAL AND U.NY_GDP_MKTP_CD IS NOT NULL\n",
    ";"
   ]
  },
  {
   "cell_type": "code",
   "execution_count": 20,
   "metadata": {
    "scrolled": true
   },
   "outputs": [],
   "source": [
    "-- felicidade e crescimento do dolar\n",
    "CREATE VIEW H_DOLARGROWTH AS\n",
    "SELECT\n",
    "    (AVG(W.HAPPINESSSCORE*U.NY_GDP_MKTP_KD_ZG) - (AVG(W.HAPPINESSSCORE)*AVG(U.NY_GDP_MKTP_KD_ZG)))/\n",
    "    (STDDEV_POP(W.HAPPINESSSCORE) * STDDEV_POP(U.NY_GDP_MKTP_KD_ZG)) correlationDolarGrowth\n",
    "FROM WHR W, UNESCO U\n",
    "WHERE W.ANO=2016 AND U.ANO=2016 AND W.COUNTRYCODE = U.LOCAL AND U.NY_GDP_MKTP_KD_ZG IS NOT NULL\n",
    ";"
   ]
  },
  {
   "cell_type": "code",
   "execution_count": 21,
   "metadata": {
    "scrolled": true
   },
   "outputs": [],
   "source": [
    "-- Felicidade e população com menos de 14 anos \n",
    "CREATE VIEW H_CHILDREN2016 AS\n",
    "SELECT\n",
    "    (AVG(W.HAPPINESSSCORE*U.\"200343\") - (AVG(W.HAPPINESSSCORE)*AVG(U.\"200343\")))/\n",
    "    (STDDEV_POP(W.HAPPINESSSCORE) * STDDEV_POP(U.\"200343\")) correlationChildren\n",
    "FROM WHR W, UNESCO U\n",
    "WHERE W.ANO=2016 AND U.ANO=2016 AND W.COUNTRYCODE = U.LOCAL AND U.\"200343\" IS NOT NULL\n",
    ";"
   ]
  },
  {
   "cell_type": "code",
   "execution_count": 22,
   "metadata": {
    "scrolled": true
   },
   "outputs": [],
   "source": [
    "-- Felicidade e população entre 15 e 24 anos\n",
    "CREATE VIEW H_YOUTH2016 AS\n",
    "SELECT\n",
    "    (AVG(W.HAPPINESSSCORE*U.\"200144\") - (AVG(W.HAPPINESSSCORE)*AVG(U.\"200144\")))/\n",
    "    (STDDEV_POP(W.HAPPINESSSCORE) * STDDEV_POP(U.\"200144\")) correlationYouth\n",
    "FROM WHR W, UNESCO U\n",
    "WHERE W.ANO=2016 AND U.ANO=2016 AND W.COUNTRYCODE = U.LOCAL AND U.\"200144\" IS NOT NULL\n",
    ";"
   ]
  },
  {
   "cell_type": "code",
   "execution_count": 23,
   "metadata": {
    "scrolled": true
   },
   "outputs": [],
   "source": [
    "-- Felicidade e população entre 25 e 64 anos\n",
    "CREATE VIEW H_ADULT2016 AS\n",
    "SELECT\n",
    "    (AVG(W.HAPPINESSSCORE*U.\"200345\") - (AVG(W.HAPPINESSSCORE)*AVG(U.\"200345\")))/\n",
    "    (STDDEV_POP(W.HAPPINESSSCORE) * STDDEV_POP(U.\"200345\")) correlationAdult\n",
    "FROM WHR W, UNESCO U\n",
    "WHERE W.ANO=2016 AND U.ANO=2016 AND W.COUNTRYCODE = U.LOCAL AND U.\"200345\" IS NOT NULL\n",
    ";"
   ]
  },
  {
   "cell_type": "code",
   "execution_count": 24,
   "metadata": {
    "scrolled": true
   },
   "outputs": [],
   "source": [
    "-- Felicidade e população com mais de 65 anos\n",
    "CREATE VIEW H_OLD2016 AS\n",
    "SELECT\n",
    "    (AVG(W.HAPPINESSSCORE*U.\"200151\") - (AVG(W.HAPPINESSSCORE)*AVG(U.\"200151\")))/\n",
    "    (STDDEV_POP(W.HAPPINESSSCORE) * STDDEV_POP(U.\"200151\")) correlationOld\n",
    "FROM WHR W, UNESCO U\n",
    "WHERE W.ANO=2016 AND U.ANO=2016 AND W.COUNTRYCODE = U.LOCAL AND U.\"200151\" IS NOT NULL\n",
    ";"
   ]
  },
  {
   "cell_type": "code",
   "execution_count": 25,
   "metadata": {},
   "outputs": [],
   "source": [
    "-- felicidade e desemprego\n",
    "CREATE VIEW H_UNPLOYMENT2016 AS\n",
    "SELECT\n",
    "    (AVG(W.HAPPINESSSCORE*I.DESEMPREGO) - (AVG(W.HAPPINESSSCORE)*AVG(I.DESEMPREGO)))/\n",
    "    (STDDEV_POP(W.HAPPINESSSCORE) * STDDEV_POP(I.DESEMPREGO)) correlationUnemployment\n",
    "FROM WHR W, ILOSTAT I\n",
    "WHERE W.ANO=2016 AND I.ANO=2016 AND W.COUNTRYCODE = I.LOCAL AND I.DESEMPREGO IS NOT NULL\n",
    ";"
   ]
  },
  {
   "cell_type": "code",
   "execution_count": 26,
   "metadata": {},
   "outputs": [],
   "source": [
    "-- felicidade e pobreza\n",
    "CREATE VIEW H_POVERTY2016 AS\n",
    "SELECT\n",
    "    (AVG(W.HAPPINESSSCORE*I.POBREZA) - (AVG(W.HAPPINESSSCORE)*AVG(I.POBREZA)))/\n",
    "    (STDDEV_POP(W.HAPPINESSSCORE) * STDDEV_POP(I.POBREZA)) correlationPoverty\n",
    "FROM WHR W, ILOSTAT I\n",
    "WHERE W.ANO=2016 AND I.ANO=2016 AND W.COUNTRYCODE = I.LOCAL AND I.POBREZA IS NOT NULL\n",
    ";"
   ]
  },
  {
   "cell_type": "markdown",
   "metadata": {},
   "source": [
    "## Tabela formada"
   ]
  },
  {
   "cell_type": "code",
   "execution_count": 27,
   "metadata": {
    "scrolled": true
   },
   "outputs": [
    {
     "data": {
      "application/vnd.jupyter.widget-view+json": {
       "model_id": "d74cb6d5-0292-402d-87a3-0a612585701e",
       "version_major": 2,
       "version_minor": 0
      },
      "method": "display_data"
     },
     "metadata": {},
     "output_type": "display_data"
    }
   ],
   "source": [
    "-- TESTA ESSE, GABS --\n",
    "\n",
    "SELECT *\n",
    "FROM H_GDPPERCAPITA2016, H_CORRUPTION2016, H_FREEDOM2016, H_GENEROSITY2016, H_LIFEEXPECTANCY2016, \n",
    "H_RURALPOP2016, H_INFANCYMORTALITY2016, H_BORNLIFE2016, H_ACTUALCURRENCY2016, H_DOLARGROWTH, H_CHILDREN2016, H_YOUTH2016, \n",
    "H_ADULT2016, H_OLD2016, H_UNPLOYMENT2016, H_POVERTY2016;\n"
   ]
  },
  {
   "cell_type": "code",
   "execution_count": 28,
   "metadata": {},
   "outputs": [],
   "source": [
    "drop table if EXISTS Correlation;\n",
    "\n",
    "\n",
    "create view Correlation as\n",
    "SELECT *\n",
    "FROM H_GDPPERCAPITA2016, H_CORRUPTION2016, H_FREEDOM2016, H_GENEROSITY2016, H_LIFEEXPECTANCY2016, \n",
    "H_RURALPOP2016, H_INFANCYMORTALITY2016, H_BORNLIFE2016, H_ACTUALCURRENCY2016, H_DOLARGROWTH, H_CHILDREN2016, H_YOUTH2016, \n",
    "H_ADULT2016, H_OLD2016, H_UNPLOYMENT2016, H_POVERTY2016;\n"
   ]
  },
  {
   "cell_type": "markdown",
   "metadata": {},
   "source": [
    "# Juntando tabelas"
   ]
  },
  {
   "cell_type": "code",
   "execution_count": 71,
   "metadata": {},
   "outputs": [],
   "source": [
    "DROP TABLE IF EXISTS PAISIND;\n",
    "drop table if EXISTS TABELAUNICA;\n",
    "\n",
    "create view tabelaUnica as\n",
    "select U.LOCAL, U.ANO, U.SP_RUR_TOTL_ZS, U.SP_DYN_IMRT_IN, U.SP_DYN_LE00_IN, U.NY_GDP_MKTP_CD, U.NY_GDP_MKTP_KD_ZG, W.FREEDOM, W.GOVCORRUPTION, W.GENEROSITY, W.GDPCAPITA, I.DESEMPREGO, I.POBREZA\n",
    "from UNESCO U, WHR W, ILOSTAT I\n",
    "where U.Local = W.COUNTRYCODE and U.Local = I.Local and W.COUNTRYCODE = I.Local and U.ANO = W.ANO and U.ANO = I.ANO and W.ANO = I.ANO;\n",
    "\n"
   ]
  },
  {
   "cell_type": "code",
   "execution_count": 72,
   "metadata": {
    "scrolled": true
   },
   "outputs": [
    {
     "data": {
      "application/vnd.jupyter.widget-view+json": {
       "model_id": "0f1fdb6e-3581-4a4c-a0c6-58abddceb8b8",
       "version_major": 2,
       "version_minor": 0
      },
      "method": "display_data"
     },
     "metadata": {},
     "output_type": "display_data"
    }
   ],
   "source": [
    "select *\n",
    "from tabelaUnica\n",
    "where ano=2016;"
   ]
  },
  {
   "cell_type": "code",
   "execution_count": 37,
   "metadata": {},
   "outputs": [
    {
     "data": {
      "application/vnd.jupyter.widget-view+json": {
       "model_id": "c333f121-0291-42fa-a791-95e2e86e0067",
       "version_major": 2,
       "version_minor": 0
      },
      "method": "display_data"
     },
     "metadata": {},
     "output_type": "display_data"
    }
   ],
   "source": [
    "select *\n",
    "from UNESCODESC;"
   ]
  },
  {
   "cell_type": "markdown",
   "metadata": {},
   "source": [
    "# Função de semelhança"
   ]
  },
  {
   "cell_type": "code",
   "execution_count": 32,
   "metadata": {},
   "outputs": [],
   "source": [
    "DROP TABLE IF EXISTS PAISINDICE;\n",
    "DROP TABLE IF EXISTS NORMIND;\n",
    "\n",
    "\n",
    "-- TABELA COM INDICADORES NORMALIZADOS\n",
    "\n",
    "CREATE VIEW NORMIND AS\n",
    "SELECT \n",
    "    U.LOCAL, \n",
    "    (U.SP_RUR_TOTL_ZS/(SELECT MAX(U.SP_RUR_TOTL_ZS) FROM UNESCO U)) AS PROPRURAL, \n",
    "    (U.SP_DYN_LE00_IN/(SELECT MAX(U.SP_DYN_LE00_IN) FROM UNESCO U)) AS EXPECVIDA,\n",
    "    (W.GDPCAPITA/(SELECT MAX(W.GDPCAPITA) FROM WHR W)) AS GDPCAPITA\n",
    "FROM UNESCO U, WHR W\n",
    "WHERE \n",
    "    U.LOCAL = W.COUNTRYCODE AND U.ANO = 2016 AND W.ANO = 2016 AND\n",
    "    U.SP_RUR_TOTL_ZS IS NOT NULL AND\n",
    "    U.SP_DYN_LE00_IN IS NOT NULL AND\n",
    "    W.GDPCAPITA IS NOT NULL\n",
    ";\n"
   ]
  },
  {
   "cell_type": "code",
   "execution_count": 33,
   "metadata": {},
   "outputs": [
    {
     "data": {
      "application/vnd.jupyter.widget-view+json": {
       "model_id": "43eb97e3-99be-4ea7-93df-71791d097be6",
       "version_major": 2,
       "version_minor": 0
      },
      "method": "display_data"
     },
     "metadata": {},
     "output_type": "display_data"
    },
    {
     "data": {
      "application/vnd.jupyter.widget-view+json": {
       "model_id": "86d73e14-810f-45bd-952c-ccd1ebe6a5f2",
       "version_major": 2,
       "version_minor": 0
      },
      "method": "display_data"
     },
     "metadata": {},
     "output_type": "display_data"
    }
   ],
   "source": [
    "DROP TABLE IF EXISTS PAISINDICE;\n",
    "\n",
    "CREATE VIEW PAISINDICE AS\n",
    "SELECT\n",
    "    I.LOCAL,\n",
    "    W.HAPPINESSSCORE,\n",
    "    ( (- I.PROPRURAL + I.EXPECVIDA + I.GDPCAPITA)/(SELECT MAX(- I.PROPRURAL + I.EXPECVIDA + I.GDPCAPITA) FROM NORMIND I) ) AS INDICE\n",
    "FROM\n",
    "    NORMIND I, WHR W\n",
    "WHERE\n",
    "    I.LOCAL = W.COUNTRYCODE AND W.ANO = 2016\n",
    "ORDER BY INDICE;\n",
    "\n",
    "CALL CSVWRITE('./database/pais_indice.csv', 'SELECT * FROM PAISINDICE');\n",
    "\n",
    "SELECT * FROM PAISINDICE;"
   ]
  },
  {
   "cell_type": "code",
   "execution_count": 80,
   "metadata": {
    "scrolled": true
   },
   "outputs": [
    {
     "data": {
      "application/vnd.jupyter.widget-view+json": {
       "model_id": "9c7e6b4c-23e9-464c-aa61-b2dde0a9a492",
       "version_major": 2,
       "version_minor": 0
      },
      "method": "display_data"
     },
     "metadata": {},
     "output_type": "display_data"
    },
    {
     "data": {
      "application/vnd.jupyter.widget-view+json": {
       "model_id": "b68a4c51-e94e-4e09-ba1a-23ea68d573e0",
       "version_major": 2,
       "version_minor": 0
      },
      "method": "display_data"
     },
     "metadata": {},
     "output_type": "display_data"
    }
   ],
   "source": [
    "DROP TABLE IF EXISTS PAISIND;\n",
    "\n",
    "create view paisInd as\n",
    "select T.Local, ((\n",
    "                    C.correlationGDPCapita*T.GDPCAPITA/(SELECT MAX(T.GDPCAPITA) from tabelaUnica T)\n",
    "                  + C.correlationCorruption*T.GOVCORRUPTION/(SELECT MAX(T.GOVCORRUPTION) from tabelaUnica T)\n",
    "                  + C.correlationFreedom*T.FREEDOM/(SELECT MAX(T.FREEDOM) from tabelaUnica T)\n",
    "                  + C.correlationGenerosity*T.GENEROSITY/(SELECT MAX(T.GENEROSITY) from tabelaUnica T)\n",
    "                  + C.correlationRuralPop*T.SP_RUR_TOTL_ZS/(SELECT MAX(T.SP_RUR_TOTL_ZS) from tabelaUnica T)\n",
    "                  + C.correlationInfancyMort*T.SP_DYN_IMRT_IN/(SELECT MAX(T.SP_DYN_IMRT_IN) from tabelaUnica T)\n",
    "                  + C.correlationBornLifeExpec*T.SP_DYN_LE00_IN/(SELECT MAX(T.SP_DYN_LE00_IN) from tabelaUnica T)\n",
    "                  + C.correlationCurrentCurrency*T.NY_GDP_MKTP_CD/(SELECT MAX(T.NY_GDP_MKTP_CD) from tabelaUnica T)\n",
    "                  + C.correlationDolarGrowth*T.NY_GDP_MKTP_KD_ZG/(SELECT MAX(T.NY_GDP_MKTP_KD_ZG) from tabelaUnica T)\n",
    "                  + C.correlationUnemployment*T.DESEMPREGO/(SELECT MAX(T.DESEMPREGO) from tabelaUnica T)\n",
    "                  + C.correlationPoverty*T.POBREZA/(SELECT MAX(T.POBREZA) from tabelaUnica T)\n",
    "                ) /\n",
    "                 (ABS(C.correlationGDPCapita) + ABS(C.correlationCorruption) \n",
    "                    + ABS(C.correlationFreedom) + ABS(C.correlationGenerosity) \n",
    "                    + ABS(C.correlationLifeExpectancy) + ABS(C.correlationRuralPop) \n",
    "                    + ABS(C.correlationInfancyMort) + ABS(C.correlationBornLifeExpec) \n",
    "                    + ABS(C.correlationCurrentCurrency) + ABS(C.correlationDolarGrowth) \n",
    "                    + ABS(C.correlationUnemployment) + ABS(C.correlationPoverty)\n",
    "                 )) AS indice\n",
    "from tabelaUnica T, Correlation C\n",
    "where T.ANO = 2016;\n",
    "\n",
    "SELECT * FROM PAISIND WHERE INDICE IS NOT NULL;\n",
    "CALL CSVWRITE('./database/pais_indice.csv', 'SELECT * FROM PAISIND WHERE INDICE IS NOT NULL');"
   ]
  },
  {
   "cell_type": "code",
   "execution_count": 106,
   "metadata": {},
   "outputs": [
    {
     "data": {
      "application/vnd.jupyter.widget-view+json": {
       "model_id": "bc70fc86-15bb-45cb-805f-6a8d98ad14f2",
       "version_major": 2,
       "version_minor": 0
      },
      "method": "display_data"
     },
     "metadata": {},
     "output_type": "display_data"
    },
    {
     "data": {
      "application/vnd.jupyter.widget-view+json": {
       "model_id": "3d6ce9ca-9083-461c-845d-d317741f8e84",
       "version_major": 2,
       "version_minor": 0
      },
      "method": "display_data"
     },
     "metadata": {},
     "output_type": "display_data"
    }
   ],
   "source": [
    "DROP TABLE IF EXISTS NORMHAPPY;\n",
    "DROP TABLE IF EXISTS HAPPYFROMZERO;\n",
    "\n",
    "CREATE VIEW HAPPYFROMZERO AS\n",
    "SELECT \n",
    "    COUNTRYCODE, \n",
    "    (HAPPINESSSCORE-(SELECT MIN(HAPPINESSSCORE) FROM WHR WHERE ANO=2016)) AS HAPPINESSSCORE\n",
    "FROM WHR \n",
    "WHERE ANO = 2016;\n",
    "\n",
    "CREATE VIEW NORMHAPPY AS\n",
    "SELECT COUNTRYCODE, HAPPINESSSCORE/(SELECT MAX(HAPPINESSSCORE) FROM HAPPYFROMZERO) AS HAPPINESSSCORE\n",
    "FROM HAPPYFROMZERO;\n",
    "\n",
    "SELECT * FROM NORMHAPPY;\n",
    "CALL CSVWRITE('./database/happiness_norm.csv', 'SELECT * FROM NORMHAPPY');"
   ]
  },
  {
   "cell_type": "code",
   "execution_count": null,
   "metadata": {},
   "outputs": [],
   "source": []
  }
 ],
 "metadata": {
  "kernelspec": {
   "display_name": "SQL",
   "language": "SQL",
   "name": "sql"
  },
  "language_info": {
   "codemirror_mode": "sql",
   "file_extension": ".sql",
   "mimetype": "",
   "name": "SQL",
   "nbconverter_exporter": "",
   "version": ""
  },
  "toc": {
   "base_numbering": 1,
   "nav_menu": {},
   "number_sections": false,
   "sideBar": false,
   "skip_h1_title": false,
   "title_cell": "Table of Contents",
   "title_sidebar": "Contents",
   "toc_cell": false,
   "toc_position": {},
   "toc_section_display": false,
   "toc_window_display": false
  }
 },
 "nbformat": 4,
 "nbformat_minor": 4
}
