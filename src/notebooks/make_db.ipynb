{
 "cells": [
  {
   "cell_type": "code",
   "execution_count": 1,
   "metadata": {},
   "outputs": [],
   "source": [
    "%defaultDatasource jdbc:h2:file:./database/data.db"
   ]
  },
  {
   "cell_type": "markdown",
   "metadata": {},
   "source": [
    "# Destruir tabelas"
   ]
  },
  {
   "cell_type": "code",
   "execution_count": 2,
   "metadata": {},
   "outputs": [],
   "source": [
    "DROP TABLE IF EXISTS ABOVEHAPPY;\n",
    "DROP TABLE IF EXISTS ABOVERURAL;\n",
    "DROP TABLE IF EXISTS HAPPYRURAL;\n",
    "DROP TABLE IF EXISTS ABOVEHAPPY;\n",
    "DROP TABLE IF EXISTS ABOVEEXPEC;\n",
    "DROP TABLE IF EXISTS HAPPYVIDA;\n",
    "DROP TABLE IF EXISTS HAPPYVIDA;\n",
    "DROP TABLE IF EXISTS ABOVEGDP;\n",
    "DROP TABLE IF EXISTS ABOVEHAPPY;\n",
    "DROP TABLE IF EXISTS AVGHAPPY;\n",
    "DROP TABLE IF EXISTS COUNTRIES;\n",
    "DROP TABLE IF EXISTS SUBREGIONS;\n",
    "DROP TABLE IF EXISTS REGIONS;\n",
    "DROP TABLE IF EXISTS UNESCO;\n",
    "DROP TABLE IF EXISTS UNESCODESC;\n",
    "DROP TABLE IF EXISTS WHR;"
   ]
  },
  {
   "cell_type": "markdown",
   "metadata": {},
   "source": [
    "# Carregar tabelas"
   ]
  },
  {
   "cell_type": "code",
   "execution_count": 3,
   "metadata": {},
   "outputs": [],
   "source": [
    "DROP TABLE IF EXISTS COUNTRIES;\n",
    "DROP TABLE IF EXISTS SUBREGIONS;\n",
    "DROP TABLE IF EXISTS REGIONS;\n",
    "DROP TABLE IF EXISTS UNESCO;\n",
    "DROP TABLE IF EXISTS UNESCODESC;\n",
    "DROP TABLE IF EXISTS WHR;\n",
    "\n",
    "CREATE TABLE UNESCODESC(\n",
    "    CODIGO VARCHAR(50),\n",
    "    DESCRICAO VARCHAR(100),\n",
    "    PRIMARY KEY(CODIGO)\n",
    ") AS SELECT * FROM CSVREAD('./unesco_processed_data/unesco_descricao.csv');\n",
    "\n",
    "\n",
    "CREATE TABLE UNESCO (\n",
    "    Local VARCHAR(4) NOT NULL,\n",
    "    ANO INTEGER,\n",
    "    SP_DYN_LE00_IN DOUBLE ,\n",
    "    SP_DYN_IMRT_IN DOUBLE,\n",
    "    NY_GDP_MKTP_CD DOUBLE,\n",
    "    NY_GDP_PCAP_CD DOUBLE,\n",
    "    NY_GDP_MKTP_KD_ZG DOUBLE,\n",
    "    \"200343\" DOUBLE,\n",
    "    \"200144\" DOUBLE,\n",
    "    \"200345\" DOUBLE,\n",
    "    \"200151\" DOUBLE,\n",
    "    SP_RUR_TOTL_ZS  DOUBLE,\n",
    "    \"200101\" DOUBLE,\n",
    "    \n",
    "    PRIMARY KEY(Local, ANO)\n",
    ") AS SELECT\n",
    "    Local,\n",
    "    ANO,\n",
    "    SP_DYN_LE00_IN,\n",
    "    SP_DYN_IMRT_IN,\n",
    "    NY_GDP_MKTP_CD,\n",
    "    NY_GDP_PCAP_CD,\n",
    "    NY_GDP_MKTP_KD_ZG,\n",
    "    \"200343\",\n",
    "    \"200144\",\n",
    "    \"200345\",\n",
    "    \"200151\",\n",
    "    SP_RUR_TOTL_ZS,\n",
    "    \"200101\"\n",
    "FROM CSVREAD('./unesco_processed_data/unesco_interest_data.csv');\n",
    "\n",
    "\n",
    "CREATE TABLE WHR(\n",
    "    COUNTRYCODE VARCHAR(5),\n",
    "    ANO INTEGER,\n",
    "    HAPPINESSRANK INTEGER,\n",
    "    HAPPINESSSCORE DOUBLE,\n",
    "    GDPCAPITA DOUBLE,\n",
    "    FAMILY DOUBLE,\n",
    "    LIFEEXPECTANCY DOUBLE,\n",
    "    FREEDOM DOUBLE,\n",
    "    GOVCORRUPTION DOUBLE,\n",
    "    GENEROSITY DOUBLE,\n",
    "    PRIMARY KEY(COUNTRYCODE, ANO)\n",
    ") AS SELECT \n",
    "    ALPHA3,\n",
    "    ANO,\n",
    "    HAPPINESSRANK,\n",
    "    HAPPINESSSCORE,\n",
    "    GDPCAPITA,\n",
    "    FAMILY,\n",
    "    LIFEEXPECTANCY,\n",
    "    FREEDOM,\n",
    "    GOVCORRUPTION,\n",
    "    GENEROSITY\n",
    "FROM CSVREAD('./WHR_processed/whr_processado.csv');\n",
    "\n",
    "\n",
    "CREATE TABLE REGIONS(\n",
    "    REGION VARCHAR(30),\n",
    "    PRIMARY KEY(REGION)\n",
    ") AS SELECT * FROM  CSVREAD('./countries_processed/regions.csv');\n",
    "\n",
    "CREATE TABLE SUBREGIONS(\n",
    "    SUBREGION VARCHAR(50),\n",
    "    REGION VARCHAR(30),\n",
    "    PRIMARY KEY(SUBREGION),\n",
    "    FOREIGN KEY(REGION)\n",
    "        REFERENCES REGIONS(REGION)\n",
    "            ON DELETE CASCADE\n",
    "            ON UPDATE CASCADE\n",
    ") AS SELECT * FROM  CSVREAD('./countries_processed/subregions.csv');\n",
    "\n",
    "CREATE TABLE COUNTRIES(\n",
    "    ALPHA3 VARCHAR(5),\n",
    "    ALPHA2 VARCHAR(5),\n",
    "    COUNTRY VARCHAR(100),\n",
    "    SUBREGION VARCHAR(50),\n",
    "    PRIMARY KEY(ALPHA3),\n",
    "    FOREIGN KEY(SUBREGION)\n",
    "        REFERENCES SUBREGIONS(SUBREGION)\n",
    "            ON DELETE CASCADE\n",
    "            ON UPDATE CASCADE\n",
    ") AS SELECT \n",
    "    ALPHA3,\n",
    "    ALPHA2,\n",
    "    NAME,\n",
    "    SUBREGION\n",
    "FROM  CSVREAD('./countries_processed/countries.csv');"
   ]
  },
  {
   "cell_type": "code",
   "execution_count": 4,
   "metadata": {},
   "outputs": [
    {
     "data": {
      "application/vnd.jupyter.widget-view+json": {
       "model_id": "3fb02001-42e4-4a89-b4e7-04afef153188",
       "version_major": 2,
       "version_minor": 0
      },
      "method": "display_data"
     },
     "metadata": {},
     "output_type": "display_data"
    },
    {
     "data": {
      "application/vnd.jupyter.widget-view+json": {
       "model_id": "af38b74f-5f25-4a3b-8f89-bc402da031e4",
       "version_major": 2,
       "version_minor": 0
      },
      "method": "display_data"
     },
     "metadata": {},
     "output_type": "display_data"
    },
    {
     "data": {
      "application/vnd.jupyter.widget-view+json": {
       "model_id": "66afe055-f723-489a-8b33-c11c9842043b",
       "version_major": 2,
       "version_minor": 0
      },
      "method": "display_data"
     },
     "metadata": {},
     "output_type": "display_data"
    },
    {
     "data": {
      "application/vnd.jupyter.widget-view+json": {
       "model_id": "d2736b4d-9e0d-4982-86ce-c8926f164430",
       "version_major": 2,
       "version_minor": 0
      },
      "method": "display_data"
     },
     "metadata": {},
     "output_type": "display_data"
    },
    {
     "data": {
      "application/vnd.jupyter.widget-view+json": {
       "model_id": "a5dd19c3-d1d5-48b4-80a5-f58d3448a72d",
       "version_major": 2,
       "version_minor": 0
      },
      "method": "display_data"
     },
     "metadata": {},
     "output_type": "display_data"
    },
    {
     "data": {
      "application/vnd.jupyter.widget-view+json": {
       "model_id": "1ac05534-4a47-434c-9a09-8f8f06c842f4",
       "version_major": 2,
       "version_minor": 0
      },
      "method": "display_data"
     },
     "metadata": {},
     "output_type": "display_data"
    }
   ],
   "source": [
    "SELECT * FROM UNESCO;\n",
    "SELECT * FROM UNESCODESC;\n",
    "SELECT * FROM WHR;\n",
    "SELECT * FROM REGIONS;\n",
    "SELECT * FROM SUBREGIONS;\n",
    "SELECT * FROM COUNTRIES;"
   ]
  },
  {
   "cell_type": "markdown",
   "metadata": {},
   "source": [
    "#### Dados da Unesco\n",
    "\n",
    "-    \"SP_DYN_LE00_IN\", expectativa de vida\n",
    "-    \"SP_DYN_IMRT_IN\", mortalidade infantil por 1000 nascimentos\n",
    "-    \"NY_GDP_MKTP_CD\", GDP (current US$)\n",
    "-    \"NY_GDP_PCAP_CD\", pib per capita\n",
    "-    \"NY_GDP_MKTP_KD_ZG\",  GDP growth (annual %)\n",
    "-    \"200343\", Population aged 14 years or younger (thousands)\n",
    "-    \"200144\", Population aged 15-24 years (thousands)\n",
    "-    \"200345\", Population aged 25-64 years (thousands) \n",
    "-    \"200151\", Population aged 65 years or older (thousands)\n",
    "-    \"SP_RUR_TOTL_ZS\", Rural population (% of total population)\n",
    "-    \"200101\"  Total population (thousands)"
   ]
  },
  {
   "cell_type": "markdown",
   "metadata": {},
   "source": [
    "# Felicidade em 2016 vs GDP per capita\n",
    "\n",
    "Analisando os dados de felicidade temos que:\n",
    "\n",
    "- 50,34% dos países têm felicidade acima da média\n",
    "- 76,19% dos países com GDP per capita acima da média são mais felizes\n",
    "- Parece haver uma relação entre esses indicadores"
   ]
  },
  {
   "cell_type": "code",
   "execution_count": 5,
   "metadata": {},
   "outputs": [
    {
     "data": {
      "application/vnd.jupyter.widget-view+json": {
       "model_id": "644ece40-b7b9-46b5-a110-08ac2647b247",
       "version_major": 2,
       "version_minor": 0
      },
      "method": "display_data"
     },
     "metadata": {},
     "output_type": "display_data"
    },
    {
     "data": {
      "application/vnd.jupyter.widget-view+json": {
       "model_id": "e96034b0-b186-4b58-8491-741fb202ff45",
       "version_major": 2,
       "version_minor": 0
      },
      "method": "display_data"
     },
     "metadata": {},
     "output_type": "display_data"
    },
    {
     "data": {
      "application/vnd.jupyter.widget-view+json": {
       "model_id": "33047bab-83c5-4c03-939d-9323390daac3",
       "version_major": 2,
       "version_minor": 0
      },
      "method": "display_data"
     },
     "metadata": {},
     "output_type": "display_data"
    },
    {
     "data": {
      "application/vnd.jupyter.widget-view+json": {
       "model_id": "72370261-32c0-47ab-b058-640f333f85b1",
       "version_major": 2,
       "version_minor": 0
      },
      "method": "display_data"
     },
     "metadata": {},
     "output_type": "display_data"
    }
   ],
   "source": [
    "-- FELICIDADE VS GDP PER CAPITA\n",
    "DROP TABLE IF EXISTS ABOVEGDP;\n",
    "DROP TABLE IF EXISTS ABOVEHAPPY;\n",
    "DROP TABLE IF EXISTS AVGHAPPY;\n",
    "\n",
    "-- MEDIA DE FELICIDADE 2016\n",
    "CREATE VIEW AVGHAPPY AS\n",
    "SELECT AVG(HAPPINESSSCORE) FROM WHR WHERE ANO = 2016;\n",
    "\n",
    "-- PAISES COM FELICIDADE ACIMA DA MEDIA EM 2016\n",
    "CREATE VIEW ABOVEHAPPY AS\n",
    "SELECT COUNTRYCODE, HAPPINESSSCORE\n",
    "    FROM WHR, AVGHAPPY A\n",
    "    WHERE\n",
    "        HAPPINESSSCORE > (SELECT * FROM AVGHAPPY) AND ANO = 2016;\n",
    "        \n",
    "-- PAISES COM GDP PER CAPITA ACIMA DA MEDIA\n",
    "CREATE VIEW ABOVEGDP AS\n",
    "SELECT COUNTRYCODE, GDPCAPITA\n",
    "    FROM WHR\n",
    "    WHERE\n",
    "        GDPCAPITA > (SELECT AVG(GDPCAPITA) FROM WHR WHERE ANO = 2016) AND ANO = 2016;\n",
    "        \n",
    "        \n",
    "-- TOTAL DE PAISES EM 2016\n",
    "SELECT COUNT(COUNTRYCODE)\n",
    "    FROM WHR\n",
    "    WHERE ANO=2016;\n",
    "    \n",
    "-- TOTAL DE PAISES COM FELICIDADE ACIMA DA MEDIA EM 2016\n",
    "SELECT COUNT(COUNTRYCODE)\n",
    "    FROM ABOVEHAPPY;\n",
    "    \n",
    "-- TOTAL DE PAISES COM GDP PER CAPITA ACIMA DA MEDIA EM 2016\n",
    "SELECT COUNT(COUNTRYCODE)\n",
    "    FROM ABOVEGDP;\n",
    "  \n",
    "  \n",
    "-- TOTAL DE PAISES COM FELICIDADE E GDP PER CAPITA ACIMA DE MEDIA EM 2016\n",
    "SELECT COUNT(H.COUNTRYCODE)\n",
    "    FROM ABOVEHAPPY H, ABOVEGDP G\n",
    "    WHERE H.COUNTRYCODE = G.COUNTRYCODE;"
   ]
  },
  {
   "cell_type": "markdown",
   "metadata": {},
   "source": [
    "# Felicidade vs expectativa de vida em 2016\n",
    "\n",
    "Analisando os dados de felicidade temos que:\n",
    "\n",
    "- Descartando países sem dados\n",
    "\n",
    "- 50,00% dos países têm felicidade acima da média\n",
    "- 74,41% dos países com expectativa de vida acima da média são mais felizes\n",
    "- Parece haver uma relação entre esses indicadores"
   ]
  },
  {
   "cell_type": "code",
   "execution_count": 6,
   "metadata": {},
   "outputs": [
    {
     "data": {
      "application/vnd.jupyter.widget-view+json": {
       "model_id": "9d883d33-948b-4c58-9903-1e3ef2ec6fc7",
       "version_major": 2,
       "version_minor": 0
      },
      "method": "display_data"
     },
     "metadata": {},
     "output_type": "display_data"
    },
    {
     "data": {
      "application/vnd.jupyter.widget-view+json": {
       "model_id": "bb487ebe-5afd-44f5-9d86-60fdda39f3e2",
       "version_major": 2,
       "version_minor": 0
      },
      "method": "display_data"
     },
     "metadata": {},
     "output_type": "display_data"
    },
    {
     "data": {
      "application/vnd.jupyter.widget-view+json": {
       "model_id": "08250270-ebd5-4b4d-a4c6-d244a4f14251",
       "version_major": 2,
       "version_minor": 0
      },
      "method": "display_data"
     },
     "metadata": {},
     "output_type": "display_data"
    },
    {
     "data": {
      "application/vnd.jupyter.widget-view+json": {
       "model_id": "39135c09-d582-4505-ab1f-42a4bff02b62",
       "version_major": 2,
       "version_minor": 0
      },
      "method": "display_data"
     },
     "metadata": {},
     "output_type": "display_data"
    }
   ],
   "source": [
    "-- ANALISE FELICIDADE X Expectativa de vida\"SP_DYN_LE00_IN\" \n",
    "DROP TABLE IF EXISTS ABOVEHAPPY;\n",
    "DROP TABLE IF EXISTS ABOVEEXPEC;\n",
    "DROP TABLE IF EXISTS HAPPYVIDA;\n",
    "\n",
    "CREATE VIEW HAPPYVIDA AS\n",
    "SELECT W.COUNTRYCODE, W.ANO, W.HAPPINESSSCORE, U.SP_DYN_LE00_IN AS EXPECVIDA\n",
    "    FROM WHR W, UNESCO U\n",
    "    WHERE\n",
    "        W.COUNTRYCODE = U.LOCAL AND W.ANO = U.ANO AND W.ANO = 2016;\n",
    "\n",
    "CREATE VIEW ABOVEEXPEC AS\n",
    "SELECT COUNTRYCODE, EXPECVIDA\n",
    "    FROM HAPPYVIDA\n",
    "    WHERE EXPECVIDA>(SELECT AVG(EXPECVIDA) FROM HAPPYVIDA)\n",
    "    ORDER BY EXPECVIDA;\n",
    "    \n",
    "CREATE VIEW ABOVEHAPPY AS\n",
    "SELECT COUNTRYCODE, HAPPINESSSCORE\n",
    "    FROM HAPPYVIDA\n",
    "    WHERE HAPPINESSSCORE>(SELECT AVG(HAPPINESSSCORE) FROM HAPPYVIDA)\n",
    "    ORDER BY HAPPINESSSCORE;\n",
    "    \n",
    "-- TOTAL DE PAISES EM 2016\n",
    "SELECT COUNT(COUNTRYCODE)\n",
    "    FROM HAPPYVIDA;\n",
    "    \n",
    "-- TOTAL DE PAISES COM FELICIDADE ACIMA DA MEDIA EM 2016\n",
    "SELECT COUNT(COUNTRYCODE)\n",
    "    FROM ABOVEHAPPY;\n",
    "    \n",
    "-- TOTAL DE PAISES COM EXPECTATIVA DE VIDA ACIMA DA MEDIA EM 2016\n",
    "SELECT COUNT(COUNTRYCODE)\n",
    "    FROM ABOVEEXPEC;\n",
    "  \n",
    "  \n",
    "-- TOTAL DE PAISES COM FELICIDADE E EXPECTATIVA DE VIDA ACIMA DE MEDIA EM 2016\n",
    "SELECT COUNT(H.COUNTRYCODE)\n",
    "    FROM ABOVEHAPPY H, ABOVEEXPEC E\n",
    "    WHERE H.COUNTRYCODE = E.COUNTRYCODE;\n",
    "    \n"
   ]
  },
  {
   "cell_type": "markdown",
   "metadata": {},
   "source": [
    "# Felicidade vs população rural em 2016\n",
    "\n",
    "Analisando os dados de felicidade temos que:\n",
    "\n",
    "- Descartando países sem dados\n",
    "\n",
    "- 48,95% dos países têm felicidade acima da média\n",
    "- 24,29% dos países com população rural (%) acima da média são mais felizes\n",
    "- Parece haver uma relação inversa entre esses indicadores"
   ]
  },
  {
   "cell_type": "code",
   "execution_count": 22,
   "metadata": {},
   "outputs": [
    {
     "data": {
      "application/vnd.jupyter.widget-view+json": {
       "model_id": "3c7b2106-8516-4fe5-8bfe-5b3410f8f5c2",
       "version_major": 2,
       "version_minor": 0
      },
      "method": "display_data"
     },
     "metadata": {},
     "output_type": "display_data"
    },
    {
     "data": {
      "application/vnd.jupyter.widget-view+json": {
       "model_id": "2f646821-4700-4adc-9550-c8e40bfac44d",
       "version_major": 2,
       "version_minor": 0
      },
      "method": "display_data"
     },
     "metadata": {},
     "output_type": "display_data"
    },
    {
     "data": {
      "application/vnd.jupyter.widget-view+json": {
       "model_id": "daff0117-9e12-4bc0-8c04-672d1b8301e8",
       "version_major": 2,
       "version_minor": 0
      },
      "method": "display_data"
     },
     "metadata": {},
     "output_type": "display_data"
    },
    {
     "data": {
      "application/vnd.jupyter.widget-view+json": {
       "model_id": "c53b616a-cc12-4c56-b191-0d4066652c62",
       "version_major": 2,
       "version_minor": 0
      },
      "method": "display_data"
     },
     "metadata": {},
     "output_type": "display_data"
    }
   ],
   "source": [
    "-- ANALISE FELICIDADE X PORCENTAGEM DE POPULAÇÃO RURAL (SP_RUR_TOTL_ZS)\n",
    "DROP TABLE IF EXISTS ABOVEHAPPY;\n",
    "DROP TABLE IF EXISTS ABOVERURAL;\n",
    "DROP TABLE IF EXISTS HAPPYRURAL;\n",
    "\n",
    "CREATE VIEW HAPPYRURAL AS\n",
    "SELECT W.COUNTRYCODE, W.ANO, W.HAPPINESSSCORE, U.SP_RUR_TOTL_ZS AS PROPRURAL\n",
    "    FROM WHR W, UNESCO U\n",
    "    WHERE\n",
    "        W.COUNTRYCODE = U.LOCAL AND W.ANO = U.ANO AND W.ANO = 2016\n",
    "        AND U.SP_RUR_TOTL_ZS IS NOT NULL;\n",
    "        \n",
    "\n",
    "CREATE VIEW ABOVERURAL AS\n",
    "SELECT COUNTRYCODE, PROPRURAL\n",
    "    FROM HAPPYRURAL\n",
    "    WHERE PROPRURAL>(SELECT AVG(PROPRURAL) FROM HAPPYRURAL)\n",
    "    ORDER BY PROPRURAL;\n",
    "    \n",
    "CREATE VIEW ABOVEHAPPY AS\n",
    "SELECT COUNTRYCODE, HAPPINESSSCORE\n",
    "    FROM HAPPYRURAL\n",
    "    WHERE HAPPINESSSCORE>(SELECT AVG(HAPPINESSSCORE) FROM HAPPYRURAL)\n",
    "    ORDER BY HAPPINESSSCORE;\n",
    "    \n",
    "    \n",
    "-- TOTAL DE PAISES EM 2016\n",
    "SELECT COUNT(COUNTRYCODE)\n",
    "    FROM HAPPYRURAL;\n",
    "    \n",
    "-- TOTAL DE PAISES COM FELICIDADE ACIMA DA MEDIA EM 2016\n",
    "SELECT COUNT(COUNTRYCODE)\n",
    "    FROM ABOVEHAPPY;\n",
    "    \n",
    "-- TOTAL DE PAISES COM POPULACAO RURAL (%) ACIMA DA MEDIA EM 2016\n",
    "SELECT COUNT(COUNTRYCODE)\n",
    "    FROM ABOVERURAL;\n",
    "  \n",
    "  \n",
    "-- TOTAL DE PAISES COM FELICIDADE E EXPECTATIVA DE VIDA ACIMA DE MEDIA EM 2016\n",
    "SELECT COUNT(H.COUNTRYCODE)\n",
    "    FROM ABOVEHAPPY H, ABOVERURAL R\n",
    "    WHERE H.COUNTRYCODE = R.COUNTRYCODE;\n",
    "    \n",
    "\n"
   ]
  },
  {
   "cell_type": "markdown",
   "metadata": {},
   "source": [
    "# Função de semelhança"
   ]
  },
  {
   "cell_type": "code",
   "execution_count": 76,
   "metadata": {},
   "outputs": [
    {
     "data": {
      "application/vnd.jupyter.widget-view+json": {
       "model_id": "81d23aaa-766c-4dcd-a024-8e3c90b4a6c7",
       "version_major": 2,
       "version_minor": 0
      },
      "method": "display_data"
     },
     "metadata": {},
     "output_type": "display_data"
    }
   ],
   "source": [
    "DROP TABLE IF EXISTS PAISINDICE;\n",
    "DROP TABLE IF EXISTS NORMIND;\n",
    "\n",
    "\n",
    "-- TABELA COM INDICADORES NORMALIZADOS\n",
    "\n",
    "CREATE VIEW NORMIND AS\n",
    "SELECT \n",
    "    U.LOCAL, \n",
    "    (U.SP_RUR_TOTL_ZS/(SELECT MAX(U.SP_RUR_TOTL_ZS) FROM UNESCO U)) AS PROPRURAL, \n",
    "    (U.SP_DYN_LE00_IN/(SELECT MAX(U.SP_DYN_LE00_IN) FROM UNESCO U)) AS EXPECVIDA,\n",
    "    (W.GDPCAPITA/(SELECT MAX(W.GDPCAPITA) FROM WHR W)) AS GDPCAPITA\n",
    "FROM UNESCO U, WHR W\n",
    "WHERE \n",
    "    U.LOCAL = W.COUNTRYCODE AND U.ANO = 2016 AND W.ANO = 2016 AND\n",
    "    U.SP_RUR_TOTL_ZS IS NOT NULL AND\n",
    "    U.SP_DYN_LE00_IN IS NOT NULL AND\n",
    "    W.GDPCAPITA IS NOT NULL\n",
    ";\n"
   ]
  },
  {
   "cell_type": "code",
   "execution_count": 79,
   "metadata": {},
   "outputs": [
    {
     "data": {
      "application/vnd.jupyter.widget-view+json": {
       "model_id": "a187903e-1120-4985-b8a4-69437299e843",
       "version_major": 2,
       "version_minor": 0
      },
      "method": "display_data"
     },
     "metadata": {},
     "output_type": "display_data"
    },
    {
     "data": {
      "application/vnd.jupyter.widget-view+json": {
       "model_id": "e7d76fbf-c8d3-41a5-8dab-2fef0a26d52b",
       "version_major": 2,
       "version_minor": 0
      },
      "method": "display_data"
     },
     "metadata": {},
     "output_type": "display_data"
    }
   ],
   "source": [
    "DROP TABLE IF EXISTS PAISINDICE;\n",
    "\n",
    "CREATE VIEW PAISINDICE AS\n",
    "SELECT\n",
    "    I.LOCAL,\n",
    "    W.HAPPINESSSCORE,\n",
    "    ( (- I.PROPRURAL + I.EXPECVIDA + I.GDPCAPITA)/(SELECT MAX(- I.PROPRURAL + I.EXPECVIDA + I.GDPCAPITA) FROM NORMIND I) ) AS INDICE\n",
    "FROM\n",
    "    NORMIND I, WHR W\n",
    "WHERE\n",
    "    I.LOCAL = W.COUNTRYCODE AND W.ANO = 2016\n",
    "ORDER BY INDICE;\n",
    "\n",
    "CALL CSVWRITE('./database/pais_indice.csv', 'SELECT * FROM PAISINDICE');\n",
    "\n",
    "SELECT * FROM PAISINDICE;"
   ]
  }
 ],
 "metadata": {
  "kernelspec": {
   "display_name": "SQL",
   "language": "SQL",
   "name": "sql"
  },
  "language_info": {
   "codemirror_mode": "sql",
   "file_extension": ".sql",
   "mimetype": "",
   "name": "SQL",
   "nbconverter_exporter": "",
   "version": ""
  },
  "toc": {
   "base_numbering": 1,
   "nav_menu": {},
   "number_sections": false,
   "sideBar": false,
   "skip_h1_title": false,
   "title_cell": "Table of Contents",
   "title_sidebar": "Contents",
   "toc_cell": false,
   "toc_position": {},
   "toc_section_display": false,
   "toc_window_display": false
  }
 },
 "nbformat": 4,
 "nbformat_minor": 4
}
