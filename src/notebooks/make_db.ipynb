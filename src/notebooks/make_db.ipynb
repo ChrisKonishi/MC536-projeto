{
 "cells": [
  {
   "cell_type": "code",
   "execution_count": 1,
   "metadata": {},
   "outputs": [],
   "source": [
    "%defaultDatasource jdbc:h2:file:./database/data.db"
   ]
  },
  {
   "cell_type": "markdown",
   "metadata": {},
   "source": [
    "# Destruir tabelas"
   ]
  },
  {
   "cell_type": "code",
   "execution_count": 2,
   "metadata": {},
   "outputs": [],
   "source": [
    "DROP TABLE IF EXISTS ABOVEHAPPY;\n",
    "DROP TABLE IF EXISTS ABOVERURAL;\n",
    "DROP TABLE IF EXISTS HAPPYRURAL;\n",
    "DROP TABLE IF EXISTS ABOVEHAPPY;\n",
    "DROP TABLE IF EXISTS ABOVEEXPEC;\n",
    "DROP TABLE IF EXISTS HAPPYVIDA;\n",
    "DROP TABLE IF EXISTS HAPPYVIDA;\n",
    "DROP TABLE IF EXISTS ABOVEGDP;\n",
    "DROP TABLE IF EXISTS ABOVEHAPPY;\n",
    "DROP TABLE IF EXISTS AVGHAPPY;\n",
    "DROP TABLE IF EXISTS COUNTRIES;\n",
    "DROP TABLE IF EXISTS SUBREGIONS;\n",
    "DROP TABLE IF EXISTS REGIONS;\n",
    "DROP TABLE IF EXISTS UNESCO;\n",
    "DROP TABLE IF EXISTS UNESCODESC;\n",
    "DROP TABLE IF EXISTS WHR;\n",
    "DROP TABLE IF EXISTS ILOSTAT;"
   ]
  },
  {
   "cell_type": "markdown",
   "metadata": {},
   "source": [
    "# Carregar tabelas"
   ]
  },
  {
   "cell_type": "code",
   "execution_count": 3,
   "metadata": {},
   "outputs": [],
   "source": [
    "DROP TABLE IF EXISTS COUNTRIES;\n",
    "DROP TABLE IF EXISTS SUBREGIONS;\n",
    "DROP TABLE IF EXISTS REGIONS;\n",
    "DROP TABLE IF EXISTS UNESCO;\n",
    "DROP TABLE IF EXISTS UNESCODESC;\n",
    "DROP TABLE IF EXISTS WHR;\n",
    "DROP TABLE IF EXISTS ILOSTAT;\n",
    "\n",
    "\n",
    "CREATE TABLE REGIONS(\n",
    "    REGION VARCHAR(30),\n",
    "    PRIMARY KEY(REGION)\n",
    ") AS SELECT * FROM  CSVREAD('./countries_processed/regions.csv');\n",
    "\n",
    "CREATE TABLE SUBREGIONS(\n",
    "    SUBREGION VARCHAR(50),\n",
    "    REGION VARCHAR(30),\n",
    "    PRIMARY KEY(SUBREGION),\n",
    "    FOREIGN KEY(REGION)\n",
    "        REFERENCES REGIONS(REGION)\n",
    "            ON DELETE CASCADE\n",
    "            ON UPDATE CASCADE\n",
    ") AS SELECT * FROM  CSVREAD('./countries_processed/subregions.csv');\n",
    "\n",
    "CREATE TABLE COUNTRIES(\n",
    "    ALPHA3 VARCHAR(5),\n",
    "    ALPHA2 VARCHAR(5),\n",
    "    COUNTRY VARCHAR(100),\n",
    "    SUBREGION VARCHAR(50),\n",
    "    PRIMARY KEY(ALPHA3),\n",
    "    FOREIGN KEY(SUBREGION)\n",
    "        REFERENCES SUBREGIONS(SUBREGION)\n",
    "            ON DELETE CASCADE\n",
    "            ON UPDATE CASCADE\n",
    ") AS SELECT \n",
    "    ALPHA3,\n",
    "    ALPHA2,\n",
    "    NAME,\n",
    "    SUBREGION\n",
    "FROM  CSVREAD('./countries_processed/countries.csv');\n",
    "\n",
    "\n",
    "CREATE TABLE UNESCODESC(\n",
    "    CODIGO VARCHAR(50),\n",
    "    DESCRICAO VARCHAR(100),\n",
    "    PRIMARY KEY(CODIGO)\n",
    ") AS SELECT * FROM CSVREAD('./unesco_processed_data/unesco_descricao.csv');\n",
    "\n",
    "\n",
    "CREATE TABLE UNESCO (\n",
    "    Local VARCHAR(4) NOT NULL,\n",
    "    ANO INTEGER,\n",
    "    SP_DYN_LE00_IN DOUBLE ,\n",
    "    SP_DYN_IMRT_IN DOUBLE,\n",
    "    NY_GDP_MKTP_CD DOUBLE,\n",
    "    NY_GDP_PCAP_CD DOUBLE,\n",
    "    NY_GDP_MKTP_KD_ZG DOUBLE,\n",
    "    \"200343\" DOUBLE,\n",
    "    \"200144\" DOUBLE,\n",
    "    \"200345\" DOUBLE,\n",
    "    \"200151\" DOUBLE,\n",
    "    SP_RUR_TOTL_ZS  DOUBLE,\n",
    "    \"200101\" DOUBLE,\n",
    "    \n",
    "    PRIMARY KEY(Local, ANO) \n",
    "\n",
    ") AS SELECT\n",
    "    Local,\n",
    "    ANO,\n",
    "    SP_DYN_LE00_IN,\n",
    "    SP_DYN_IMRT_IN,\n",
    "    NY_GDP_MKTP_CD,\n",
    "    NY_GDP_PCAP_CD,\n",
    "    NY_GDP_MKTP_KD_ZG,\n",
    "    \"200343\",\n",
    "    \"200144\",\n",
    "    \"200345\",\n",
    "    \"200151\",\n",
    "    SP_RUR_TOTL_ZS,\n",
    "    \"200101\"\n",
    "FROM CSVREAD('./unesco_processed_data/unesco_interest_data.csv');\n",
    "\n",
    "\n",
    "CREATE TABLE WHR(\n",
    "    COUNTRYCODE VARCHAR(4),\n",
    "    ANO INTEGER,\n",
    "    HAPPINESSRANK INTEGER,\n",
    "    HAPPINESSSCORE DOUBLE,\n",
    "    GDPCAPITA DOUBLE,\n",
    "    FAMILY DOUBLE,\n",
    "    LIFEEXPECTANCY DOUBLE,\n",
    "    FREEDOM DOUBLE,\n",
    "    GOVCORRUPTION DOUBLE,\n",
    "    GENEROSITY DOUBLE,\n",
    "    \n",
    "    PRIMARY KEY(COUNTRYCODE, ANO)    \n",
    "\n",
    ") AS SELECT \n",
    "    ALPHA3,\n",
    "    ANO,\n",
    "    HAPPINESSRANK,\n",
    "    HAPPINESSSCORE,\n",
    "    GDPCAPITA,\n",
    "    FAMILY,\n",
    "    LIFEEXPECTANCY,\n",
    "    FREEDOM,\n",
    "    GOVCORRUPTION,\n",
    "    GENEROSITY\n",
    "FROM CSVREAD('./WHR_processed/whr_processado.csv');\n",
    "\n",
    "\n",
    "CREATE TABLE ILOSTAT(\n",
    "    LOCAL VARCHAR(4),\n",
    "    ANO INTEGER,\n",
    "    DESEMPREGO DOUBLE,\n",
    "    POBREZA DOUBLE,\n",
    "    \n",
    "    PRIMARY KEY(LOCAL, ANO)    \n",
    "\n",
    ") AS SELECT \n",
    "    LOCAL,\n",
    "    ANO,\n",
    "    DESEMPREGO,\n",
    "    POBREZA\n",
    "FROM CSVREAD('./ilostat_processed/ilostat_processed.csv');\n",
    "\n"
   ]
  },
  {
   "cell_type": "code",
   "execution_count": 4,
   "metadata": {},
   "outputs": [
    {
     "data": {
      "application/vnd.jupyter.widget-view+json": {
       "model_id": "3bb9d23a-b558-44e8-80d2-6f6567e52466",
       "version_major": 2,
       "version_minor": 0
      },
      "method": "display_data"
     },
     "metadata": {},
     "output_type": "display_data"
    },
    {
     "data": {
      "application/vnd.jupyter.widget-view+json": {
       "model_id": "4e279d4f-35c2-444d-a7b6-91e996978203",
       "version_major": 2,
       "version_minor": 0
      },
      "method": "display_data"
     },
     "metadata": {},
     "output_type": "display_data"
    },
    {
     "data": {
      "application/vnd.jupyter.widget-view+json": {
       "model_id": "9c9b6c06-c8f4-4184-aaf9-34315c332270",
       "version_major": 2,
       "version_minor": 0
      },
      "method": "display_data"
     },
     "metadata": {},
     "output_type": "display_data"
    }
   ],
   "source": [
    "SELECT * FROM REGIONS;\n",
    "SELECT * FROM SUBREGIONS;\n",
    "SELECT * FROM COUNTRIES;"
   ]
  },
  {
   "cell_type": "code",
   "execution_count": 5,
   "metadata": {},
   "outputs": [
    {
     "data": {
      "application/vnd.jupyter.widget-view+json": {
       "model_id": "5c2d99e8-e482-4913-9f31-f9d8b25ee9c9",
       "version_major": 2,
       "version_minor": 0
      },
      "method": "display_data"
     },
     "metadata": {},
     "output_type": "display_data"
    },
    {
     "data": {
      "application/vnd.jupyter.widget-view+json": {
       "model_id": "fbe16a57-0f0f-4425-a0d0-b691ad4fecef",
       "version_major": 2,
       "version_minor": 0
      },
      "method": "display_data"
     },
     "metadata": {},
     "output_type": "display_data"
    },
    {
     "data": {
      "application/vnd.jupyter.widget-view+json": {
       "model_id": "0160876b-9f7a-4b72-933c-fa1b79974493",
       "version_major": 2,
       "version_minor": 0
      },
      "method": "display_data"
     },
     "metadata": {},
     "output_type": "display_data"
    },
    {
     "data": {
      "application/vnd.jupyter.widget-view+json": {
       "model_id": "0643cc01-5676-4048-9e74-b9afe7cc14b3",
       "version_major": 2,
       "version_minor": 0
      },
      "method": "display_data"
     },
     "metadata": {},
     "output_type": "display_data"
    }
   ],
   "source": [
    "SELECT * FROM UNESCO;\n",
    "SELECT * FROM UNESCODESC;\n",
    "SELECT * FROM WHR;\n",
    "SELECT * FROM ILOSTAT;\n",
    "-- ILOSTAT\n",
    "-- populacao acima de 15 anos (%) abaixo da linha de probreza\n",
    "-- população de 15 a 64 anos (%) desempregada"
   ]
  },
  {
   "cell_type": "markdown",
   "metadata": {},
   "source": [
    "#### Dados da Unesco\n",
    "\n",
    "-    \"SP_DYN_LE00_IN\", expectativa de vida\n",
    "-    \"SP_DYN_IMRT_IN\", mortalidade infantil por 1000 nascimentos\n",
    "-    \"NY_GDP_MKTP_CD\", GDP (current US$)\n",
    "-    \"NY_GDP_PCAP_CD\", pib per capita\n",
    "-    \"NY_GDP_MKTP_KD_ZG\",  GDP growth (annual %)\n",
    "-    \"200343\", Population aged 14 years or younger (thousands)\n",
    "-    \"200144\", Population aged 15-24 years (thousands)\n",
    "-    \"200345\", Population aged 25-64 years (thousands) \n",
    "-    \"200151\", Population aged 65 years or older (thousands)\n",
    "-    \"SP_RUR_TOTL_ZS\", Rural population (% of total population)\n",
    "-    \"200101\"  Total population (thousands)"
   ]
  },
  {
   "cell_type": "markdown",
   "metadata": {},
   "source": [
    "# Felicidade em 2016 vs GDP per capita\n",
    "\n",
    "Analisando os dados de felicidade temos que:\n",
    "\n",
    "- 50,34% dos países têm felicidade acima da média\n",
    "- 76,19% dos países com GDP per capita acima da média são mais felizes\n",
    "- Parece haver uma relação entre esses indicadores"
   ]
  },
  {
   "cell_type": "code",
   "execution_count": 6,
   "metadata": {},
   "outputs": [
    {
     "data": {
      "application/vnd.jupyter.widget-view+json": {
       "model_id": "e3f6d690-c3d7-443a-a756-3f9faae52e85",
       "version_major": 2,
       "version_minor": 0
      },
      "method": "display_data"
     },
     "metadata": {},
     "output_type": "display_data"
    },
    {
     "data": {
      "application/vnd.jupyter.widget-view+json": {
       "model_id": "2613d3df-436a-49c9-b73f-7bc1ae09c544",
       "version_major": 2,
       "version_minor": 0
      },
      "method": "display_data"
     },
     "metadata": {},
     "output_type": "display_data"
    },
    {
     "data": {
      "application/vnd.jupyter.widget-view+json": {
       "model_id": "db01aefd-913b-4bb9-9307-5c3f3de3fada",
       "version_major": 2,
       "version_minor": 0
      },
      "method": "display_data"
     },
     "metadata": {},
     "output_type": "display_data"
    },
    {
     "data": {
      "application/vnd.jupyter.widget-view+json": {
       "model_id": "eb2780d1-9f8f-486d-883c-8fecb6a439cf",
       "version_major": 2,
       "version_minor": 0
      },
      "method": "display_data"
     },
     "metadata": {},
     "output_type": "display_data"
    }
   ],
   "source": [
    "-- FELICIDADE VS GDP PER CAPITA\n",
    "DROP TABLE IF EXISTS ABOVEGDP;\n",
    "DROP TABLE IF EXISTS ABOVEHAPPY;\n",
    "DROP TABLE IF EXISTS AVGHAPPY;\n",
    "\n",
    "-- MEDIA DE FELICIDADE 2016\n",
    "CREATE VIEW AVGHAPPY AS\n",
    "SELECT AVG(HAPPINESSSCORE) FROM WHR WHERE ANO = 2016;\n",
    "\n",
    "-- PAISES COM FELICIDADE ACIMA DA MEDIA EM 2016\n",
    "CREATE VIEW ABOVEHAPPY AS\n",
    "SELECT COUNTRYCODE, HAPPINESSSCORE\n",
    "    FROM WHR, AVGHAPPY A\n",
    "    WHERE\n",
    "        HAPPINESSSCORE > (SELECT * FROM AVGHAPPY) AND ANO = 2016;\n",
    "        \n",
    "-- PAISES COM GDP PER CAPITA ACIMA DA MEDIA\n",
    "CREATE VIEW ABOVEGDP AS\n",
    "SELECT COUNTRYCODE, GDPCAPITA\n",
    "    FROM WHR\n",
    "    WHERE\n",
    "        GDPCAPITA > (SELECT AVG(GDPCAPITA) FROM WHR WHERE ANO = 2016) AND ANO = 2016;\n",
    "        \n",
    "        \n",
    "-- TOTAL DE PAISES EM 2016\n",
    "SELECT COUNT(COUNTRYCODE)\n",
    "    FROM WHR\n",
    "    WHERE ANO=2016;\n",
    "    \n",
    "-- TOTAL DE PAISES COM FELICIDADE ACIMA DA MEDIA EM 2016\n",
    "SELECT COUNT(COUNTRYCODE)\n",
    "    FROM ABOVEHAPPY;\n",
    "    \n",
    "-- TOTAL DE PAISES COM GDP PER CAPITA ACIMA DA MEDIA EM 2016\n",
    "SELECT COUNT(COUNTRYCODE)\n",
    "    FROM ABOVEGDP;\n",
    "  \n",
    "  \n",
    "-- TOTAL DE PAISES COM FELICIDADE E GDP PER CAPITA ACIMA DE MEDIA EM 2016\n",
    "SELECT COUNT(H.COUNTRYCODE)\n",
    "    FROM ABOVEHAPPY H, ABOVEGDP G\n",
    "    WHERE H.COUNTRYCODE = G.COUNTRYCODE;"
   ]
  },
  {
   "cell_type": "markdown",
   "metadata": {},
   "source": [
    "# Felicidade vs expectativa de vida em 2016\n",
    "\n",
    "Analisando os dados de felicidade temos que:\n",
    "\n",
    "- Descartando países sem dados\n",
    "\n",
    "- 50,00% dos países têm felicidade acima da média\n",
    "- 74,41% dos países com expectativa de vida acima da média são mais felizes\n",
    "- Parece haver uma relação entre esses indicadores"
   ]
  },
  {
   "cell_type": "code",
   "execution_count": 7,
   "metadata": {},
   "outputs": [
    {
     "data": {
      "application/vnd.jupyter.widget-view+json": {
       "model_id": "1702dd11-ff25-4ab1-81c6-6f744046f89e",
       "version_major": 2,
       "version_minor": 0
      },
      "method": "display_data"
     },
     "metadata": {},
     "output_type": "display_data"
    },
    {
     "data": {
      "application/vnd.jupyter.widget-view+json": {
       "model_id": "aacb1a95-218b-4ce0-9c2b-4a650820767a",
       "version_major": 2,
       "version_minor": 0
      },
      "method": "display_data"
     },
     "metadata": {},
     "output_type": "display_data"
    },
    {
     "data": {
      "application/vnd.jupyter.widget-view+json": {
       "model_id": "47d06e94-282e-426f-9133-0eb489e9ad9f",
       "version_major": 2,
       "version_minor": 0
      },
      "method": "display_data"
     },
     "metadata": {},
     "output_type": "display_data"
    },
    {
     "data": {
      "application/vnd.jupyter.widget-view+json": {
       "model_id": "457d6409-3fdc-4b0f-a589-6380c7b73e69",
       "version_major": 2,
       "version_minor": 0
      },
      "method": "display_data"
     },
     "metadata": {},
     "output_type": "display_data"
    }
   ],
   "source": [
    "-- ANALISE FELICIDADE X Expectativa de vida\"SP_DYN_LE00_IN\" \n",
    "DROP TABLE IF EXISTS ABOVEHAPPY;\n",
    "DROP TABLE IF EXISTS ABOVEEXPEC;\n",
    "DROP TABLE IF EXISTS HAPPYVIDA;\n",
    "\n",
    "CREATE VIEW HAPPYVIDA AS\n",
    "SELECT W.COUNTRYCODE, W.ANO, W.HAPPINESSSCORE, U.SP_DYN_LE00_IN AS EXPECVIDA\n",
    "    FROM WHR W, UNESCO U\n",
    "    WHERE\n",
    "        W.COUNTRYCODE = U.LOCAL AND W.ANO = U.ANO AND W.ANO = 2016;\n",
    "\n",
    "CREATE VIEW ABOVEEXPEC AS\n",
    "SELECT COUNTRYCODE, EXPECVIDA\n",
    "    FROM HAPPYVIDA\n",
    "    WHERE EXPECVIDA>(SELECT AVG(EXPECVIDA) FROM HAPPYVIDA)\n",
    "    ORDER BY EXPECVIDA;\n",
    "    \n",
    "CREATE VIEW ABOVEHAPPY AS\n",
    "SELECT COUNTRYCODE, HAPPINESSSCORE\n",
    "    FROM HAPPYVIDA\n",
    "    WHERE HAPPINESSSCORE>(SELECT AVG(HAPPINESSSCORE) FROM HAPPYVIDA)\n",
    "    ORDER BY HAPPINESSSCORE;\n",
    "    \n",
    "-- TOTAL DE PAISES EM 2016\n",
    "SELECT COUNT(COUNTRYCODE)\n",
    "    FROM HAPPYVIDA;\n",
    "    \n",
    "-- TOTAL DE PAISES COM FELICIDADE ACIMA DA MEDIA EM 2016\n",
    "SELECT COUNT(COUNTRYCODE)\n",
    "    FROM ABOVEHAPPY;\n",
    "    \n",
    "-- TOTAL DE PAISES COM EXPECTATIVA DE VIDA ACIMA DA MEDIA EM 2016\n",
    "SELECT COUNT(COUNTRYCODE)\n",
    "    FROM ABOVEEXPEC;\n",
    "  \n",
    "  \n",
    "-- TOTAL DE PAISES COM FELICIDADE E EXPECTATIVA DE VIDA ACIMA DE MEDIA EM 2016\n",
    "SELECT COUNT(H.COUNTRYCODE)\n",
    "    FROM ABOVEHAPPY H, ABOVEEXPEC E\n",
    "    WHERE H.COUNTRYCODE = E.COUNTRYCODE;\n",
    "    \n"
   ]
  },
  {
   "cell_type": "markdown",
   "metadata": {},
   "source": [
    "# Felicidade vs população rural em 2016\n",
    "\n",
    "Analisando os dados de felicidade temos que:\n",
    "\n",
    "- Descartando países sem dados\n",
    "\n",
    "- 48,95% dos países têm felicidade acima da média\n",
    "- 24,29% dos países com população rural (%) acima da média são mais felizes\n",
    "- Parece haver uma relação inversa entre esses indicadores"
   ]
  },
  {
   "cell_type": "code",
   "execution_count": 8,
   "metadata": {},
   "outputs": [
    {
     "data": {
      "application/vnd.jupyter.widget-view+json": {
       "model_id": "d7e4ebe1-4f31-44c3-993b-6eb16f6ba3fd",
       "version_major": 2,
       "version_minor": 0
      },
      "method": "display_data"
     },
     "metadata": {},
     "output_type": "display_data"
    },
    {
     "data": {
      "application/vnd.jupyter.widget-view+json": {
       "model_id": "39bde50a-0c3f-4e1c-ade0-0109899b99dc",
       "version_major": 2,
       "version_minor": 0
      },
      "method": "display_data"
     },
     "metadata": {},
     "output_type": "display_data"
    },
    {
     "data": {
      "application/vnd.jupyter.widget-view+json": {
       "model_id": "d019d6a6-be76-4dc6-a667-a4c0065b062a",
       "version_major": 2,
       "version_minor": 0
      },
      "method": "display_data"
     },
     "metadata": {},
     "output_type": "display_data"
    },
    {
     "data": {
      "application/vnd.jupyter.widget-view+json": {
       "model_id": "b8aba6d3-8647-43be-9501-ff5248d1817a",
       "version_major": 2,
       "version_minor": 0
      },
      "method": "display_data"
     },
     "metadata": {},
     "output_type": "display_data"
    }
   ],
   "source": [
    "-- ANALISE FELICIDADE X PORCENTAGEM DE POPULAÇÃO RURAL (SP_RUR_TOTL_ZS)\n",
    "DROP TABLE IF EXISTS ABOVEHAPPY;\n",
    "DROP TABLE IF EXISTS ABOVERURAL;\n",
    "DROP TABLE IF EXISTS HAPPYRURAL;\n",
    "\n",
    "CREATE VIEW HAPPYRURAL AS\n",
    "SELECT W.COUNTRYCODE, W.ANO, W.HAPPINESSSCORE, U.SP_RUR_TOTL_ZS AS PROPRURAL\n",
    "    FROM WHR W, UNESCO U\n",
    "    WHERE\n",
    "        W.COUNTRYCODE = U.LOCAL AND W.ANO = U.ANO AND W.ANO = 2016\n",
    "        AND U.SP_RUR_TOTL_ZS IS NOT NULL;\n",
    "        \n",
    "\n",
    "CREATE VIEW ABOVERURAL AS\n",
    "SELECT COUNTRYCODE, PROPRURAL\n",
    "    FROM HAPPYRURAL\n",
    "    WHERE PROPRURAL>(SELECT AVG(PROPRURAL) FROM HAPPYRURAL)\n",
    "    ORDER BY PROPRURAL;\n",
    "    \n",
    "CREATE VIEW ABOVEHAPPY AS\n",
    "SELECT COUNTRYCODE, HAPPINESSSCORE\n",
    "    FROM HAPPYRURAL\n",
    "    WHERE HAPPINESSSCORE>(SELECT AVG(HAPPINESSSCORE) FROM HAPPYRURAL)\n",
    "    ORDER BY HAPPINESSSCORE;\n",
    "    \n",
    "    \n",
    "-- TOTAL DE PAISES EM 2016\n",
    "SELECT COUNT(COUNTRYCODE)\n",
    "    FROM HAPPYRURAL;\n",
    "    \n",
    "-- TOTAL DE PAISES COM FELICIDADE ACIMA DA MEDIA EM 2016\n",
    "SELECT COUNT(COUNTRYCODE)\n",
    "    FROM ABOVEHAPPY;\n",
    "    \n",
    "-- TOTAL DE PAISES COM POPULACAO RURAL (%) ACIMA DA MEDIA EM 2016\n",
    "SELECT COUNT(COUNTRYCODE)\n",
    "    FROM ABOVERURAL;\n",
    "  \n",
    "  \n",
    "-- TOTAL DE PAISES COM FELICIDADE E EXPECTATIVA DE VIDA ACIMA DE MEDIA EM 2016\n",
    "SELECT COUNT(H.COUNTRYCODE)\n",
    "    FROM ABOVEHAPPY H, ABOVERURAL R\n",
    "    WHERE H.COUNTRYCODE = R.COUNTRYCODE;\n",
    "    \n",
    "\n"
   ]
  },
  {
   "cell_type": "markdown",
   "metadata": {},
   "source": [
    "# Correlações"
   ]
  },
  {
   "cell_type": "markdown",
   "metadata": {},
   "source": [
    "## 2016 ------------------------------------------"
   ]
  },
  {
   "cell_type": "code",
   "execution_count": 32,
   "metadata": {},
   "outputs": [],
   "source": [
    "-- Droping tables if exists --\n",
    "DROP TABLE IF EXISTS H_GDPPERCAPITA2016;\n",
    "DROP TABLE IF EXISTS H_CORRUPTION2016;\n",
    "DROP TABLE IF EXISTS H_FREEDOM2016;\n",
    "DROP TABLE IF EXISTS H_GENEROSITY2016;\n",
    "DROP TABLE IF EXISTS H_LIFEEXPECTANCY2016;\n",
    "DROP TABLE IF EXISTS H_RURALPOP2016;\n",
    "DROP TABLE IF EXISTS H_INFANCYMORTALITY2016;\n",
    "DROP TABLE IF EXISTS H_BORNLIFE2016;\n",
    "DROP TABLE IF EXISTS H_ACTUALCURRENCY2016;\n",
    "DROP TABLE IF EXISTS H_DOLARGROWTH;\n",
    "DROP TABLE IF EXISTS H_CHILDREN2016;\n",
    "DROP TABLE IF EXISTS H_YOUTH2016;\n",
    "DROP TABLE IF EXISTS H_ADULT2016;\n",
    "DROP TABLE IF EXISTS H_OLD2016;\n",
    "DROP TABLE IF EXISTS H_UNPLOYMENT2016;\n",
    "DROP TABLE IF EXISTS H_POVERTY2016;"
   ]
  },
  {
   "cell_type": "code",
   "execution_count": 33,
   "metadata": {},
   "outputs": [],
   "source": [
    "-- felicidade e gdppercapita\n",
    "CREATE VIEW H_GDPPERCAPITA2016 AS\n",
    "SELECT\n",
    "    (AVG(W.HAPPINESSSCORE*W.GDPCAPITA) - (AVG(W.HAPPINESSSCORE)*AVG(W.GDPCAPITA)))/\n",
    "    (STDDEV_POP(W.HAPPINESSSCORE) * STDDEV_POP(W.GDPCAPITA))\n",
    "FROM WHR W\n",
    "WHERE W.ANO=2016\n",
    ";"
   ]
  },
  {
   "cell_type": "code",
   "execution_count": 34,
   "metadata": {},
   "outputs": [],
   "source": [
    "-- felicidade e corrupcao\n",
    "CREATE VIEW H_CORRUPTION2016 AS\n",
    "SELECT\n",
    "    (AVG(W.HAPPINESSSCORE*W.GOVCORRUPTION) - (AVG(W.HAPPINESSSCORE)*AVG(W.GOVCORRUPTION)))/\n",
    "    (STDDEV_POP(W.HAPPINESSSCORE) * STDDEV_POP(W.GOVCORRUPTION))\n",
    "FROM WHR W\n",
    "WHERE W.ANO=2016\n",
    ";"
   ]
  },
  {
   "cell_type": "code",
   "execution_count": 35,
   "metadata": {},
   "outputs": [],
   "source": [
    "-- felicidade e liberdade\n",
    "CREATE VIEW H_FREEDOM2016 AS\n",
    "SELECT\n",
    "    (AVG(W.HAPPINESSSCORE*W.FREEDOM) - (AVG(W.HAPPINESSSCORE)*AVG(W.FREEDOM)))/\n",
    "    (STDDEV_POP(W.HAPPINESSSCORE) * STDDEV_POP(W.FREEDOM))\n",
    "FROM WHR W\n",
    "WHERE W.ANO=2016\n",
    ";"
   ]
  },
  {
   "cell_type": "code",
   "execution_count": 36,
   "metadata": {},
   "outputs": [],
   "source": [
    "-- felicidade e generosidade\n",
    "CREATE VIEW H_GENEROSITY2016 AS\n",
    "SELECT\n",
    "    (AVG(W.HAPPINESSSCORE*W.GENEROSITY) - (AVG(W.HAPPINESSSCORE)*AVG(W.GENEROSITY)))/\n",
    "    (STDDEV_POP(W.HAPPINESSSCORE) * STDDEV_POP(W.GENEROSITY))\n",
    "FROM WHR W\n",
    "WHERE W.ANO=2016\n",
    ";"
   ]
  },
  {
   "cell_type": "code",
   "execution_count": 37,
   "metadata": {},
   "outputs": [],
   "source": [
    "-- felicidade e expectativa de vida\n",
    "CREATE VIEW H_LIFEEXPECTANCY2016 AS\n",
    "SELECT\n",
    "    (AVG(W.HAPPINESSSCORE*U.SP_DYN_LE00_IN) - (AVG(W.HAPPINESSSCORE)*AVG(U.SP_DYN_LE00_IN)))/\n",
    "    (STDDEV_POP(W.HAPPINESSSCORE) * STDDEV_POP(U.SP_DYN_LE00_IN))\n",
    "FROM WHR W, UNESCO U\n",
    "WHERE W.ANO=2016 AND U.ANO=2016 AND W.COUNTRYCODE = U.LOCAL AND U.SP_DYN_LE00_IN IS NOT NULL\n",
    ";"
   ]
  },
  {
   "cell_type": "code",
   "execution_count": 38,
   "metadata": {
    "scrolled": true
   },
   "outputs": [],
   "source": [
    "-- felicidade e populacao rural\n",
    "CREATE VIEW H_RURALPOP2016 AS\n",
    "SELECT\n",
    "    (AVG(W.HAPPINESSSCORE*U.SP_RUR_TOTL_ZS) - (AVG(W.HAPPINESSSCORE)*AVG(U.SP_RUR_TOTL_ZS)))/\n",
    "    (STDDEV_POP(W.HAPPINESSSCORE) * STDDEV_POP(U.SP_RUR_TOTL_ZS))\n",
    "FROM WHR W, UNESCO U\n",
    "WHERE W.ANO=2016 AND U.ANO=2016 AND W.COUNTRYCODE = U.LOCAL AND U.SP_RUR_TOTL_ZS IS NOT NULL\n",
    ";"
   ]
  },
  {
   "cell_type": "code",
   "execution_count": 39,
   "metadata": {
    "scrolled": true
   },
   "outputs": [],
   "source": [
    "-- felicidade e indice de mortalidade infantil\n",
    "CREATE VIEW H_INFANCYMORTALITY2016 AS\n",
    "SELECT\n",
    "    (AVG(W.HAPPINESSSCORE*U.SP_DYN_IMRT_IN) - (AVG(W.HAPPINESSSCORE)*AVG(U.SP_DYN_IMRT_IN)))/\n",
    "    (STDDEV_POP(W.HAPPINESSSCORE) * STDDEV_POP(U.SP_DYN_IMRT_IN))\n",
    "FROM WHR W, UNESCO U\n",
    "WHERE W.ANO=2016 AND U.ANO=2016 AND W.COUNTRYCODE = U.LOCAL AND U.SP_DYN_IMRT_IN IS NOT NULL\n",
    ";"
   ]
  },
  {
   "cell_type": "code",
   "execution_count": 40,
   "metadata": {
    "scrolled": true
   },
   "outputs": [],
   "source": [
    "-- felicidade e expectativa de vida ao nascimento\n",
    "CREATE VIEW H_BORNLIFE2016 AS\n",
    "SELECT\n",
    "    (AVG(W.HAPPINESSSCORE*U.SP_DYN_LE00_IN) - (AVG(W.HAPPINESSSCORE)*AVG(U.SP_DYN_LE00_IN)))/\n",
    "    (STDDEV_POP(W.HAPPINESSSCORE) * STDDEV_POP(U.SP_DYN_LE00_IN))\n",
    "FROM WHR W, UNESCO U\n",
    "WHERE W.ANO=2016 AND U.ANO=2016 AND W.COUNTRYCODE = U.LOCAL AND U.SP_DYN_LE00_IN IS NOT NULL\n",
    ";"
   ]
  },
  {
   "cell_type": "code",
   "execution_count": 41,
   "metadata": {
    "scrolled": true
   },
   "outputs": [],
   "source": [
    "-- felicidade e dolar atual\n",
    "CREATE VIEW H_ACTUALCURRENCY2016 AS\n",
    "SELECT\n",
    "    (AVG(W.HAPPINESSSCORE*U.NY_GDP_MKTP_CD) - (AVG(W.HAPPINESSSCORE)*AVG(U.NY_GDP_MKTP_CD)))/\n",
    "    (STDDEV_POP(W.HAPPINESSSCORE) * STDDEV_POP(U.NY_GDP_MKTP_CD))\n",
    "FROM WHR W, UNESCO U\n",
    "WHERE W.ANO=2016 AND U.ANO=2016 AND W.COUNTRYCODE = U.LOCAL AND U.NY_GDP_MKTP_CD IS NOT NULL\n",
    ";"
   ]
  },
  {
   "cell_type": "code",
   "execution_count": 42,
   "metadata": {
    "scrolled": true
   },
   "outputs": [],
   "source": [
    "-- felicidade e crescimento do dolar\n",
    "CREATE VIEW H_DOLARGROWTH AS\n",
    "SELECT\n",
    "    (AVG(W.HAPPINESSSCORE*U.NY_GDP_MKTP_KD_ZG) - (AVG(W.HAPPINESSSCORE)*AVG(U.NY_GDP_MKTP_KD_ZG)))/\n",
    "    (STDDEV_POP(W.HAPPINESSSCORE) * STDDEV_POP(U.NY_GDP_MKTP_KD_ZG))\n",
    "FROM WHR W, UNESCO U\n",
    "WHERE W.ANO=2016 AND U.ANO=2016 AND W.COUNTRYCODE = U.LOCAL AND U.NY_GDP_MKTP_KD_ZG IS NOT NULL\n",
    ";"
   ]
  },
  {
   "cell_type": "code",
   "execution_count": 43,
   "metadata": {
    "scrolled": true
   },
   "outputs": [],
   "source": [
    "-- Felicidade e população com menos de 14 anos \n",
    "CREATE VIEW H_CHILDREN2016 AS\n",
    "SELECT\n",
    "    (AVG(W.HAPPINESSSCORE*U.\"200343\") - (AVG(W.HAPPINESSSCORE)*AVG(U.\"200343\")))/\n",
    "    (STDDEV_POP(W.HAPPINESSSCORE) * STDDEV_POP(U.\"200343\"))\n",
    "FROM WHR W, UNESCO U\n",
    "WHERE W.ANO=2016 AND U.ANO=2016 AND W.COUNTRYCODE = U.LOCAL AND U.\"200343\" IS NOT NULL\n",
    ";"
   ]
  },
  {
   "cell_type": "code",
   "execution_count": 44,
   "metadata": {
    "scrolled": true
   },
   "outputs": [],
   "source": [
    "-- Felicidade e população entre 15 e 24 anos\n",
    "CREATE VIEW H_YOUTH2016 AS\n",
    "SELECT\n",
    "    (AVG(W.HAPPINESSSCORE*U.\"200144\") - (AVG(W.HAPPINESSSCORE)*AVG(U.\"200144\")))/\n",
    "    (STDDEV_POP(W.HAPPINESSSCORE) * STDDEV_POP(U.\"200144\"))\n",
    "FROM WHR W, UNESCO U\n",
    "WHERE W.ANO=2016 AND U.ANO=2016 AND W.COUNTRYCODE = U.LOCAL AND U.\"200144\" IS NOT NULL\n",
    ";"
   ]
  },
  {
   "cell_type": "code",
   "execution_count": 45,
   "metadata": {
    "scrolled": true
   },
   "outputs": [],
   "source": [
    "-- Felicidade e população entre 25 e 64 anos\n",
    "CREATE VIEW H_ADULT2016 AS\n",
    "SELECT\n",
    "    (AVG(W.HAPPINESSSCORE*U.\"200345\") - (AVG(W.HAPPINESSSCORE)*AVG(U.\"200345\")))/\n",
    "    (STDDEV_POP(W.HAPPINESSSCORE) * STDDEV_POP(U.\"200345\"))\n",
    "FROM WHR W, UNESCO U\n",
    "WHERE W.ANO=2016 AND U.ANO=2016 AND W.COUNTRYCODE = U.LOCAL AND U.\"200345\" IS NOT NULL\n",
    ";"
   ]
  },
  {
   "cell_type": "code",
   "execution_count": 46,
   "metadata": {
    "scrolled": true
   },
   "outputs": [],
   "source": [
    "-- Felicidade e população com mais de 65 anos\n",
    "CREATE VIEW H_OLD2016 AS\n",
    "SELECT\n",
    "    (AVG(W.HAPPINESSSCORE*U.\"200151\") - (AVG(W.HAPPINESSSCORE)*AVG(U.\"200151\")))/\n",
    "    (STDDEV_POP(W.HAPPINESSSCORE) * STDDEV_POP(U.\"200151\"))\n",
    "FROM WHR W, UNESCO U\n",
    "WHERE W.ANO=2016 AND U.ANO=2016 AND W.COUNTRYCODE = U.LOCAL AND U.\"200151\" IS NOT NULL\n",
    ";"
   ]
  },
  {
   "cell_type": "code",
   "execution_count": 47,
   "metadata": {},
   "outputs": [],
   "source": [
    "-- felicidade e desemprego\n",
    "CREATE VIEW H_UNPLOYMENT2016 AS\n",
    "SELECT\n",
    "    (AVG(W.HAPPINESSSCORE*I.DESEMPREGO) - (AVG(W.HAPPINESSSCORE)*AVG(I.DESEMPREGO)))/\n",
    "    (STDDEV_POP(W.HAPPINESSSCORE) * STDDEV_POP(I.DESEMPREGO))\n",
    "FROM WHR W, ILOSTAT I\n",
    "WHERE W.ANO=2016 AND I.ANO=2016 AND W.COUNTRYCODE = I.LOCAL AND I.DESEMPREGO IS NOT NULL\n",
    ";"
   ]
  },
  {
   "cell_type": "code",
   "execution_count": 48,
   "metadata": {},
   "outputs": [],
   "source": [
    "-- felicidade e pobreza\n",
    "CREATE VIEW H_POVERTY2016 AS\n",
    "SELECT\n",
    "    (AVG(W.HAPPINESSSCORE*I.POBREZA) - (AVG(W.HAPPINESSSCORE)*AVG(I.POBREZA)))/\n",
    "    (STDDEV_POP(W.HAPPINESSSCORE) * STDDEV_POP(I.POBREZA))\n",
    "FROM WHR W, ILOSTAT I\n",
    "WHERE W.ANO=2016 AND I.ANO=2016 AND W.COUNTRYCODE = I.LOCAL AND I.POBREZA IS NOT NULL\n",
    ";"
   ]
  },
  {
   "cell_type": "markdown",
   "metadata": {},
   "source": [
    "## Tabela formada"
   ]
  },
  {
   "cell_type": "code",
   "execution_count": 55,
   "metadata": {},
   "outputs": [
    {
     "data": {
      "application/vnd.jupyter.widget-view+json": {
       "model_id": "2edf69bd-3f26-46e2-b316-55790b159518",
       "version_major": 2,
       "version_minor": 0
      },
      "method": "display_data"
     },
     "metadata": {},
     "output_type": "display_data"
    }
   ],
   "source": [
    "-- TESTA ESSE, GABS --\n",
    "\n",
    "SELECT H_GDPPERCAPITA2016.*, H_CORRUPTION2016.*, H_FREEDOM2016.*, H_GENEROSITY2016.*, H_LIFEEXPECTANCY2016.*, \n",
    "H_RURALPOP2016.*, H_INFANCYMORTALITY2016.*, H_BORNLIFE2016.*, H_ACTUALCURRENCY2016.*, H_DOLARGROWTH.*, H_CHILDREN2016.*, H_YOUTH2016.*, \n",
    "H_ADULT2016.*, H_OLD2016.*, H_UNPLOYMENT2016.*, H_POVERTY2016.*\n",
    "FROM H_GDPPERCAPITA2016, H_CORRUPTION2016, H_FREEDOM2016, H_GENEROSITY2016, H_LIFEEXPECTANCY2016, \n",
    "H_RURALPOP2016, H_INFANCYMORTALITY2016, H_BORNLIFE2016, H_ACTUALCURRENCY2016, H_DOLARGROWTH, H_CHILDREN2016, H_YOUTH2016, \n",
    "H_ADULT2016, H_OLD2016, H_UNPLOYMENT2016, H_POVERTY2016;\n"
   ]
  },
  {
   "cell_type": "markdown",
   "metadata": {},
   "source": [
    "# Função de semelhança"
   ]
  },
  {
   "cell_type": "code",
   "execution_count": 25,
   "metadata": {},
   "outputs": [],
   "source": [
    "DROP TABLE IF EXISTS PAISINDICE;\n",
    "DROP TABLE IF EXISTS NORMIND;\n",
    "\n",
    "\n",
    "-- TABELA COM INDICADORES NORMALIZADOS\n",
    "\n",
    "CREATE VIEW NORMIND AS\n",
    "SELECT \n",
    "    U.LOCAL, \n",
    "    (U.SP_RUR_TOTL_ZS/(SELECT MAX(U.SP_RUR_TOTL_ZS) FROM UNESCO U)) AS PROPRURAL, \n",
    "    (U.SP_DYN_LE00_IN/(SELECT MAX(U.SP_DYN_LE00_IN) FROM UNESCO U)) AS EXPECVIDA,\n",
    "    (W.GDPCAPITA/(SELECT MAX(W.GDPCAPITA) FROM WHR W)) AS GDPCAPITA\n",
    "FROM UNESCO U, WHR W\n",
    "WHERE \n",
    "    U.LOCAL = W.COUNTRYCODE AND U.ANO = 2016 AND W.ANO = 2016 AND\n",
    "    U.SP_RUR_TOTL_ZS IS NOT NULL AND\n",
    "    U.SP_DYN_LE00_IN IS NOT NULL AND\n",
    "    W.GDPCAPITA IS NOT NULL\n",
    ";\n"
   ]
  },
  {
   "cell_type": "code",
   "execution_count": 26,
   "metadata": {},
   "outputs": [
    {
     "data": {
      "application/vnd.jupyter.widget-view+json": {
       "model_id": "80c2ab68-7c8b-4b2c-9a8e-dc5b282fd940",
       "version_major": 2,
       "version_minor": 0
      },
      "method": "display_data"
     },
     "metadata": {},
     "output_type": "display_data"
    },
    {
     "data": {
      "application/vnd.jupyter.widget-view+json": {
       "model_id": "03c2493b-01b0-42a6-af50-c0e3cb755e99",
       "version_major": 2,
       "version_minor": 0
      },
      "method": "display_data"
     },
     "metadata": {},
     "output_type": "display_data"
    }
   ],
   "source": [
    "DROP TABLE IF EXISTS PAISINDICE;\n",
    "\n",
    "CREATE VIEW PAISINDICE AS\n",
    "SELECT\n",
    "    I.LOCAL,\n",
    "    W.HAPPINESSSCORE,\n",
    "    ( (- I.PROPRURAL + I.EXPECVIDA + I.GDPCAPITA)/(SELECT MAX(- I.PROPRURAL + I.EXPECVIDA + I.GDPCAPITA) FROM NORMIND I) ) AS INDICE\n",
    "FROM\n",
    "    NORMIND I, WHR W\n",
    "WHERE\n",
    "    I.LOCAL = W.COUNTRYCODE AND W.ANO = 2016\n",
    "ORDER BY INDICE;\n",
    "\n",
    "CALL CSVWRITE('./database/pais_indice.csv', 'SELECT * FROM PAISINDICE');\n",
    "\n",
    "SELECT * FROM PAISINDICE;"
   ]
  },
  {
   "cell_type": "code",
   "execution_count": null,
   "metadata": {},
   "outputs": [],
   "source": []
  }
 ],
 "metadata": {
  "kernelspec": {
   "display_name": "SQL",
   "language": "SQL",
   "name": "sql"
  },
  "language_info": {
   "codemirror_mode": "sql",
   "file_extension": ".sql",
   "mimetype": "",
   "name": "SQL",
   "nbconverter_exporter": "",
   "version": ""
  },
  "toc": {
   "base_numbering": 1,
   "nav_menu": {},
   "number_sections": false,
   "sideBar": false,
   "skip_h1_title": false,
   "title_cell": "Table of Contents",
   "title_sidebar": "Contents",
   "toc_cell": false,
   "toc_position": {},
   "toc_section_display": false,
   "toc_window_display": false
  }
 },
 "nbformat": 4,
 "nbformat_minor": 4
}
