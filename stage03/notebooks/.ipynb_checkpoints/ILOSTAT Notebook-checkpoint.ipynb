{
 "cells": [
  {
   "cell_type": "markdown",
   "metadata": {},
   "source": [
    "# Dados extraídos do ILOSTAT"
   ]
  },
  {
   "cell_type": "code",
   "execution_count": 21,
   "metadata": {},
   "outputs": [],
   "source": [
    "import pandas as pd\n",
    "import sqlite3\n",
    "\n",
    "#Indice de desemprego\n",
    "unploymentRatePath = \"./datasets/ILOSTAT/unemployment_rate.csv\"\n",
    "\n",
    "#População por localização/sexo/idade\n",
    "populationPath = \"./datasets/ILOSTAT/population.csv\"\n",
    "\n",
    "#Indice de falta de condições dignas de trabalho\n",
    "workingPovertyPath = \"./datasets/ILOSTAT/working_poverty_rate.csv\"\n",
    "\n",
    "#Indice de interferência infantil na economia\n",
    "childrenEconomicActPath = \"./datasets/ILOSTAT/children_economic_act.csv\"\n",
    "\n",
    "#Country Codes ISO-3166\n",
    "path = \"./datasets/CountryRegionalCode.csv\"\n",
    "\n",
    "#Selecionando colunas importantes para nós\n",
    "colRegionList = [\"alpha-3\", \"region\"]\n",
    "\n",
    "#Arquivo ecom as nossas pré-definições\n",
    "countryRegionalCode = pd.read_csv(path, usecols=colRegionList)\n"
   ]
  },
  {
   "cell_type": "markdown",
   "metadata": {},
   "source": [
    "## Indice de desemprego ----------------------------"
   ]
  },
  {
   "cell_type": "code",
   "execution_count": null,
   "metadata": {},
   "outputs": [],
   "source": [
    "#Selecionando colunas importantes para nós\n",
    "cols = [\"ref_area\", \"sex\", \"classif1\", \"obs_value\"]\n",
    "\n",
    "#Indice de desemprego\n",
    "data = pd.read_csv(unploymentRatePath, usecols=cols)\n",
    "\n",
    "joinData = countryRegionalCode.set_index('alpha-3').join(data.set_index('ref_area'))\n",
    "\n",
    "print(joinData)"
   ]
  },
  {
   "cell_type": "markdown",
   "metadata": {},
   "source": [
    "## População por localização/sexo/idade -"
   ]
  },
  {
   "cell_type": "code",
   "execution_count": 23,
   "metadata": {},
   "outputs": [
    {
     "name": "stdout",
     "output_type": "stream",
     "text": [
      "       region    sex             classif1  obs_value\n",
      "ABW  Americas    NaN                  NaN        NaN\n",
      "AFG      Asia  SEX_T   AGE_5YRBANDS_TOTAL  12412.311\n",
      "AFG      Asia  SEX_T  AGE_5YRBANDS_Y00-04   2412.476\n",
      "AFG      Asia  SEX_T  AGE_5YRBANDS_Y05-09   1958.690\n",
      "AFG      Asia  SEX_T  AGE_5YRBANDS_Y10-14   1625.001\n",
      "..        ...    ...                  ...        ...\n",
      "ZWE    Africa  SEX_M   AGE_YTHADULT_YGE25   3339.235\n",
      "ZWE    Africa  SEX_F   AGE_YTHADULT_YGE15   6045.439\n",
      "ZWE    Africa  SEX_F  AGE_YTHADULT_Y15-64   5678.619\n",
      "ZWE    Africa  SEX_F  AGE_YTHADULT_Y15-24   2012.963\n",
      "ZWE    Africa  SEX_F   AGE_YTHADULT_YGE25   4032.476\n",
      "\n",
      "[763153 rows x 4 columns]\n"
     ]
    }
   ],
   "source": [
    "#Selecionando colunas importantes para nós\n",
    "cols = [\"ref_area\", \"sex\", \"classif1\", \"obs_value\"]\n",
    "\n",
    "#População por localização/sexo/idade\n",
    "data = pd.read_csv(populationPath, usecols=cols)\n",
    "\n",
    "joinData = countryRegionalCode.set_index('alpha-3').join(data.set_index('ref_area'))\n",
    "\n",
    "print(joinData)"
   ]
  },
  {
   "cell_type": "markdown",
   "metadata": {},
   "source": [
    "## Indice de falta de condições dignas de trabalho --"
   ]
  },
  {
   "cell_type": "code",
   "execution_count": null,
   "metadata": {},
   "outputs": [],
   "source": [
    "#Indice de falta de condições dignas de trabalho\n",
    "data = pd.read_csv(workingPovertyPath)\n",
    "\n",
    "joinData = countryRegionalCode.set_index('alpha-3').join(data.set_index('ref_area'))\n",
    "\n",
    "print(joinData)"
   ]
  },
  {
   "cell_type": "markdown",
   "metadata": {},
   "source": [
    "## Indice de interferência infantil na economia --"
   ]
  },
  {
   "cell_type": "code",
   "execution_count": null,
   "metadata": {},
   "outputs": [],
   "source": [
    "#Indice de interferência infantil na economia\n",
    "data = pd.read_csv(childrenEconomicActPath)\n",
    "\n",
    "joinData = countryRegionalCode.set_index('alpha-3').join(data.set_index('ref_area'))\n",
    "\n",
    "print(joinData)"
   ]
  }
 ],
 "metadata": {
  "kernelspec": {
   "display_name": "Python 3",
   "language": "python",
   "name": "python3"
  },
  "language_info": {
   "codemirror_mode": {
    "name": "ipython",
    "version": 3
   },
   "file_extension": ".py",
   "mimetype": "text/x-python",
   "name": "python",
   "nbconvert_exporter": "python",
   "pygments_lexer": "ipython3",
   "version": "3.8.3"
  },
  "toc": {
   "base_numbering": 1,
   "nav_menu": {},
   "number_sections": false,
   "sideBar": false,
   "skip_h1_title": false,
   "title_cell": "Table of Contents",
   "title_sidebar": "Contents",
   "toc_cell": false,
   "toc_position": {},
   "toc_section_display": false,
   "toc_window_display": false
  }
 },
 "nbformat": 4,
 "nbformat_minor": 4
}
