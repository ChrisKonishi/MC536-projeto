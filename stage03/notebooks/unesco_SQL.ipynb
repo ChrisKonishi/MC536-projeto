{
 "cells": [
  {
   "cell_type": "code",
   "execution_count": 1,
   "metadata": {},
   "outputs": [],
   "source": [
    "%defaultDatasource jdbc:h2:file:./unesco_database/database"
   ]
  },
  {
   "cell_type": "code",
   "execution_count": 2,
   "metadata": {},
   "outputs": [],
   "source": [
    "-- Drop tables\n",
    "DROP TABLE IF EXISTS descricao;\n",
    "DROP TABLE IF EXISTS indicadores;\n",
    "DROP TABLE IF EXISTS a2015C;\n",
    "DROP TABLE IF EXISTS a2016C;\n",
    "DROP TABLE IF EXISTS a2017C;\n",
    "DROP TABLE IF EXISTS a2018C;\n",
    "DROP TABLE IF EXISTS a2019C;\n",
    "DROP TABLE IF EXISTS a2015;\n",
    "DROP TABLE IF EXISTS a2016;\n",
    "DROP TABLE IF EXISTS a2017;\n",
    "DROP TABLE IF EXISTS a2018;\n",
    "DROP TABLE IF EXISTS a2019;"
   ]
  },
  {
   "cell_type": "code",
   "execution_count": 3,
   "metadata": {},
   "outputs": [],
   "source": [
    "\n",
    "\n",
    "CREATE TABLE a2015 (\n",
    "    Local VARCHAR(4) NOT NULL,\n",
    "    SP_DYN_LE00_IN DOUBLE ,\n",
    "    SP_DYN_IMRT_IN DOUBLE,\n",
    "    NY_GDP_MKTP_CD DOUBLE,\n",
    "    NY_GDP_PCAP_CD DOUBLE,\n",
    "    NY_GDP_MKTP_KD_ZG DOUBLE,\n",
    "    \"200343\" DOUBLE,\n",
    "    \"200144\" DOUBLE,\n",
    "    \"200345\" DOUBLE,\n",
    "    \"200151\" DOUBLE,\n",
    "    SP_RUR_TOTL_ZS  DOUBLE,\n",
    "    \"200101\" DOUBLE,\n",
    "    \n",
    "  PRIMARY KEY(Local)\n",
    ") AS SELECT\n",
    "    Local,\n",
    "    SP_DYN_LE00_IN,\n",
    "    SP_DYN_IMRT_IN,\n",
    "    NY_GDP_MKTP_CD,\n",
    "    NY_GDP_PCAP_CD,\n",
    "    NY_GDP_MKTP_KD_ZG,\n",
    "    \"200343\",\n",
    "    \"200144\",\n",
    "    \"200345\",\n",
    "    \"200151\",\n",
    "    SP_RUR_TOTL_ZS,\n",
    "    \"200101\"\n",
    "FROM CSVREAD('./unesco_processed_data/unesco_socio_eco_2015.csv');"
   ]
  },
  {
   "cell_type": "code",
   "execution_count": 4,
   "metadata": {},
   "outputs": [
    {
     "data": {
      "application/vnd.jupyter.widget-view+json": {
       "model_id": "02722a65-cb8b-4da0-8011-1c2d8d970bc8",
       "version_major": 2,
       "version_minor": 0
      },
      "method": "display_data"
     },
     "metadata": {},
     "output_type": "display_data"
    }
   ],
   "source": [
    "select * from a2015;"
   ]
  },
  {
   "cell_type": "code",
   "execution_count": 5,
   "metadata": {},
   "outputs": [],
   "source": [
    "\n",
    "CREATE TABLE a2016 (\n",
    "    Local VARCHAR(4) NOT NULL,\n",
    "    SP_DYN_LE00_IN DOUBLE ,\n",
    "    SP_DYN_IMRT_IN DOUBLE,\n",
    "    NY_GDP_MKTP_CD DOUBLE,\n",
    "    NY_GDP_PCAP_CD DOUBLE,\n",
    "    NY_GDP_MKTP_KD_ZG DOUBLE,\n",
    "    \"200343\" DOUBLE,\n",
    "    \"200144\" DOUBLE,\n",
    "    \"200345\" DOUBLE,\n",
    "    \"200151\" DOUBLE,\n",
    "    SP_RUR_TOTL_ZS  DOUBLE,\n",
    "    \"200101\" DOUBLE,\n",
    "    \n",
    "  PRIMARY KEY(Local)\n",
    ") AS SELECT\n",
    "    Local,\n",
    "    SP_DYN_LE00_IN,\n",
    "    SP_DYN_IMRT_IN,\n",
    "    NY_GDP_MKTP_CD,\n",
    "    NY_GDP_PCAP_CD,\n",
    "    NY_GDP_MKTP_KD_ZG,\n",
    "    \"200343\",\n",
    "    \"200144\",\n",
    "    \"200345\",\n",
    "    \"200151\",\n",
    "    SP_RUR_TOTL_ZS,\n",
    "    \"200101\"\n",
    "FROM CSVREAD('./unesco_processed_data/unesco_socio_eco_2016.csv');\n",
    "\n",
    "CREATE TABLE a2017 (\n",
    "    Local VARCHAR(4) NOT NULL,\n",
    "    SP_DYN_LE00_IN DOUBLE ,\n",
    "    SP_DYN_IMRT_IN DOUBLE,\n",
    "    NY_GDP_MKTP_CD DOUBLE,\n",
    "    NY_GDP_PCAP_CD DOUBLE,\n",
    "    NY_GDP_MKTP_KD_ZG DOUBLE,\n",
    "    \"200343\" DOUBLE,\n",
    "    \"200144\" DOUBLE,\n",
    "    \"200345\" DOUBLE,\n",
    "    \"200151\" DOUBLE,\n",
    "    SP_RUR_TOTL_ZS  DOUBLE,\n",
    "    \"200101\" DOUBLE,\n",
    "    \n",
    "  PRIMARY KEY(Local)\n",
    ") AS SELECT\n",
    "    Local,\n",
    "    SP_DYN_LE00_IN,\n",
    "    SP_DYN_IMRT_IN,\n",
    "    NY_GDP_MKTP_CD,\n",
    "    NY_GDP_PCAP_CD,\n",
    "    NY_GDP_MKTP_KD_ZG,\n",
    "    \"200343\",\n",
    "    \"200144\",\n",
    "    \"200345\",\n",
    "    \"200151\",\n",
    "    SP_RUR_TOTL_ZS,\n",
    "    \"200101\"\n",
    "FROM CSVREAD('./unesco_processed_data/unesco_socio_eco_2017.csv');\n",
    "\n",
    "CREATE TABLE a2018 (\n",
    "    Local VARCHAR(4) NOT NULL,\n",
    "    SP_DYN_LE00_IN DOUBLE ,\n",
    "    SP_DYN_IMRT_IN DOUBLE,\n",
    "    NY_GDP_MKTP_CD DOUBLE,\n",
    "    NY_GDP_PCAP_CD DOUBLE,\n",
    "    NY_GDP_MKTP_KD_ZG DOUBLE,\n",
    "    \"200343\" DOUBLE,\n",
    "    \"200144\" DOUBLE,\n",
    "    \"200345\" DOUBLE,\n",
    "    \"200151\" DOUBLE,\n",
    "    SP_RUR_TOTL_ZS  DOUBLE,\n",
    "    \"200101\" DOUBLE,\n",
    "    \n",
    "  PRIMARY KEY(Local)\n",
    ") AS SELECT\n",
    "    Local,\n",
    "    SP_DYN_LE00_IN,\n",
    "    SP_DYN_IMRT_IN,\n",
    "    NY_GDP_MKTP_CD,\n",
    "    NY_GDP_PCAP_CD,\n",
    "    NY_GDP_MKTP_KD_ZG,\n",
    "    \"200343\",\n",
    "    \"200144\",\n",
    "    \"200345\",\n",
    "    \"200151\",\n",
    "    SP_RUR_TOTL_ZS,\n",
    "    \"200101\"\n",
    "FROM CSVREAD('./unesco_processed_data/unesco_socio_eco_2018.csv');\n",
    "\n",
    "CREATE TABLE a2019 (\n",
    "    Local VARCHAR(4) NOT NULL,\n",
    "    SP_DYN_LE00_IN DOUBLE ,\n",
    "    SP_DYN_IMRT_IN DOUBLE,\n",
    "    NY_GDP_MKTP_CD DOUBLE,\n",
    "    NY_GDP_PCAP_CD DOUBLE,\n",
    "    NY_GDP_MKTP_KD_ZG DOUBLE,\n",
    "    \"200343\" DOUBLE,\n",
    "    \"200144\" DOUBLE,\n",
    "    \"200345\" DOUBLE,\n",
    "    \"200151\" DOUBLE,\n",
    "    SP_RUR_TOTL_ZS  DOUBLE,\n",
    "    \"200101\" DOUBLE,\n",
    "    \n",
    "  PRIMARY KEY(Local)\n",
    ") AS SELECT\n",
    "    Local,\n",
    "    SP_DYN_LE00_IN,\n",
    "    SP_DYN_IMRT_IN,\n",
    "    NY_GDP_MKTP_CD,\n",
    "    NY_GDP_PCAP_CD,\n",
    "    NY_GDP_MKTP_KD_ZG,\n",
    "    \"200343\",\n",
    "    \"200144\",\n",
    "    \"200345\",\n",
    "    \"200151\",\n",
    "    SP_RUR_TOTL_ZS,\n",
    "    \"200101\"\n",
    "FROM CSVREAD('./unesco_processed_data/unesco_socio_eco_2019.csv');"
   ]
  },
  {
   "cell_type": "code",
   "execution_count": 6,
   "metadata": {},
   "outputs": [],
   "source": [
    "DROP TABLE IF EXISTS anos;\n",
    "\n",
    "CREATE TABLE Anos (\n",
    "    ano integer,\n",
    "  PRIMARY KEY(ano)\n",
    ") "
   ]
  },
  {
   "cell_type": "code",
   "execution_count": 7,
   "metadata": {},
   "outputs": [],
   "source": [
    "INSERT INTO anos\n",
    "    VALUES(2015);\n",
    "INSERT INTO anos\n",
    "    VALUES(2016);\n",
    "INSERT INTO anos\n",
    "    VALUES(2017);\n",
    "INSERT INTO anos\n",
    "    VALUES(2018);\n",
    "INSERT INTO anos\n",
    "    VALUES(2019);"
   ]
  },
  {
   "cell_type": "code",
   "execution_count": 8,
   "metadata": {},
   "outputs": [
    {
     "data": {
      "application/vnd.jupyter.widget-view+json": {
       "model_id": "6211a9d0-47da-4772-b76a-ce25e2dbeb0f",
       "version_major": 2,
       "version_minor": 0
      },
      "method": "display_data"
     },
     "metadata": {},
     "output_type": "display_data"
    }
   ],
   "source": [
    "select * from anos;"
   ]
  },
  {
   "cell_type": "code",
   "execution_count": 17,
   "metadata": {},
   "outputs": [],
   "source": [
    "DROP TABLE IF EXISTS a2015C;\n",
    "DROP TABLE IF EXISTS a2016C;\n",
    "DROP TABLE IF EXISTS a2017C;\n",
    "DROP TABLE IF EXISTS a2018C;\n",
    "DROP TABLE IF EXISTS a2019C;\n",
    "\n",
    "create view a2015c as\n",
    "select * \n",
    "from a2015 A, anos An\n",
    "where An.ano = 2015;\n",
    "\n",
    "create view a2016c as\n",
    "select * \n",
    "from a2016 A, anos An\n",
    "where An.ano = 2016;\n",
    "\n",
    "create view a2017c as\n",
    "select * \n",
    "from a2017 A, anos An\n",
    "where An.ano = 2017;\n",
    "\n",
    "create view a2018c as\n",
    "select * \n",
    "from a2018 A, anos An\n",
    "where An.ano = 2018;\n",
    "\n",
    "create view a2019c as\n",
    "select * \n",
    "from a2019 A, anos An\n",
    "where An.ano = 2019;"
   ]
  },
  {
   "cell_type": "code",
   "execution_count": 28,
   "metadata": {},
   "outputs": [],
   "source": [
    "drop table if exists indicadores;\n",
    "\n",
    "create view indicadores as\n",
    "select * \n",
    "from a2015c\n",
    "union\n",
    "select *\n",
    "from a2016c\n",
    "union\n",
    "select *\n",
    "from a2017c\n",
    "union \n",
    "select *\n",
    "from a2018c\n",
    "union\n",
    "select *\n",
    "from a2019c;\n",
    "\n",
    "-- select * from indicadores order by local, ano;"
   ]
  },
  {
   "cell_type": "code",
   "execution_count": 29,
   "metadata": {},
   "outputs": [
    {
     "data": {
      "text/plain": [
       "1165"
      ]
     },
     "execution_count": 29,
     "metadata": {},
     "output_type": "execute_result"
    }
   ],
   "source": [
    "CALL CSVWRITE('./unesco_processed_data/unesco_interest_data.csv','select * from indicadores order by local, ano')"
   ]
  },
  {
   "cell_type": "code",
   "execution_count": 31,
   "metadata": {},
   "outputs": [
    {
     "data": {
      "application/vnd.jupyter.widget-view+json": {
       "model_id": "402438bb-34f1-4725-a90d-1e6b70f9385d",
       "version_major": 2,
       "version_minor": 0
      },
      "method": "display_data"
     },
     "metadata": {},
     "output_type": "display_data"
    }
   ],
   "source": [
    "select * from indicadores\n",
    "order by local,ano;\n"
   ]
  },
  {
   "cell_type": "code",
   "execution_count": 32,
   "metadata": {},
   "outputs": [],
   "source": [
    "DROP TABLE IF EXISTS descricao;\n",
    "\n",
    "CREATE TABLE descricao (\n",
    "   codigo VARCHAR(300),\n",
    "    descricao VARCHAR(500),\n",
    "    \n",
    "  PRIMARY KEY(codigo)\n",
    ") AS SELECT\n",
    "  codigo,\n",
    "  descricao\n",
    "FROM CSVREAD('./unesco_processed_data/unesco_descricao.csv');"
   ]
  },
  {
   "cell_type": "code",
   "execution_count": 33,
   "metadata": {},
   "outputs": [
    {
     "data": {
      "application/vnd.jupyter.widget-view+json": {
       "model_id": "57ea3c4e-79af-4278-8d9c-a29ad3e3c60e",
       "version_major": 2,
       "version_minor": 0
      },
      "method": "display_data"
     },
     "metadata": {},
     "output_type": "display_data"
    }
   ],
   "source": [
    "select * from descricao;"
   ]
  },
  {
   "cell_type": "code",
   "execution_count": null,
   "metadata": {},
   "outputs": [],
   "source": []
  }
 ],
 "metadata": {
  "kernelspec": {
   "display_name": "SQL",
   "language": "SQL",
   "name": "sql"
  },
  "language_info": {
   "codemirror_mode": "sql",
   "file_extension": ".sql",
   "mimetype": "",
   "name": "SQL",
   "nbconverter_exporter": "",
   "version": ""
  },
  "toc": {
   "base_numbering": 1,
   "nav_menu": {},
   "number_sections": false,
   "sideBar": false,
   "skip_h1_title": false,
   "title_cell": "Table of Contents",
   "title_sidebar": "Contents",
   "toc_cell": false,
   "toc_position": {},
   "toc_section_display": false,
   "toc_window_display": false
  }
 },
 "nbformat": 4,
 "nbformat_minor": 4
}
