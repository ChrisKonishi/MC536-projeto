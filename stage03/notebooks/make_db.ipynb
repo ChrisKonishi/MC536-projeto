{
 "cells": [
  {
   "cell_type": "code",
   "execution_count": 1,
   "metadata": {},
   "outputs": [],
   "source": [
    "%defaultDatasource jdbc:h2:file:./database/data.db"
   ]
  },
  {
   "cell_type": "markdown",
   "metadata": {},
   "source": [
    "# Destruir tabelas"
   ]
  },
  {
   "cell_type": "code",
   "execution_count": 89,
   "metadata": {},
   "outputs": [],
   "source": [
    "DROP TABLE IF EXISTS ABOVEHAPPY;\n",
    "DROP TABLE IF EXISTS ABOVERURAL;\n",
    "DROP TABLE IF EXISTS HAPPYRURAL;\n",
    "DROP TABLE IF EXISTS ABOVEHAPPY;\n",
    "DROP TABLE IF EXISTS ABOVEEXPEC;\n",
    "DROP TABLE IF EXISTS HAPPYVIDA;\n",
    "DROP TABLE IF EXISTS HAPPYVIDA;\n",
    "DROP TABLE IF EXISTS ABOVEGDP;\n",
    "DROP TABLE IF EXISTS ABOVEHAPPY;\n",
    "DROP TABLE IF EXISTS AVGHAPPY;\n",
    "DROP TABLE IF EXISTS COUNTRIES;\n",
    "DROP TABLE IF EXISTS SUBREGIONS;\n",
    "DROP TABLE IF EXISTS REGIONS;\n",
    "DROP TABLE IF EXISTS UNESCO;\n",
    "DROP TABLE IF EXISTS UNESCODESC;\n",
    "DROP TABLE IF EXISTS WHR;"
   ]
  },
  {
   "cell_type": "markdown",
   "metadata": {},
   "source": [
    "# Carregar tabelas"
   ]
  },
  {
   "cell_type": "code",
   "execution_count": 2,
   "metadata": {},
   "outputs": [],
   "source": [
    "DROP TABLE IF EXISTS COUNTRIES;\n",
    "DROP TABLE IF EXISTS SUBREGIONS;\n",
    "DROP TABLE IF EXISTS REGIONS;\n",
    "DROP TABLE IF EXISTS UNESCO;\n",
    "DROP TABLE IF EXISTS UNESCODESC;\n",
    "DROP TABLE IF EXISTS WHR;\n",
    "\n",
    "CREATE TABLE UNESCODESC(\n",
    "    CODIGO VARCHAR(50),\n",
    "    DESCRICAO VARCHAR(100),\n",
    "    PRIMARY KEY(CODIGO)\n",
    ") AS SELECT * FROM CSVREAD('./unesco_processed_data/unesco_descricao.csv');\n",
    "\n",
    "\n",
    "CREATE TABLE UNESCO (\n",
    "    Local VARCHAR(4) NOT NULL,\n",
    "    ANO INTEGER,\n",
    "    SP_DYN_LE00_IN DOUBLE ,\n",
    "    SP_DYN_IMRT_IN DOUBLE,\n",
    "    NY_GDP_MKTP_CD DOUBLE,\n",
    "    NY_GDP_PCAP_CD DOUBLE,\n",
    "    NY_GDP_MKTP_KD_ZG DOUBLE,\n",
    "    \"200343\" DOUBLE,\n",
    "    \"200144\" DOUBLE,\n",
    "    \"200345\" DOUBLE,\n",
    "    \"200151\" DOUBLE,\n",
    "    SP_RUR_TOTL_ZS  DOUBLE,\n",
    "    \"200101\" DOUBLE,\n",
    "    \n",
    "    PRIMARY KEY(Local, ANO)\n",
    ") AS SELECT\n",
    "    Local,\n",
    "    ANO,\n",
    "    SP_DYN_LE00_IN,\n",
    "    SP_DYN_IMRT_IN,\n",
    "    NY_GDP_MKTP_CD,\n",
    "    NY_GDP_PCAP_CD,\n",
    "    NY_GDP_MKTP_KD_ZG,\n",
    "    \"200343\",\n",
    "    \"200144\",\n",
    "    \"200345\",\n",
    "    \"200151\",\n",
    "    SP_RUR_TOTL_ZS,\n",
    "    \"200101\"\n",
    "FROM CSVREAD('./unesco_processed_data/unesco_interest_data.csv');\n",
    "\n",
    "\n",
    "CREATE TABLE WHR(\n",
    "    COUNTRYCODE VARCHAR(5),\n",
    "    ANO INTEGER,\n",
    "    HAPPINESSRANK INTEGER,\n",
    "    HAPPINESSSCORE DOUBLE,\n",
    "    GDPCAPITA DOUBLE,\n",
    "    FAMILY DOUBLE,\n",
    "    LIFEEXPECTANCY DOUBLE,\n",
    "    FREEDOM DOUBLE,\n",
    "    GOVCORRUPTION DOUBLE,\n",
    "    GENEROSITY DOUBLE,\n",
    "    PRIMARY KEY(COUNTRYCODE, ANO)\n",
    ") AS SELECT \n",
    "    ALPHA3,\n",
    "    ANO,\n",
    "    HAPPINESSRANK,\n",
    "    HAPPINESSSCORE,\n",
    "    GDPCAPITA,\n",
    "    FAMILY,\n",
    "    LIFEEXPECTANCY,\n",
    "    FREEDOM,\n",
    "    GOVCORRUPTION,\n",
    "    GENEROSITY\n",
    "FROM CSVREAD('./WHR_processed/whr_PROCESSADO.CSV');\n",
    "\n",
    "CREATE TABLE REGIONS(\n",
    "    REGION VARCHAR(30),\n",
    "    PRIMARY KEY(REGION)\n",
    ") AS SELECT * FROM  CSVREAD('./countries_processed/regions.csv');\n",
    "\n",
    "CREATE TABLE SUBREGIONS(\n",
    "    SUBREGION VARCHAR(50),\n",
    "    REGION VARCHAR(30),\n",
    "    PRIMARY KEY(SUBREGION),\n",
    "    FOREIGN KEY(REGION)\n",
    "        REFERENCES REGIONS(REGION)\n",
    "            ON DELETE CASCADE\n",
    "            ON UPDATE CASCADE\n",
    ") AS SELECT * FROM  CSVREAD('./countries_processed/subregions.csv');\n",
    "\n",
    "CREATE TABLE COUNTRIES(\n",
    "    ALPHA3 VARCHAR(5),\n",
    "    ALPHA2 VARCHAR(5),\n",
    "    COUNTRY VARCHAR(100),\n",
    "    SUBREGION VARCHAR(50),\n",
    "    PRIMARY KEY(ALPHA3),\n",
    "    FOREIGN KEY(SUBREGION)\n",
    "        REFERENCES SUBREGIONS(SUBREGION)\n",
    "            ON DELETE CASCADE\n",
    "            ON UPDATE CASCADE\n",
    ") AS SELECT \n",
    "    ALPHA3,\n",
    "    ALPHA2,\n",
    "    NAME,\n",
    "    SUBREGION\n",
    "FROM  CSVREAD('./countries_processed/countries.csv');"
   ]
  },
  {
   "cell_type": "code",
   "execution_count": 3,
   "metadata": {},
   "outputs": [
    {
     "data": {
      "application/vnd.jupyter.widget-view+json": {
       "model_id": "56acee24-b7e9-43ac-acfe-168a60eefedf",
       "version_major": 2,
       "version_minor": 0
      },
      "method": "display_data"
     },
     "metadata": {},
     "output_type": "display_data"
    },
    {
     "data": {
      "application/vnd.jupyter.widget-view+json": {
       "model_id": "66383798-a507-4636-9127-3e59d26f6474",
       "version_major": 2,
       "version_minor": 0
      },
      "method": "display_data"
     },
     "metadata": {},
     "output_type": "display_data"
    },
    {
     "data": {
      "application/vnd.jupyter.widget-view+json": {
       "model_id": "b100da99-587e-438f-a394-b81608e45dac",
       "version_major": 2,
       "version_minor": 0
      },
      "method": "display_data"
     },
     "metadata": {},
     "output_type": "display_data"
    },
    {
     "data": {
      "application/vnd.jupyter.widget-view+json": {
       "model_id": "da784b79-5b14-4b32-a9bb-a1b881736539",
       "version_major": 2,
       "version_minor": 0
      },
      "method": "display_data"
     },
     "metadata": {},
     "output_type": "display_data"
    },
    {
     "data": {
      "application/vnd.jupyter.widget-view+json": {
       "model_id": "334df734-8988-4d0c-8a11-b9ea267b7ddd",
       "version_major": 2,
       "version_minor": 0
      },
      "method": "display_data"
     },
     "metadata": {},
     "output_type": "display_data"
    },
    {
     "data": {
      "application/vnd.jupyter.widget-view+json": {
       "model_id": "de904f42-a73b-4e2e-afd7-bcb397a85943",
       "version_major": 2,
       "version_minor": 0
      },
      "method": "display_data"
     },
     "metadata": {},
     "output_type": "display_data"
    }
   ],
   "source": [
    "SELECT * FROM UNESCO;\n",
    "SELECT * FROM UNESCODESC;\n",
    "SELECT * FROM WHR;\n",
    "SELECT * FROM REGIONS;\n",
    "SELECT * FROM SUBREGIONS;\n",
    "SELECT * FROM COUNTRIES;"
   ]
  },
  {
   "cell_type": "markdown",
   "metadata": {},
   "source": [
    "#### Dados da Unesco\n",
    "\n",
    "-    \"SP_DYN_LE00_IN\", expectativa de vida\n",
    "-    \"SP_DYN_IMRT_IN\", mortalidade infantil por 1000 nascimentos\n",
    "-    \"NY_GDP_MKTP_CD\", GDP (current US$)\n",
    "-    \"NY_GDP_PCAP_CD\", pib per capita\n",
    "-    \"NY_GDP_MKTP_KD_ZG\",  GDP growth (annual %)\n",
    "-    \"200343\", Population aged 14 years or younger (thousands)\n",
    "-    \"200144\", Population aged 15-24 years (thousands)\n",
    "-    \"200345\", Population aged 25-64 years (thousands) \n",
    "-    \"200151\", Population aged 65 years or older (thousands)\n",
    "-    \"SP_RUR_TOTL_ZS\", Rural population (% of total population)\n",
    "-    \"200101\"  Total population (thousands)"
   ]
  },
  {
   "cell_type": "markdown",
   "metadata": {},
   "source": [
    "# GDP per capita vs felicidade em 2016\n",
    "\n",
    "Analisando os dados de felicidade temos que:\n",
    "\n",
    "- 50,34% dos países têm felicidade acima da média\n",
    "- 76,19% dos países com GDP per capita acima da média são mais felizes\n",
    "- Parece haver uma relação entre esses indicadores"
   ]
  },
  {
   "cell_type": "code",
   "execution_count": 56,
   "metadata": {},
   "outputs": [
    {
     "data": {
      "application/vnd.jupyter.widget-view+json": {
       "model_id": "92dd82e2-8035-4e23-9ff4-1d4a57224edc",
       "version_major": 2,
       "version_minor": 0
      },
      "method": "display_data"
     },
     "metadata": {},
     "output_type": "display_data"
    },
    {
     "data": {
      "application/vnd.jupyter.widget-view+json": {
       "model_id": "5a9eb3ab-cab5-4e8f-8381-f1416162c220",
       "version_major": 2,
       "version_minor": 0
      },
      "method": "display_data"
     },
     "metadata": {},
     "output_type": "display_data"
    },
    {
     "data": {
      "application/vnd.jupyter.widget-view+json": {
       "model_id": "726287b9-5d86-4e82-8f6c-550e895a5059",
       "version_major": 2,
       "version_minor": 0
      },
      "method": "display_data"
     },
     "metadata": {},
     "output_type": "display_data"
    },
    {
     "data": {
      "application/vnd.jupyter.widget-view+json": {
       "model_id": "fc11243b-b5b5-49dd-872e-01e895cc083c",
       "version_major": 2,
       "version_minor": 0
      },
      "method": "display_data"
     },
     "metadata": {},
     "output_type": "display_data"
    }
   ],
   "source": [
    "-- FELICIDADE VS GDP PER CAPITA\n",
    "DROP TABLE IF EXISTS ABOVEGDP;\n",
    "DROP TABLE IF EXISTS ABOVEHAPPY;\n",
    "DROP TABLE IF EXISTS AVGHAPPY;\n",
    "\n",
    "-- MEDIA DE FELICIDADE 2016\n",
    "CREATE VIEW AVGHAPPY AS\n",
    "SELECT AVG(HAPPINESSSCORE) FROM WHR WHERE ANO = 2016;\n",
    "\n",
    "-- PAISES COM FELICIDADE ACIMA DA MEDIA EM 2016\n",
    "CREATE VIEW ABOVEHAPPY AS\n",
    "SELECT COUNTRYCODE, HAPPINESSSCORE\n",
    "    FROM WHR, AVGHAPPY A\n",
    "    WHERE\n",
    "        HAPPINESSSCORE > (SELECT * FROM AVGHAPPY) AND ANO = 2016;\n",
    "        \n",
    "-- PAISES COM GDP PER CAPITA ACIMA DA MEDIA\n",
    "CREATE VIEW ABOVEGDP AS\n",
    "SELECT COUNTRYCODE, GDPCAPITA\n",
    "    FROM WHR\n",
    "    WHERE\n",
    "        GDPCAPITA > (SELECT AVG(GDPCAPITA) FROM WHR WHERE ANO = 2016) AND ANO = 2016;\n",
    "        \n",
    "        \n",
    "-- TOTAL DE PAISES EM 2016\n",
    "SELECT COUNT(COUNTRYCODE)\n",
    "    FROM WHR\n",
    "    WHERE ANO=2016;\n",
    "    \n",
    "-- TOTAL DE PAISES COM FELICIDADE ACIMA DA MEDIA EM 2016\n",
    "SELECT COUNT(COUNTRYCODE)\n",
    "    FROM ABOVEHAPPY;\n",
    "    \n",
    "-- TOTAL DE PAISES COM GDP PER CAPITA ACIMA DA MEDIA EM 2016\n",
    "SELECT COUNT(COUNTRYCODE)\n",
    "    FROM ABOVEGDP;\n",
    "  \n",
    "  \n",
    "-- TOTAL DE PAISES COM FELICIDADE E GDP PER CAPITA ACIMA DE MEDIA EM 2016\n",
    "SELECT COUNT(H.COUNTRYCODE)\n",
    "    FROM ABOVEHAPPY H, ABOVEGDP G\n",
    "    WHERE H.COUNTRYCODE = G.COUNTRYCODE;"
   ]
  },
  {
   "cell_type": "markdown",
   "metadata": {},
   "source": [
    "# GDP per capita vs expectativa de vida em 2016\n",
    "\n",
    "Analisando os dados de felicidade temos que:\n",
    "\n",
    "- Descartando países sem dados\n",
    "\n",
    "- 50,00% dos países têm felicidade acima da média\n",
    "- 74,41% dos países com expectativa de vida acima da média são mais felizes\n",
    "- Parece haver uma relação entre esses indicadores"
   ]
  },
  {
   "cell_type": "code",
   "execution_count": 63,
   "metadata": {},
   "outputs": [
    {
     "data": {
      "application/vnd.jupyter.widget-view+json": {
       "model_id": "76a1512f-095e-426a-b289-60a6c6272713",
       "version_major": 2,
       "version_minor": 0
      },
      "method": "display_data"
     },
     "metadata": {},
     "output_type": "display_data"
    },
    {
     "data": {
      "application/vnd.jupyter.widget-view+json": {
       "model_id": "37587cee-ebf5-4ced-9062-e339c0113a91",
       "version_major": 2,
       "version_minor": 0
      },
      "method": "display_data"
     },
     "metadata": {},
     "output_type": "display_data"
    },
    {
     "data": {
      "application/vnd.jupyter.widget-view+json": {
       "model_id": "c336fd4d-1388-4740-a8a8-79f248ea53c5",
       "version_major": 2,
       "version_minor": 0
      },
      "method": "display_data"
     },
     "metadata": {},
     "output_type": "display_data"
    },
    {
     "data": {
      "application/vnd.jupyter.widget-view+json": {
       "model_id": "b6638fb6-bff6-4372-bc5a-e336b598ed82",
       "version_major": 2,
       "version_minor": 0
      },
      "method": "display_data"
     },
     "metadata": {},
     "output_type": "display_data"
    }
   ],
   "source": [
    "-- ANALISE FELICIDADE X Expectativa de vida\"SP_DYN_LE00_IN\" \n",
    "DROP TABLE IF EXISTS ABOVEHAPPY;\n",
    "DROP TABLE IF EXISTS ABOVEEXPEC;\n",
    "DROP TABLE IF EXISTS HAPPYVIDA;\n",
    "\n",
    "CREATE VIEW HAPPYVIDA AS\n",
    "SELECT W.COUNTRYCODE, W.ANO, W.HAPPINESSSCORE, U.SP_DYN_LE00_IN AS EXPECVIDA\n",
    "    FROM WHR W, UNESCO U\n",
    "    WHERE\n",
    "        W.COUNTRYCODE = U.LOCAL AND W.ANO = U.ANO AND W.ANO = 2016;\n",
    "\n",
    "CREATE VIEW ABOVEEXPEC AS\n",
    "SELECT COUNTRYCODE, EXPECVIDA\n",
    "    FROM HAPPYVIDA\n",
    "    WHERE EXPECVIDA>(SELECT AVG(EXPECVIDA) FROM HAPPYVIDA)\n",
    "    ORDER BY EXPECVIDA;\n",
    "    \n",
    "CREATE VIEW ABOVEHAPPY AS\n",
    "SELECT COUNTRYCODE, HAPPINESSSCORE\n",
    "    FROM HAPPYVIDA\n",
    "    WHERE HAPPINESSSCORE>(SELECT AVG(HAPPINESSSCORE) FROM HAPPYVIDA)\n",
    "    ORDER BY HAPPINESSSCORE;\n",
    "    \n",
    "-- TOTAL DE PAISES EM 2016\n",
    "SELECT COUNT(COUNTRYCODE)\n",
    "    FROM HAPPYVIDA;\n",
    "    \n",
    "-- TOTAL DE PAISES COM FELICIDADE ACIMA DA MEDIA EM 2016\n",
    "SELECT COUNT(COUNTRYCODE)\n",
    "    FROM ABOVEHAPPY;\n",
    "    \n",
    "-- TOTAL DE PAISES COM EXPECTATIVA DE VIDA ACIMA DA MEDIA EM 2016\n",
    "SELECT COUNT(COUNTRYCODE)\n",
    "    FROM ABOVEEXPEC;\n",
    "  \n",
    "  \n",
    "-- TOTAL DE PAISES COM FELICIDADE E EXPECTATIVA DE VIDA ACIMA DE MEDIA EM 2016\n",
    "SELECT COUNT(H.COUNTRYCODE)\n",
    "    FROM ABOVEHAPPY H, ABOVEEXPEC E\n",
    "    WHERE H.COUNTRYCODE = E.COUNTRYCODE;\n",
    "    \n"
   ]
  },
  {
   "cell_type": "markdown",
   "metadata": {},
   "source": [
    "# GDP per capita vs população rural em 2016\n",
    "\n",
    "Analisando os dados de felicidade temos que:\n",
    "\n",
    "- Descartando países sem dados\n",
    "\n",
    "- 48,95% dos países têm felicidade acima da média\n",
    "- 24,29% dos países com expectativa de vida acima da média são mais felizes\n",
    "- Parece haver uma relação inversa entre esses indicadores"
   ]
  },
  {
   "cell_type": "code",
   "execution_count": 87,
   "metadata": {},
   "outputs": [
    {
     "data": {
      "application/vnd.jupyter.widget-view+json": {
       "model_id": "c7755b45-91f3-4d10-b90b-e1d68136bbaa",
       "version_major": 2,
       "version_minor": 0
      },
      "method": "display_data"
     },
     "metadata": {},
     "output_type": "display_data"
    },
    {
     "data": {
      "application/vnd.jupyter.widget-view+json": {
       "model_id": "d974065b-457e-4bb7-839c-c41ef0c08fac",
       "version_major": 2,
       "version_minor": 0
      },
      "method": "display_data"
     },
     "metadata": {},
     "output_type": "display_data"
    },
    {
     "data": {
      "application/vnd.jupyter.widget-view+json": {
       "model_id": "1757c8ed-d442-43c6-941f-6b7de9450e70",
       "version_major": 2,
       "version_minor": 0
      },
      "method": "display_data"
     },
     "metadata": {},
     "output_type": "display_data"
    },
    {
     "data": {
      "application/vnd.jupyter.widget-view+json": {
       "model_id": "2b783609-506b-435b-b505-fd5ce2d43fa1",
       "version_major": 2,
       "version_minor": 0
      },
      "method": "display_data"
     },
     "metadata": {},
     "output_type": "display_data"
    }
   ],
   "source": [
    "-- ANALISE FELICIDADE X PORCENTAGEM DE POPULAÇÃO RURAL (SP_RUR_TOTL_ZS)\n",
    "DROP TABLE IF EXISTS ABOVEHAPPY;\n",
    "DROP TABLE IF EXISTS ABOVERURAL;\n",
    "DROP TABLE IF EXISTS HAPPYRURAL;\n",
    "\n",
    "CREATE VIEW HAPPYRURAL AS\n",
    "SELECT W.COUNTRYCODE, W.ANO, W.HAPPINESSSCORE, U.SP_RUR_TOTL_ZS AS PROPRURAL\n",
    "    FROM WHR W, UNESCO U\n",
    "    WHERE\n",
    "        W.COUNTRYCODE = U.LOCAL AND W.ANO = U.ANO AND W.ANO = 2016\n",
    "        AND U.SP_RUR_TOTL_ZS IS NOT NULL;\n",
    "        \n",
    "\n",
    "CREATE VIEW ABOVERURAL AS\n",
    "SELECT COUNTRYCODE, PROPRURAL\n",
    "    FROM HAPPYRURAL\n",
    "    WHERE PROPRURAL>(SELECT AVG(PROPRURAL) FROM HAPPYRURAL)\n",
    "    ORDER BY PROPRURAL;\n",
    "    \n",
    "CREATE VIEW ABOVEHAPPY AS\n",
    "SELECT COUNTRYCODE, HAPPINESSSCORE\n",
    "    FROM HAPPYRURAL\n",
    "    WHERE HAPPINESSSCORE>(SELECT AVG(HAPPINESSSCORE) FROM HAPPYRURAL)\n",
    "    ORDER BY HAPPINESSSCORE;\n",
    "    \n",
    "    \n",
    "-- TOTAL DE PAISES EM 2016\n",
    "SELECT COUNT(COUNTRYCODE)\n",
    "    FROM HAPPYRURAL;\n",
    "    \n",
    "-- TOTAL DE PAISES COM FELICIDADE ACIMA DA MEDIA EM 2016\n",
    "SELECT COUNT(COUNTRYCODE)\n",
    "    FROM ABOVEHAPPY;\n",
    "    \n",
    "-- TOTAL DE PAISES COM POPULACAO RURAL (%) ACIMA DA MEDIA EM 2016\n",
    "SELECT COUNT(COUNTRYCODE)\n",
    "    FROM ABOVERURAL;\n",
    "  \n",
    "  \n",
    "-- TOTAL DE PAISES COM FELICIDADE E EXPECTATIVA DE VIDA ACIMA DE MEDIA EM 2016\n",
    "SELECT COUNT(H.COUNTRYCODE)\n",
    "    FROM ABOVEHAPPY H, ABOVERURAL R\n",
    "    WHERE H.COUNTRYCODE = R.COUNTRYCODE;\n",
    "    \n",
    "\n"
   ]
  }
 ],
 "metadata": {
  "kernelspec": {
   "display_name": "SQL",
   "language": "SQL",
   "name": "sql"
  },
  "language_info": {
   "codemirror_mode": "sql",
   "file_extension": ".sql",
   "mimetype": "",
   "name": "SQL",
   "nbconverter_exporter": "",
   "version": ""
  },
  "toc": {
   "base_numbering": 1,
   "nav_menu": {},
   "number_sections": false,
   "sideBar": false,
   "skip_h1_title": false,
   "title_cell": "Table of Contents",
   "title_sidebar": "Contents",
   "toc_cell": false,
   "toc_position": {},
   "toc_section_display": false,
   "toc_window_display": false
  }
 },
 "nbformat": 4,
 "nbformat_minor": 4
}
