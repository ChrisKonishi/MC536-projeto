{
 "cells": [
  {
   "cell_type": "code",
   "execution_count": 17,
   "metadata": {},
   "outputs": [],
   "source": [
    "%defaultDatasource jdbc:h2:file:./database/data.db"
   ]
  },
  {
   "cell_type": "markdown",
   "metadata": {},
   "source": [
    "# Carregar tabelas"
   ]
  },
  {
   "cell_type": "code",
   "execution_count": 49,
   "metadata": {},
   "outputs": [],
   "source": [
    "DROP TABLE IF EXISTS COUNTRIES;\n",
    "DROP TABLE IF EXISTS SUBREGIONS;\n",
    "DROP TABLE IF EXISTS REGIONS;\n",
    "DROP TABLE IF EXISTS UNESCO;\n",
    "DROP TABLE IF EXISTS UNESCODESC;\n",
    "DROP TABLE IF EXISTS WHR;\n",
    "\n",
    "CREATE TABLE UNESCODESC(\n",
    "    CODIGO VARCHAR(50),\n",
    "    DESCRICAO VARCHAR(100),\n",
    "    PRIMARY KEY(CODIGO)\n",
    ") AS SELECT * FROM CSVREAD('./unesco_processed_data/unesco_descricao.csv');\n",
    "\n",
    "\n",
    "CREATE TABLE UNESCO (\n",
    "    Local VARCHAR(4) NOT NULL,\n",
    "    ANO INTEGER,\n",
    "    SP_DYN_LE00_IN DOUBLE ,\n",
    "    SP_DYN_IMRT_IN DOUBLE,\n",
    "    NY_GDP_MKTP_CD DOUBLE,\n",
    "    NY_GDP_PCAP_CD DOUBLE,\n",
    "    NY_GDP_MKTP_KD_ZG DOUBLE,\n",
    "    \"200343\" DOUBLE,\n",
    "    \"200144\" DOUBLE,\n",
    "    \"200345\" DOUBLE,\n",
    "    \"200151\" DOUBLE,\n",
    "    SP_RUR_TOTL_ZS  DOUBLE,\n",
    "    \"200101\" DOUBLE,\n",
    "    \n",
    "    PRIMARY KEY(Local, ANO)\n",
    ") AS SELECT\n",
    "    Local,\n",
    "    ANO,\n",
    "    SP_DYN_LE00_IN,\n",
    "    SP_DYN_IMRT_IN,\n",
    "    NY_GDP_MKTP_CD,\n",
    "    NY_GDP_PCAP_CD,\n",
    "    NY_GDP_MKTP_KD_ZG,\n",
    "    \"200343\",\n",
    "    \"200144\",\n",
    "    \"200345\",\n",
    "    \"200151\",\n",
    "    SP_RUR_TOTL_ZS,\n",
    "    \"200101\"\n",
    "FROM CSVREAD('./unesco_processed_data/unesco_interest_data.csv');\n",
    "\n",
    "\n",
    "CREATE TABLE WHR(\n",
    "    COUNTRYCODE VARCHAR(5),\n",
    "    ANO INTEGER,\n",
    "    HAPPINESSRANK INTEGER,\n",
    "    HAPPINESSSCORE DOUBLE,\n",
    "    GDPCAPITA DOUBLE,\n",
    "    FAMILY DOUBLE,\n",
    "    LIFEEXPECTANCY DOUBLE,\n",
    "    FREEDOM DOUBLE,\n",
    "    GOVCORRUPTION DOUBLE,\n",
    "    GENEROSITY DOUBLE,\n",
    "    PRIMARY KEY(COUNTRYCODE, ANO)\n",
    ") AS SELECT \n",
    "    ALPHA3,\n",
    "    ANO,\n",
    "    HAPPINESSRANK,\n",
    "    HAPPINESSSCORE,\n",
    "    GDPCAPITA,\n",
    "    FAMILY,\n",
    "    LIFEEXPECTANCY,\n",
    "    FREEDOM,\n",
    "    GOVCORRUPTION,\n",
    "    GENEROSITY\n",
    "FROM CSVREAD('./WHR_processed/whr_PROCESSADO.CSV');\n",
    "\n",
    "CREATE TABLE REGIONS(\n",
    "    REGION VARCHAR(30),\n",
    "    PRIMARY KEY(REGION)\n",
    ") AS SELECT * FROM  CSVREAD('./countries_processed/regions.csv');\n",
    "\n",
    "CREATE TABLE SUBREGIONS(\n",
    "    SUBREGION VARCHAR(50),\n",
    "    REGION VARCHAR(30),\n",
    "    PRIMARY KEY(SUBREGION),\n",
    "    FOREIGN KEY(REGION)\n",
    "        REFERENCES REGIONS(REGION)\n",
    "            ON DELETE CASCADE\n",
    "            ON UPDATE CASCADE\n",
    ") AS SELECT * FROM  CSVREAD('./countries_processed/subregions.csv');\n",
    "\n",
    "CREATE TABLE COUNTRIES(\n",
    "    ALPHA3 VARCHAR(5),\n",
    "    ALPHA2 VARCHAR(5),\n",
    "    COUNTRY VARCHAR(100),\n",
    "    SUBREGION VARCHAR(50),\n",
    "    PRIMARY KEY(ALPHA3),\n",
    "    FOREIGN KEY(SUBREGION)\n",
    "        REFERENCES SUBREGIONS(SUBREGION)\n",
    "            ON DELETE CASCADE\n",
    "            ON UPDATE CASCADE\n",
    ") AS SELECT \n",
    "    ALPHA3,\n",
    "    ALPHA2,\n",
    "    NAME,\n",
    "    SUBREGION\n",
    "FROM  CSVREAD('./countries_processed/countries.csv');"
   ]
  },
  {
   "cell_type": "code",
   "execution_count": 50,
   "metadata": {},
   "outputs": [
    {
     "data": {
      "application/vnd.jupyter.widget-view+json": {
       "model_id": "df1ad916-d061-4f3f-8e05-776801f03877",
       "version_major": 2,
       "version_minor": 0
      },
      "method": "display_data"
     },
     "metadata": {},
     "output_type": "display_data"
    },
    {
     "data": {
      "application/vnd.jupyter.widget-view+json": {
       "model_id": "8249ba9d-0b1a-4eb7-883f-7c49c48eae5d",
       "version_major": 2,
       "version_minor": 0
      },
      "method": "display_data"
     },
     "metadata": {},
     "output_type": "display_data"
    },
    {
     "data": {
      "application/vnd.jupyter.widget-view+json": {
       "model_id": "609e56ec-3c03-4fd7-85ef-63d63d129b52",
       "version_major": 2,
       "version_minor": 0
      },
      "method": "display_data"
     },
     "metadata": {},
     "output_type": "display_data"
    },
    {
     "data": {
      "application/vnd.jupyter.widget-view+json": {
       "model_id": "076ec8cd-de95-4e3a-a424-59f4c2842bd4",
       "version_major": 2,
       "version_minor": 0
      },
      "method": "display_data"
     },
     "metadata": {},
     "output_type": "display_data"
    },
    {
     "data": {
      "application/vnd.jupyter.widget-view+json": {
       "model_id": "edfe2b98-0377-4cf0-93b8-f95c8aa6196d",
       "version_major": 2,
       "version_minor": 0
      },
      "method": "display_data"
     },
     "metadata": {},
     "output_type": "display_data"
    },
    {
     "data": {
      "application/vnd.jupyter.widget-view+json": {
       "model_id": "6f4208ec-6f66-40e0-89ba-d27df3d3b8ff",
       "version_major": 2,
       "version_minor": 0
      },
      "method": "display_data"
     },
     "metadata": {},
     "output_type": "display_data"
    }
   ],
   "source": [
    "SELECT * FROM UNESCO;\n",
    "SELECT * FROM UNESCODESC;\n",
    "SELECT * FROM WHR;\n",
    "SELECT * FROM REGIONS;\n",
    "SELECT * FROM SUBREGIONS;\n",
    "SELECT * FROM COUNTRIES;"
   ]
  },
  {
   "cell_type": "code",
   "execution_count": null,
   "metadata": {},
   "outputs": [],
   "source": []
  }
 ],
 "metadata": {
  "kernelspec": {
   "display_name": "SQL",
   "language": "SQL",
   "name": "sql"
  },
  "language_info": {
   "codemirror_mode": "sql",
   "file_extension": ".sql",
   "mimetype": "",
   "name": "SQL",
   "nbconverter_exporter": "",
   "version": ""
  },
  "toc": {
   "base_numbering": 1,
   "nav_menu": {},
   "number_sections": false,
   "sideBar": false,
   "skip_h1_title": false,
   "title_cell": "Table of Contents",
   "title_sidebar": "Contents",
   "toc_cell": false,
   "toc_position": {},
   "toc_section_display": false,
   "toc_window_display": false
  }
 },
 "nbformat": 4,
 "nbformat_minor": 4
}
