{
 "metadata": {
  "language_info": {
   "codemirror_mode": {
    "name": "ipython",
    "version": 3
   },
   "file_extension": ".py",
   "mimetype": "text/x-python",
   "name": "python",
   "nbconvert_exporter": "python",
   "pygments_lexer": "ipython3",
   "version": "3.8.3-final"
  },
  "orig_nbformat": 2,
  "kernelspec": {
   "name": "python3",
   "display_name": "Python 3"
  }
 },
 "nbformat": 4,
 "nbformat_minor": 2,
 "cells": [
  {
   "cell_type": "code",
   "execution_count": 59,
   "metadata": {
    "tags": []
   },
   "outputs": [
    {
     "output_type": "stream",
     "name": "stdout",
     "text": [
      "{'ind': '200101', 'local': 'ABW', 'valores': {'2014': '104', '2015': '104', '2016': '105', '2017': '105', '2018': '106', '2019': '106', '2020': '107'}}\n"
     ]
    }
   ],
   "source": [
    "import xml.etree.ElementTree as et\n",
    "import sqlite3\n",
    "\n",
    "data_path = \"./datasets/unesco_socio_economics.xml\"\n",
    "root = et.parse(data_path).getroot()\n",
    "\n",
    "ns = {\n",
    "    \"generic\": \"http://www.SDMX.org/resources/SDMXML/schemas/v2_0/generic\",\n",
    "    \"common\": \"http://www.SDMX.org/resources/SDMXML/schemas/v2_0/common\",\n",
    "    \"xsi\": \"http://www.w3.org/2001/XMLSchema-instance\",\n",
    "    \"message\": \"http://www.SDMX.org/resources/SDMXML/schemas/v2_0/message\"\n",
    "}\n",
    "\n",
    "dataset = root.find(\"generic:DataSet\", ns)\n",
    "\n",
    "dados = []\n",
    "\n",
    "for series in dataset.findall(\"generic:Series\", ns):\n",
    "\n",
    "    # indicador e local\n",
    "    key = series.find(\"generic:SeriesKey\", ns).findall(\"generic:Value\", ns)\n",
    "    indicador = key[0].attrib[\"value\"]\n",
    "    loc = key[1].attrib[\"value\"]\n",
    "    \n",
    "    valores = {} # <ano>: <valor> tudo como string\n",
    "    # ano e valor\n",
    "    for obs in series.findall(\"generic:Obs\", ns):\n",
    "        ano = obs[0].text\n",
    "        valor = obs[1].attrib[\"value\"]\n",
    "        valores[ano] = valor\n",
    "\n",
    "    dadosEntry = {}\n",
    "    dadosEntry[\"ind\"] = indicador\n",
    "    dadosEntry[\"local\"] = loc\n",
    "    dadosEntry[\"valores\"] = valores\n",
    "\n",
    "    dados.append(dadosEntry)\n",
    "\n",
    "print(dados[0])\n",
    "    "
   ]
  },
  {
   "cell_type": "code",
   "execution_count": 3,
   "metadata": {},
   "outputs": [],
   "source": [
    "# get description\n",
    "\n",
    "import io\n",
    "import requests\n",
    "import xml.etree.ElementTree as et\n",
    "\n",
    "url = \"http://data.uis.unesco.org/RestSDMX/sdmx.ashx/GetDataStructure/DEMO_DS\"\n",
    "data = requests.get(url).content\n",
    "root = et.parse(io.StringIO(data.decode(\"utf-8\")))\n",
    "\n",
    "code_dict = {}\n",
    "\n",
    "ns = {\n",
    "    \"gen\": \"http://www.SDMX.org/resources/SDMXML/schemas/v2_0/structure\",\n",
    "    \"message\": \"http://www.SDMX.org/resources/SDMXML/schemas/v2_0/message\" \n",
    "}\n",
    "\n",
    "ind_list = root.find(\"message:CodeLists\", ns).find(\"gen:CodeList\", ns)\n",
    "\n",
    "for ind in ind_list.findall(\"gen:Code\", ns):\n",
    "    code = ind.attrib[\"value\"]\n",
    "    desc = ind.find(\"gen:Description\", ns).text\n",
    "\n",
    "    code_dict[code] = desc\n",
    "\n",
    "\n"
   ]
  },
  {
   "cell_type": "code",
   "execution_count": null,
   "metadata": {},
   "outputs": [],
   "source": []
  }
 ]
}