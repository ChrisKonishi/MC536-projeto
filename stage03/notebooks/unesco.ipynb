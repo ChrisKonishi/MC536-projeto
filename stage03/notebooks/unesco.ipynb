{
 "metadata": {
  "language_info": {
   "codemirror_mode": {
    "name": "ipython",
    "version": 3
   },
   "file_extension": ".py",
   "mimetype": "text/x-python",
   "name": "python",
   "nbconvert_exporter": "python",
   "pygments_lexer": "ipython3",
   "version": "3.8.3-final"
  },
  "orig_nbformat": 2,
  "kernelspec": {
   "name": "python3",
   "display_name": "Python 3"
  }
 },
 "nbformat": 4,
 "nbformat_minor": 2,
 "cells": [
  {
   "cell_type": "code",
   "execution_count": 29,
   "metadata": {
    "tags": []
   },
   "outputs": [
    {
     "output_type": "stream",
     "name": "stdout",
     "text": [
      "<Element '{http://www.SDMX.org/resources/SDMXML/schemas/v2_0/generic}DataSet' at 0x0000025953FBDB30>\n"
     ]
    }
   ],
   "source": [
    "import xml.etree.ElementTree as et\n",
    "import sqlite3\n",
    "\n",
    "data_path = \"./datasets/unesco_socio_economics.xml\"\n",
    "root = et.parse(data_path).getroot()\n",
    "\n",
    "ns = {\n",
    "    \"generic\": \"http://www.SDMX.org/resources/SDMXML/schemas/v2_0/generic\",\n",
    "    \"common\": \"http://www.SDMX.org/resources/SDMXML/schemas/v2_0/common\",\n",
    "    \"xsi\": \"http://www.w3.org/2001/XMLSchema-instance\",\n",
    "    \"message\": \"http://www.SDMX.org/resources/SDMXML/schemas/v2_0/message\"\n",
    "}\n",
    "\n",
    "dataset = root.find(\"generic:DataSet\", ns)\n",
    "print(dataset)"
   ]
  },
  {
   "cell_type": "code",
   "execution_count": null,
   "metadata": {},
   "outputs": [],
   "source": []
  }
 ]
}